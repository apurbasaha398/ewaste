{
 "cells": [
  {
   "cell_type": "code",
   "execution_count": 1,
   "metadata": {},
   "outputs": [],
   "source": [
    "import pandas as pd\n",
    "import gurobipy as gp\n",
    "from gurobipy import GRB\n",
    "import gurobipy_pandas as gppd\n",
    "\n",
    "gppd.set_interactive()\n",
    "pd.set_option('display.max_colwidth',1000)"
   ]
  },
  {
   "cell_type": "code",
   "execution_count": 2,
   "metadata": {},
   "outputs": [
    {
     "name": "stdout",
     "output_type": "stream",
     "text": [
      "Set parameter Username\n",
      "Academic license - for non-commercial use only - expires 2025-03-03\n"
     ]
    }
   ],
   "source": [
    "env = gp.Env()"
   ]
  },
  {
   "cell_type": "markdown",
   "metadata": {},
   "source": [
    "## Data"
   ]
  },
  {
   "cell_type": "code",
   "execution_count": 3,
   "metadata": {},
   "outputs": [],
   "source": [
    "import os\n",
    "\n",
    "data_path = os.path.join(os.path.abspath(os.path.join(os.getcwd(), os.pardir)), \"artifacts\", \"input_data.xlsx\")\n",
    "shredder_data = pd.read_excel(data_path, sheet_name='E-waste Collector')\n",
    "oxide_producer_data = pd.read_excel(data_path, sheet_name='Oxide Producer')\n",
    "fluoride_producer_data = pd.read_excel(data_path, sheet_name='Flouride Producer')\n",
    "metal_producer_data = pd.read_excel(data_path, sheet_name='Metal Producer')\n",
    "magnet_producer_data = pd.read_excel(data_path, sheet_name='Magnet Producer')\n",
    "\n",
    "# Create dictionaries for shredder and oxide producer coordinates\n",
    "shredders = {row['Code']: (row['Latitude'], row['Longitude']) for index, row in shredder_data.iterrows()}\n",
    "oxide_producers = {row['Code']: (row['Latitude'], row['Longitude']) for index, row in oxide_producer_data.iterrows()}\n",
    "fluoride_producers = {row['Code']: (row['Latitude'], row['Longitude']) for index, row in fluoride_producer_data.iterrows()}\n",
    "metal_producers = {row['Code']: (row['Latitude'], row['Longitude']) for index, row in metal_producer_data.iterrows()}\n",
    "magnet_producers = {row['Code']: (row['Latitude'], row['Longitude']) for index, row in magnet_producer_data.iterrows()}"
   ]
  },
  {
   "cell_type": "code",
   "execution_count": 4,
   "metadata": {},
   "outputs": [
    {
     "data": {
      "text/plain": [
       "{'FP01': (41.55164, -81.56897),\n",
       " 'FP02': (33.6469, -117.6892),\n",
       " 'FP03': (34.0522, -118.2437),\n",
       " 'FP04': (36.153981, -95.992775),\n",
       " 'FP05': (42.3765, -71.2356),\n",
       " 'FP06': (42.1946, -122.7095)}"
      ]
     },
     "execution_count": 4,
     "metadata": {},
     "output_type": "execute_result"
    }
   ],
   "source": [
    "fluoride_producers"
   ]
  },
  {
   "cell_type": "code",
   "execution_count": 5,
   "metadata": {},
   "outputs": [
    {
     "data": {
      "text/plain": [
       "{'MP01': (41.5931, -81.5268),\n",
       " 'MP02': (36.1699, -115.1398),\n",
       " 'MP03': (39.7047, -105.0814)}"
      ]
     },
     "execution_count": 5,
     "metadata": {},
     "output_type": "execute_result"
    }
   ],
   "source": [
    "metal_producers"
   ]
  },
  {
   "cell_type": "code",
   "execution_count": 6,
   "metadata": {},
   "outputs": [
    {
     "data": {
      "text/plain": [
       "{'MAG01': (36.16129, -97.05841),\n",
       " 'MAG02': (29.83952, -97.959328),\n",
       " 'MAG03': (38.21193, -85.52792),\n",
       " 'MAG04': (33.93027, -80.36748),\n",
       " 'MAG05': (43.12161, -77.50457),\n",
       " 'MAG06': (40.07451, -76.41808),\n",
       " 'MAG07': (32.98333, -97.24985)}"
      ]
     },
     "execution_count": 6,
     "metadata": {},
     "output_type": "execute_result"
    }
   ],
   "source": [
    "magnet_producers"
   ]
  },
  {
   "cell_type": "code",
   "execution_count": 7,
   "metadata": {},
   "outputs": [
    {
     "data": {
      "text/plain": [
       "{'S01': (39.77827, -86.10238),\n",
       " 'S02': (39.01641, -85.63431),\n",
       " 'S03': (39.68803, -86.33919),\n",
       " 'S04': (33.282551, -81.955757),\n",
       " 'S05': (38.71697, -90.14768),\n",
       " 'S06': (41.03316, -85.05787),\n",
       " 'S07': (32.81707, -97.30587),\n",
       " 'S08': (39.48434, -84.41148),\n",
       " 'S09': (40.66127, -74.00459)}"
      ]
     },
     "execution_count": 7,
     "metadata": {},
     "output_type": "execute_result"
    }
   ],
   "source": [
    "shredders"
   ]
  },
  {
   "cell_type": "code",
   "execution_count": 8,
   "metadata": {},
   "outputs": [],
   "source": [
    "from src.utils import calculate_transportation_cost\n",
    "import time\n",
    "\n",
    "shredder_to_oxide_tc = calculate_transportation_cost(shredders, oxide_producers)\n",
    "time.sleep(5.5)\n",
    "oxide_to_fluoride_tc = calculate_transportation_cost(oxide_producers, fluoride_producers)\n",
    "time.sleep(5.5)\n",
    "fluoride_to_metal_tc = calculate_transportation_cost(fluoride_producers, metal_producers)\n",
    "time.sleep(5.5)\n",
    "metal_to_magnet_tc = calculate_transportation_cost(metal_producers, magnet_producers)\n",
    "time.sleep(5.5)"
   ]
  },
  {
   "cell_type": "code",
   "execution_count": 9,
   "metadata": {},
   "outputs": [
    {
     "data": {
      "text/html": [
       "<div>\n",
       "<style scoped>\n",
       "    .dataframe tbody tr th:only-of-type {\n",
       "        vertical-align: middle;\n",
       "    }\n",
       "\n",
       "    .dataframe tbody tr th {\n",
       "        vertical-align: top;\n",
       "    }\n",
       "\n",
       "    .dataframe thead th {\n",
       "        text-align: right;\n",
       "    }\n",
       "</style>\n",
       "<table border=\"1\" class=\"dataframe\">\n",
       "  <thead>\n",
       "    <tr style=\"text-align: right;\">\n",
       "      <th></th>\n",
       "      <th>index</th>\n",
       "      <th>MAG01</th>\n",
       "      <th>MAG02</th>\n",
       "      <th>MAG03</th>\n",
       "      <th>MAG04</th>\n",
       "      <th>MAG05</th>\n",
       "      <th>MAG06</th>\n",
       "      <th>MAG07</th>\n",
       "    </tr>\n",
       "  </thead>\n",
       "  <tbody>\n",
       "    <tr>\n",
       "      <th>0</th>\n",
       "      <td>MP01</td>\n",
       "      <td>370.090621</td>\n",
       "      <td>512.366163</td>\n",
       "      <td>129.781774</td>\n",
       "      <td>228.005443</td>\n",
       "      <td>91.428511</td>\n",
       "      <td>130.348168</td>\n",
       "      <td>441.808766</td>\n",
       "    </tr>\n",
       "    <tr>\n",
       "      <th>1</th>\n",
       "      <td>MP02</td>\n",
       "      <td>426.428449</td>\n",
       "      <td>473.535089</td>\n",
       "      <td>679.129507</td>\n",
       "      <td>802.443387</td>\n",
       "      <td>842.21241</td>\n",
       "      <td>870.371481</td>\n",
       "      <td>428.407695</td>\n",
       "    </tr>\n",
       "    <tr>\n",
       "      <th>2</th>\n",
       "      <td>MP03</td>\n",
       "      <td>232.849988</td>\n",
       "      <td>336.132054</td>\n",
       "      <td>406.794587</td>\n",
       "      <td>593.788385</td>\n",
       "      <td>576.408466</td>\n",
       "      <td>604.567761</td>\n",
       "      <td>274.90539</td>\n",
       "    </tr>\n",
       "  </tbody>\n",
       "</table>\n",
       "</div>"
      ],
      "text/plain": [
       "  index       MAG01       MAG02       MAG03       MAG04       MAG05  \\\n",
       "0  MP01  370.090621  512.366163  129.781774  228.005443   91.428511   \n",
       "1  MP02  426.428449  473.535089  679.129507  802.443387   842.21241   \n",
       "2  MP03  232.849988  336.132054  406.794587  593.788385  576.408466   \n",
       "\n",
       "        MAG06       MAG07  \n",
       "0  130.348168  441.808766  \n",
       "1  870.371481  428.407695  \n",
       "2  604.567761   274.90539  "
      ]
     },
     "execution_count": 9,
     "metadata": {},
     "output_type": "execute_result"
    }
   ],
   "source": [
    "metal_to_magnet_tc"
   ]
  },
  {
   "cell_type": "code",
   "execution_count": 10,
   "metadata": {},
   "outputs": [],
   "source": [
    "from src.utils import add_sheet_to_excelbook\n",
    "add_sheet_to_excelbook(data_path, \"Shredder-Oxide TC\", shredder_to_oxide_tc)\n",
    "add_sheet_to_excelbook(data_path, \"Oxide-Fluoride TC\", oxide_to_fluoride_tc)\n",
    "add_sheet_to_excelbook(data_path, \"Fluoride-Metal TC\", fluoride_to_metal_tc)\n",
    "add_sheet_to_excelbook(data_path, \"Metal-Magnet TC\", metal_to_magnet_tc)"
   ]
  }
 ],
 "metadata": {
  "kernelspec": {
   "display_name": "Python 3",
   "language": "python",
   "name": "python3"
  },
  "language_info": {
   "codemirror_mode": {
    "name": "ipython",
    "version": 3
   },
   "file_extension": ".py",
   "mimetype": "text/x-python",
   "name": "python",
   "nbconvert_exporter": "python",
   "pygments_lexer": "ipython3",
   "version": "3.8.19"
  }
 },
 "nbformat": 4,
 "nbformat_minor": 2
}
