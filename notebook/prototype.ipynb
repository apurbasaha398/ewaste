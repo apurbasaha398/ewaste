{
 "cells": [
  {
   "cell_type": "code",
   "execution_count": 1,
   "metadata": {},
   "outputs": [],
   "source": [
    "import pandas as pd\n",
    "import gurobipy as gp\n",
    "from gurobipy import GRB\n",
    "import gurobipy_pandas as gppd\n",
    "\n",
    "gppd.set_interactive()\n",
    "pd.set_option('display.max_colwidth',1000)"
   ]
  },
  {
   "cell_type": "code",
   "execution_count": 2,
   "metadata": {},
   "outputs": [
    {
     "name": "stdout",
     "output_type": "stream",
     "text": [
      "Set parameter Username\n",
      "Academic license - for non-commercial use only - expires 2025-03-03\n"
     ]
    }
   ],
   "source": [
    "env = gp.Env()"
   ]
  },
  {
   "cell_type": "markdown",
   "metadata": {},
   "source": [
    "## Data"
   ]
  },
  {
   "cell_type": "code",
   "execution_count": 3,
   "metadata": {},
   "outputs": [],
   "source": [
    "import os\n",
    "\n",
    "data_path = os.path.join(os.path.abspath(os.path.join(os.getcwd(), os.pardir)), \"artifacts\", \"input_data.xlsx\")\n",
    "waste_source_data = pd.read_excel(data_path, sheet_name='Waste Source')\n",
    "shredder_data = pd.read_excel(data_path, sheet_name='E-waste Collector')\n",
    "oxide_producer_data = pd.read_excel(data_path, sheet_name='Oxide Producer')\n",
    "fluoride_producer_data = pd.read_excel(data_path, sheet_name='Flouride Producer')\n",
    "metal_producer_data = pd.read_excel(data_path, sheet_name='Metal Producer')\n",
    "magnet_producer_data = pd.read_excel(data_path, sheet_name='Magnet Producer')\n",
    "\n",
    "# Create dictionaries for shredder and oxide producer coordinates\n",
    "waste_source = {row['Code']: (row['Latitude'], row['Longitude']) for index, row in waste_source_data.iterrows()}\n",
    "shredders = {row['Code']: (row['Latitude'], row['Longitude']) for index, row in shredder_data.iterrows()}\n",
    "oxide_producers = {row['Code']: (row['Latitude'], row['Longitude']) for index, row in oxide_producer_data.iterrows()}\n",
    "fluoride_producers = {row['Code']: (row['Latitude'], row['Longitude']) for index, row in fluoride_producer_data.iterrows()}\n",
    "metal_producers = {row['Code']: (row['Latitude'], row['Longitude']) for index, row in metal_producer_data.iterrows()}\n",
    "magnet_producers = {row['Code']: (row['Latitude'], row['Longitude']) for index, row in magnet_producer_data.iterrows()}"
   ]
  },
  {
   "cell_type": "code",
   "execution_count": 4,
   "metadata": {},
   "outputs": [
    {
     "data": {
      "text/plain": [
       "year\n",
       "Y1     122000.000000\n",
       "Y2     126001.600000\n",
       "Y3     130134.452480\n",
       "Y4     134402.862521\n",
       "Y5     138811.276412\n",
       "Y6     143364.286278\n",
       "Y7     148066.634868\n",
       "Y8     152923.220492\n",
       "Y9     157939.102124\n",
       "Y10    163119.504674\n",
       "Name: Price, dtype: float64"
      ]
     },
     "execution_count": 4,
     "metadata": {},
     "output_type": "execute_result"
    }
   ],
   "source": [
    "\n",
    "price = pd.read_excel(data_path, sheet_name='REE Price')\n",
    "price.set_index(\"Year\", inplace = True)\n",
    "price = price[\"Price\"]\n",
    "price.index.name = \"year\"\n",
    "price"
   ]
  },
  {
   "cell_type": "code",
   "execution_count": 5,
   "metadata": {},
   "outputs": [],
   "source": [
    "MARR = 0.08"
   ]
  },
  {
   "cell_type": "code",
   "execution_count": 6,
   "metadata": {},
   "outputs": [
    {
     "data": {
      "text/plain": [
       "from\n",
       "W1    8258.035\n",
       "W2    3820.914\n",
       "W3    2664.452\n",
       "W4    2314.157\n",
       "W5    1650.070\n",
       "Name: volume (ton), dtype: float64"
      ]
     },
     "execution_count": 6,
     "metadata": {},
     "output_type": "execute_result"
    }
   ],
   "source": [
    "waste_volume = pd.read_excel(data_path, sheet_name='Waste Volume')\n",
    "waste_volume.set_index('Code', inplace=True)\n",
    "waste_volume = waste_volume['volume (ton)']\n",
    "waste_volume.index.name = \"from\"\n",
    "waste_volume.head()"
   ]
  },
  {
   "cell_type": "code",
   "execution_count": 7,
   "metadata": {},
   "outputs": [
    {
     "data": {
      "text/plain": [
       "from  year\n",
       "S01   Y1      3611.000000\n",
       "S02   Y1      3933.086683\n",
       "S03   Y1      4128.153266\n",
       "S04   Y1      2912.389447\n",
       "S05   Y1      4128.153266\n",
       "Name: shredder_oc, dtype: float64"
      ]
     },
     "execution_count": 7,
     "metadata": {},
     "output_type": "execute_result"
    }
   ],
   "source": [
    "oc_shredder = pd.read_excel(data_path, sheet_name='Shredder_OC')\n",
    "year_index = [\"Y1\", \"Y2\", \"Y3\", \"Y4\", \"Y5\", \"Y6\", \"Y7\", \"Y8\", \"Y9\", \"Y10\"]\n",
    "oc_shredder = pd.melt(oc_shredder, id_vars=[\"Code\"], value_vars=year_index, var_name=\"Year\", value_name=\"shredder_oc\")\n",
    "oc_shredder.set_index([\"Code\", \"Year\"], inplace=True)\n",
    "oc_shredder = oc_shredder[\"shredder_oc\"]\n",
    "oc_shredder.index.names = [\"from\", \"year\"]\n",
    "oc_shredder.head()"
   ]
  },
  {
   "cell_type": "code",
   "execution_count": 8,
   "metadata": {},
   "outputs": [
    {
     "data": {
      "text/plain": [
       "from  year\n",
       "OP01  Y1      7789.251256\n",
       "OP02  Y1      7702.428392\n",
       "OP03  Y1      8806.319095\n",
       "OP04  Y1      7702.428392\n",
       "OP05  Y1      7255.910804\n",
       "Name: oxide_oc, dtype: float64"
      ]
     },
     "execution_count": 8,
     "metadata": {},
     "output_type": "execute_result"
    }
   ],
   "source": [
    "oc_oxide = pd.read_excel(data_path, sheet_name='Oxide_OC')\n",
    "year_index = [\"Y1\", \"Y2\", \"Y3\", \"Y4\", \"Y5\", \"Y6\", \"Y7\", \"Y8\", \"Y9\", \"Y10\"]\n",
    "oc_oxide = pd.melt(oc_oxide, id_vars=[\"Code\"], value_vars=year_index, var_name=\"Year\", value_name=\"oxide_oc\")\n",
    "oc_oxide.set_index([\"Code\", \"Year\"], inplace=True)\n",
    "oc_oxide = oc_oxide[\"oxide_oc\"]\n",
    "oc_oxide.index.names = [\"from\", \"year\"]\n",
    "oc_oxide.head()"
   ]
  },
  {
   "cell_type": "code",
   "execution_count": 9,
   "metadata": {},
   "outputs": [
    {
     "data": {
      "text/plain": [
       "from  year\n",
       "FP01  Y1      13000.000000\n",
       "FP02  Y1      13395.818048\n",
       "FP03  Y1      13395.818048\n",
       "FP04  Y1      13047.688921\n",
       "FP05  Y1      13722.487161\n",
       "Name: fluoride_oc, dtype: float64"
      ]
     },
     "execution_count": 9,
     "metadata": {},
     "output_type": "execute_result"
    }
   ],
   "source": [
    "oc_fluoride = pd.read_excel(data_path, sheet_name='Fluoride_OC')\n",
    "year_index = [\"Y1\", \"Y2\", \"Y3\", \"Y4\", \"Y5\", \"Y6\", \"Y7\", \"Y8\", \"Y9\", \"Y10\"]\n",
    "oc_fluoride = pd.melt(oc_fluoride, id_vars=[\"Code\"], value_vars=year_index, var_name=\"Year\", value_name=\"fluoride_oc\")\n",
    "oc_fluoride.set_index([\"Code\", \"Year\"], inplace=True)\n",
    "oc_fluoride = oc_fluoride['fluoride_oc']\n",
    "oc_fluoride.index.names = [\"from\", \"year\"]\n",
    "oc_fluoride.head()"
   ]
  },
  {
   "cell_type": "code",
   "execution_count": 10,
   "metadata": {},
   "outputs": [
    {
     "data": {
      "text/plain": [
       "from  year\n",
       "MP01  Y1       72899.000000\n",
       "MP02  Y1      194427.860553\n",
       "MP03  Y1       56872.209799\n",
       "MP01  Y2       75290.087200\n",
       "MP02  Y2      200805.094379\n",
       "Name: ree_oc, dtype: float64"
      ]
     },
     "execution_count": 10,
     "metadata": {},
     "output_type": "execute_result"
    }
   ],
   "source": [
    "oc_ree = pd.read_excel(data_path, sheet_name='REE_OC')\n",
    "year_index = [\"Y1\", \"Y2\", \"Y3\", \"Y4\", \"Y5\", \"Y6\", \"Y7\", \"Y8\", \"Y9\", \"Y10\"]\n",
    "oc_ree = pd.melt(oc_ree, id_vars=[\"Code\"], value_vars=year_index, var_name=\"Year\", value_name=\"ree_oc\")\n",
    "oc_ree.set_index([\"Code\", \"Year\"], inplace=True)\n",
    "oc_ree = oc_ree['ree_oc']\n",
    "oc_ree.index.names = [\"from\", \"year\"]\n",
    "oc_ree.head()"
   ]
  },
  {
   "cell_type": "code",
   "execution_count": 11,
   "metadata": {},
   "outputs": [
    {
     "data": {
      "text/plain": [
       "from  year\n",
       "S01   Y1      0\n",
       "S02   Y1      0\n",
       "S03   Y1      0\n",
       "S04   Y1      0\n",
       "S05   Y1      0\n",
       "Name: shredder_fc, dtype: int64"
      ]
     },
     "execution_count": 11,
     "metadata": {},
     "output_type": "execute_result"
    }
   ],
   "source": [
    "fc_shredder = pd.read_excel(data_path, sheet_name='Shredder_FC')\n",
    "year_index = [\"Y1\", \"Y2\", \"Y3\", \"Y4\", \"Y5\", \"Y6\", \"Y7\", \"Y8\", \"Y9\", \"Y10\"]\n",
    "fc_shredder = pd.melt(fc_shredder, id_vars=[\"Code\"], value_vars=year_index, var_name=\"Year\", value_name=\"shredder_fc\")\n",
    "fc_shredder.set_index([\"Code\", \"Year\"], inplace=True)\n",
    "fc_shredder = fc_shredder['shredder_fc']\n",
    "fc_shredder.index.names = [\"from\", \"year\"]\n",
    "fc_shredder.head()"
   ]
  },
  {
   "cell_type": "code",
   "execution_count": 12,
   "metadata": {},
   "outputs": [
    {
     "data": {
      "text/plain": [
       "from  year\n",
       "OP01  Y1      134382.719638\n",
       "OP02  Y1      142479.940288\n",
       "OP03  Y1      147852.134758\n",
       "OP04  Y1      140027.416726\n",
       "OP05  Y1      139365.624654\n",
       "Name: oxide_fc, dtype: float64"
      ]
     },
     "execution_count": 12,
     "metadata": {},
     "output_type": "execute_result"
    }
   ],
   "source": [
    "fc_oxide = pd.read_excel(data_path, sheet_name='Oxide_FC')\n",
    "year_index = [\"Y1\", \"Y2\", \"Y3\", \"Y4\", \"Y5\", \"Y6\", \"Y7\", \"Y8\", \"Y9\", \"Y10\"]\n",
    "fc_oxide = pd.melt(fc_oxide, id_vars=[\"Code\"], value_vars=year_index, var_name=\"Year\", value_name=\"oxide_fc\")\n",
    "fc_oxide.set_index([\"Code\", \"Year\"], inplace=True)\n",
    "fc_oxide = fc_oxide['oxide_fc']\n",
    "fc_oxide.index.names = [\"from\", \"year\"]\n",
    "fc_oxide.head()"
   ]
  },
  {
   "cell_type": "code",
   "execution_count": 13,
   "metadata": {},
   "outputs": [
    {
     "data": {
      "text/plain": [
       "from  year\n",
       "FP01  Y1      0\n",
       "FP02  Y1      0\n",
       "FP03  Y1      0\n",
       "FP04  Y1      0\n",
       "FP05  Y1      0\n",
       "Name: fluoride_fc, dtype: int64"
      ]
     },
     "execution_count": 13,
     "metadata": {},
     "output_type": "execute_result"
    }
   ],
   "source": [
    "fc_fluoride = pd.read_excel(data_path, sheet_name='Fluoride_FC')\n",
    "year_index = [\"Y1\", \"Y2\", \"Y3\", \"Y4\", \"Y5\", \"Y6\", \"Y7\", \"Y8\", \"Y9\", \"Y10\"]\n",
    "fc_fluoride = pd.melt(fc_fluoride, id_vars=[\"Code\"], value_vars=year_index, var_name=\"Year\", value_name=\"fluoride_fc\")\n",
    "fc_fluoride.set_index([\"Code\", \"Year\"], inplace=True)\n",
    "fc_fluoride = fc_fluoride['fluoride_fc']\n",
    "fc_fluoride.index.names = [\"from\", \"year\"]\n",
    "fc_fluoride.head()"
   ]
  },
  {
   "cell_type": "code",
   "execution_count": 14,
   "metadata": {},
   "outputs": [
    {
     "data": {
      "text/plain": [
       "from  year\n",
       "MP01  Y1      0\n",
       "MP02  Y1      0\n",
       "MP03  Y1      0\n",
       "MP01  Y2      0\n",
       "MP02  Y2      0\n",
       "Name: ree_fc, dtype: int64"
      ]
     },
     "execution_count": 14,
     "metadata": {},
     "output_type": "execute_result"
    }
   ],
   "source": [
    "fc_ree = pd.read_excel(data_path, sheet_name='REE_FC')\n",
    "year_index = [\"Y1\", \"Y2\", \"Y3\", \"Y4\", \"Y5\", \"Y6\", \"Y7\", \"Y8\", \"Y9\", \"Y10\"]\n",
    "fc_ree = pd.melt(fc_ree, id_vars=[\"Code\"], value_vars=year_index, var_name=\"Year\", value_name=\"ree_fc\")\n",
    "fc_ree.set_index([\"Code\", \"Year\"], inplace=True)\n",
    "fc_ree= fc_ree['ree_fc']\n",
    "fc_ree.index.names = [\"from\", \"year\"]\n",
    "fc_ree.head()"
   ]
  },
  {
   "cell_type": "code",
   "execution_count": 15,
   "metadata": {},
   "outputs": [],
   "source": [
    "conv1 = 0.089 # conversion factor from shredded HDD to initial oxalate\n",
    "conv2 = 0.083 # conversion factor from oxalate to oxides\n",
    "conv3 = 1.074 # conversion fcator from oxides to fluorides\n",
    "conv4 = 0.72 # conversion factor from fluorides to metals\n",
    "w = 0.3 # Tax credit as percentage of capital cost"
   ]
  },
  {
   "cell_type": "code",
   "execution_count": 16,
   "metadata": {},
   "outputs": [],
   "source": [
    "inflation_rate = 0.0328"
   ]
  },
  {
   "cell_type": "code",
   "execution_count": 17,
   "metadata": {},
   "outputs": [],
   "source": [
    "shredder_cap = pd.read_excel(data_path, sheet_name='Shredder Capacity')\n",
    "oxide_cap = pd.read_excel(data_path, sheet_name='Oxide Capacity')\n",
    "fluoride_cap = pd.read_excel(data_path, sheet_name='Fluoride Capacity')\n",
    "metal_cap = pd.read_excel(data_path, sheet_name='REE Capacity')"
   ]
  },
  {
   "cell_type": "code",
   "execution_count": 18,
   "metadata": {},
   "outputs": [
    {
     "data": {
      "text/plain": [
       "from\n",
       "S01      648.000000\n",
       "S02       21.277877\n",
       "S03     4610.206595\n",
       "S04     7979.203721\n",
       "S05     8865.781913\n",
       "           ...     \n",
       "S654     648.000000\n",
       "S655     648.000000\n",
       "S656     648.000000\n",
       "S657     648.000000\n",
       "S658     648.000000\n",
       "Name: Capacity, Length: 658, dtype: float64"
      ]
     },
     "execution_count": 18,
     "metadata": {},
     "output_type": "execute_result"
    }
   ],
   "source": [
    "shredder_cap.set_index(\"Code\", inplace=True)\n",
    "shredder_cap = shredder_cap['Capacity']\n",
    "shredder_cap.index.name = \"from\"\n",
    "shredder_cap"
   ]
  },
  {
   "cell_type": "code",
   "execution_count": 19,
   "metadata": {},
   "outputs": [
    {
     "data": {
      "text/plain": [
       "'\\nshredder_cap_copy = pd.read_excel(data_path, sheet_name=\\'Shredder Capacity\\')\\nshredder_cap_copy.set_index(\"Code\", inplace=True)\\nshredder_cap_copy = shredder_cap_copy[\\'Capacity\\']\\nshredder_cap_copy.index.name = \"to\"\\nshredder_cap_copy\\n'"
      ]
     },
     "execution_count": 19,
     "metadata": {},
     "output_type": "execute_result"
    }
   ],
   "source": [
    "'''\n",
    "shredder_cap_copy = pd.read_excel(data_path, sheet_name='Shredder Capacity')\n",
    "shredder_cap_copy.set_index(\"Code\", inplace=True)\n",
    "shredder_cap_copy = shredder_cap_copy['Capacity']\n",
    "shredder_cap_copy.index.name = \"to\"\n",
    "shredder_cap_copy\n",
    "'''"
   ]
  },
  {
   "cell_type": "code",
   "execution_count": 20,
   "metadata": {},
   "outputs": [
    {
     "data": {
      "text/plain": [
       "from\n",
       "OP01    54\n",
       "OP02    54\n",
       "OP03    54\n",
       "OP04    54\n",
       "OP05    54\n",
       "        ..\n",
       "OP61    54\n",
       "OP62    54\n",
       "OP63    54\n",
       "OP64    54\n",
       "OP65    54\n",
       "Name: Capacity, Length: 65, dtype: int64"
      ]
     },
     "execution_count": 20,
     "metadata": {},
     "output_type": "execute_result"
    }
   ],
   "source": [
    "oxide_cap.set_index(\"Code\", inplace=True)\n",
    "oxide_cap = oxide_cap['Capacity']\n",
    "oxide_cap.index.name = \"from\"\n",
    "oxide_cap"
   ]
  },
  {
   "cell_type": "code",
   "execution_count": 21,
   "metadata": {},
   "outputs": [
    {
     "data": {
      "text/plain": [
       "from\n",
       "FP01    58\n",
       "FP02    58\n",
       "FP03    58\n",
       "FP04    58\n",
       "FP05    58\n",
       "FP06    58\n",
       "Name: Capacity, dtype: int64"
      ]
     },
     "execution_count": 21,
     "metadata": {},
     "output_type": "execute_result"
    }
   ],
   "source": [
    "fluoride_cap.set_index(\"Code\", inplace=True)\n",
    "fluoride_cap = fluoride_cap['Capacity']\n",
    "fluoride_cap.index.name = \"from\"\n",
    "fluoride_cap"
   ]
  },
  {
   "cell_type": "code",
   "execution_count": 22,
   "metadata": {},
   "outputs": [
    {
     "data": {
      "text/plain": [
       "from\n",
       "MP01      41\n",
       "MP02     150\n",
       "MP03    1000\n",
       "Name: Capacity, dtype: int64"
      ]
     },
     "execution_count": 22,
     "metadata": {},
     "output_type": "execute_result"
    }
   ],
   "source": [
    "metal_cap.set_index(\"Code\", inplace=True)\n",
    "metal_cap = metal_cap['Capacity']\n",
    "metal_cap.index.name = \"from\"\n",
    "metal_cap"
   ]
  },
  {
   "cell_type": "code",
   "execution_count": 23,
   "metadata": {},
   "outputs": [
    {
     "data": {
      "text/html": [
       "<div>\n",
       "<style scoped>\n",
       "    .dataframe tbody tr th:only-of-type {\n",
       "        vertical-align: middle;\n",
       "    }\n",
       "\n",
       "    .dataframe tbody tr th {\n",
       "        vertical-align: top;\n",
       "    }\n",
       "\n",
       "    .dataframe thead th {\n",
       "        text-align: right;\n",
       "    }\n",
       "</style>\n",
       "<table border=\"1\" class=\"dataframe\">\n",
       "  <thead>\n",
       "    <tr style=\"text-align: right;\">\n",
       "      <th></th>\n",
       "      <th>index</th>\n",
       "      <th>OP01</th>\n",
       "      <th>OP02</th>\n",
       "      <th>OP03</th>\n",
       "      <th>OP04</th>\n",
       "      <th>OP05</th>\n",
       "      <th>OP06</th>\n",
       "      <th>OP07</th>\n",
       "      <th>OP08</th>\n",
       "      <th>OP09</th>\n",
       "      <th>...</th>\n",
       "      <th>OP56</th>\n",
       "      <th>OP57</th>\n",
       "      <th>OP58</th>\n",
       "      <th>OP59</th>\n",
       "      <th>OP60</th>\n",
       "      <th>OP61</th>\n",
       "      <th>OP62</th>\n",
       "      <th>OP63</th>\n",
       "      <th>OP64</th>\n",
       "      <th>OP65</th>\n",
       "    </tr>\n",
       "  </thead>\n",
       "  <tbody>\n",
       "    <tr>\n",
       "      <th>0</th>\n",
       "      <td>S01</td>\n",
       "      <td>334.407348</td>\n",
       "      <td>488.348682</td>\n",
       "      <td>564.060175</td>\n",
       "      <td>485.621957</td>\n",
       "      <td>90.927425</td>\n",
       "      <td>183.035852</td>\n",
       "      <td>275.984457</td>\n",
       "      <td>270.420928</td>\n",
       "      <td>277.394211</td>\n",
       "      <td>...</td>\n",
       "      <td>374.883217</td>\n",
       "      <td>1.098491</td>\n",
       "      <td>17.322992</td>\n",
       "      <td>57.706791</td>\n",
       "      <td>531.452322</td>\n",
       "      <td>79.657983</td>\n",
       "      <td>696.861825</td>\n",
       "      <td>264.607448</td>\n",
       "      <td>159.607079</td>\n",
       "      <td>156.414433</td>\n",
       "    </tr>\n",
       "    <tr>\n",
       "      <th>1</th>\n",
       "      <td>S02</td>\n",
       "      <td>329.271919</td>\n",
       "      <td>501.179926</td>\n",
       "      <td>579.118630</td>\n",
       "      <td>498.013921</td>\n",
       "      <td>74.482482</td>\n",
       "      <td>183.409096</td>\n",
       "      <td>273.018561</td>\n",
       "      <td>267.698212</td>\n",
       "      <td>274.655395</td>\n",
       "      <td>...</td>\n",
       "      <td>375.247801</td>\n",
       "      <td>21.249216</td>\n",
       "      <td>17.778701</td>\n",
       "      <td>73.857514</td>\n",
       "      <td>548.587929</td>\n",
       "      <td>98.201676</td>\n",
       "      <td>708.259641</td>\n",
       "      <td>267.194946</td>\n",
       "      <td>142.142945</td>\n",
       "      <td>172.878489</td>\n",
       "    </tr>\n",
       "    <tr>\n",
       "      <th>2</th>\n",
       "      <td>S03</td>\n",
       "      <td>329.528755</td>\n",
       "      <td>484.346550</td>\n",
       "      <td>560.552164</td>\n",
       "      <td>481.538696</td>\n",
       "      <td>88.137240</td>\n",
       "      <td>177.980781</td>\n",
       "      <td>270.998559</td>\n",
       "      <td>265.426105</td>\n",
       "      <td>272.399187</td>\n",
       "      <td>...</td>\n",
       "      <td>369.826365</td>\n",
       "      <td>3.995813</td>\n",
       "      <td>13.493944</td>\n",
       "      <td>54.236763</td>\n",
       "      <td>528.557834</td>\n",
       "      <td>82.448202</td>\n",
       "      <td>692.624648</td>\n",
       "      <td>269.651482</td>\n",
       "      <td>162.253392</td>\n",
       "      <td>153.220321</td>\n",
       "    </tr>\n",
       "    <tr>\n",
       "      <th>3</th>\n",
       "      <td>S04</td>\n",
       "      <td>341.867587</td>\n",
       "      <td>619.530380</td>\n",
       "      <td>708.982162</td>\n",
       "      <td>613.881510</td>\n",
       "      <td>121.805879</td>\n",
       "      <td>258.872542</td>\n",
       "      <td>309.576508</td>\n",
       "      <td>306.807535</td>\n",
       "      <td>312.495259</td>\n",
       "      <td>...</td>\n",
       "      <td>422.145286</td>\n",
       "      <td>181.878228</td>\n",
       "      <td>172.800296</td>\n",
       "      <td>227.173964</td>\n",
       "      <td>690.522340</td>\n",
       "      <td>251.509475</td>\n",
       "      <td>813.836572</td>\n",
       "      <td>325.497049</td>\n",
       "      <td>86.897086</td>\n",
       "      <td>319.839663</td>\n",
       "    </tr>\n",
       "    <tr>\n",
       "      <th>4</th>\n",
       "      <td>S05</td>\n",
       "      <td>261.348719</td>\n",
       "      <td>417.930153</td>\n",
       "      <td>500.711482</td>\n",
       "      <td>414.022882</td>\n",
       "      <td>92.080114</td>\n",
       "      <td>103.153579</td>\n",
       "      <td>199.567647</td>\n",
       "      <td>193.667781</td>\n",
       "      <td>200.576604</td>\n",
       "      <td>...</td>\n",
       "      <td>293.797556</td>\n",
       "      <td>81.191842</td>\n",
       "      <td>70.811249</td>\n",
       "      <td>49.120494</td>\n",
       "      <td>477.815578</td>\n",
       "      <td>135.130902</td>\n",
       "      <td>622.594985</td>\n",
       "      <td>345.281700</td>\n",
       "      <td>221.330893</td>\n",
       "      <td>108.960581</td>\n",
       "    </tr>\n",
       "  </tbody>\n",
       "</table>\n",
       "<p>5 rows × 66 columns</p>\n",
       "</div>"
      ],
      "text/plain": [
       "  index        OP01        OP02        OP03        OP04        OP05  \\\n",
       "0   S01  334.407348  488.348682  564.060175  485.621957   90.927425   \n",
       "1   S02  329.271919  501.179926  579.118630  498.013921   74.482482   \n",
       "2   S03  329.528755  484.346550  560.552164  481.538696   88.137240   \n",
       "3   S04  341.867587  619.530380  708.982162  613.881510  121.805879   \n",
       "4   S05  261.348719  417.930153  500.711482  414.022882   92.080114   \n",
       "\n",
       "         OP06        OP07        OP08        OP09  ...        OP56  \\\n",
       "0  183.035852  275.984457  270.420928  277.394211  ...  374.883217   \n",
       "1  183.409096  273.018561  267.698212  274.655395  ...  375.247801   \n",
       "2  177.980781  270.998559  265.426105  272.399187  ...  369.826365   \n",
       "3  258.872542  309.576508  306.807535  312.495259  ...  422.145286   \n",
       "4  103.153579  199.567647  193.667781  200.576604  ...  293.797556   \n",
       "\n",
       "         OP57        OP58        OP59        OP60        OP61        OP62  \\\n",
       "0    1.098491   17.322992   57.706791  531.452322   79.657983  696.861825   \n",
       "1   21.249216   17.778701   73.857514  548.587929   98.201676  708.259641   \n",
       "2    3.995813   13.493944   54.236763  528.557834   82.448202  692.624648   \n",
       "3  181.878228  172.800296  227.173964  690.522340  251.509475  813.836572   \n",
       "4   81.191842   70.811249   49.120494  477.815578  135.130902  622.594985   \n",
       "\n",
       "         OP63        OP64        OP65  \n",
       "0  264.607448  159.607079  156.414433  \n",
       "1  267.194946  142.142945  172.878489  \n",
       "2  269.651482  162.253392  153.220321  \n",
       "3  325.497049   86.897086  319.839663  \n",
       "4  345.281700  221.330893  108.960581  \n",
       "\n",
       "[5 rows x 66 columns]"
      ]
     },
     "execution_count": 23,
     "metadata": {},
     "output_type": "execute_result"
    }
   ],
   "source": [
    "shredder_to_oxide_tc = pd.read_excel(data_path, sheet_name='Shredder-Oxide TC')\n",
    "shredder_to_oxide_tc.head()"
   ]
  },
  {
   "cell_type": "code",
   "execution_count": 24,
   "metadata": {},
   "outputs": [
    {
     "data": {
      "text/html": [
       "<div>\n",
       "<style scoped>\n",
       "    .dataframe tbody tr th:only-of-type {\n",
       "        vertical-align: middle;\n",
       "    }\n",
       "\n",
       "    .dataframe tbody tr th {\n",
       "        vertical-align: top;\n",
       "    }\n",
       "\n",
       "    .dataframe thead th {\n",
       "        text-align: right;\n",
       "    }\n",
       "</style>\n",
       "<table border=\"1\" class=\"dataframe\">\n",
       "  <thead>\n",
       "    <tr style=\"text-align: right;\">\n",
       "      <th></th>\n",
       "      <th>from</th>\n",
       "      <th>to</th>\n",
       "      <th>Y1</th>\n",
       "      <th>Y2</th>\n",
       "      <th>Y3</th>\n",
       "      <th>Y4</th>\n",
       "      <th>Y5</th>\n",
       "      <th>Y6</th>\n",
       "      <th>Y7</th>\n",
       "      <th>Y8</th>\n",
       "      <th>Y9</th>\n",
       "      <th>Y10</th>\n",
       "    </tr>\n",
       "  </thead>\n",
       "  <tbody>\n",
       "    <tr>\n",
       "      <th>0</th>\n",
       "      <td>S01</td>\n",
       "      <td>OP01</td>\n",
       "      <td>334.407348</td>\n",
       "      <td>345.375909</td>\n",
       "      <td>356.704239</td>\n",
       "      <td>368.404138</td>\n",
       "      <td>380.487794</td>\n",
       "      <td>392.967793</td>\n",
       "      <td>405.857137</td>\n",
       "      <td>419.169251</td>\n",
       "      <td>432.918002</td>\n",
       "      <td>447.117713</td>\n",
       "    </tr>\n",
       "    <tr>\n",
       "      <th>1</th>\n",
       "      <td>S02</td>\n",
       "      <td>OP01</td>\n",
       "      <td>329.271919</td>\n",
       "      <td>340.072038</td>\n",
       "      <td>351.226401</td>\n",
       "      <td>362.746627</td>\n",
       "      <td>374.644717</td>\n",
       "      <td>386.933063</td>\n",
       "      <td>399.624468</td>\n",
       "      <td>412.732150</td>\n",
       "      <td>426.269765</td>\n",
       "      <td>440.251413</td>\n",
       "    </tr>\n",
       "    <tr>\n",
       "      <th>2</th>\n",
       "      <td>S03</td>\n",
       "      <td>OP01</td>\n",
       "      <td>329.528755</td>\n",
       "      <td>340.337298</td>\n",
       "      <td>351.500362</td>\n",
       "      <td>363.029573</td>\n",
       "      <td>374.936943</td>\n",
       "      <td>387.234875</td>\n",
       "      <td>399.936179</td>\n",
       "      <td>413.054086</td>\n",
       "      <td>426.602260</td>\n",
       "      <td>440.594814</td>\n",
       "    </tr>\n",
       "    <tr>\n",
       "      <th>3</th>\n",
       "      <td>S04</td>\n",
       "      <td>OP01</td>\n",
       "      <td>341.867587</td>\n",
       "      <td>353.080843</td>\n",
       "      <td>364.661895</td>\n",
       "      <td>376.622805</td>\n",
       "      <td>388.976033</td>\n",
       "      <td>401.734447</td>\n",
       "      <td>414.911337</td>\n",
       "      <td>428.520429</td>\n",
       "      <td>442.575899</td>\n",
       "      <td>457.092388</td>\n",
       "    </tr>\n",
       "    <tr>\n",
       "      <th>4</th>\n",
       "      <td>S05</td>\n",
       "      <td>OP01</td>\n",
       "      <td>261.348719</td>\n",
       "      <td>269.920957</td>\n",
       "      <td>278.774364</td>\n",
       "      <td>287.918164</td>\n",
       "      <td>297.361879</td>\n",
       "      <td>307.115349</td>\n",
       "      <td>317.188732</td>\n",
       "      <td>327.592523</td>\n",
       "      <td>338.337558</td>\n",
       "      <td>349.435029</td>\n",
       "    </tr>\n",
       "  </tbody>\n",
       "</table>\n",
       "</div>"
      ],
      "text/plain": [
       "  from    to          Y1          Y2          Y3          Y4          Y5  \\\n",
       "0  S01  OP01  334.407348  345.375909  356.704239  368.404138  380.487794   \n",
       "1  S02  OP01  329.271919  340.072038  351.226401  362.746627  374.644717   \n",
       "2  S03  OP01  329.528755  340.337298  351.500362  363.029573  374.936943   \n",
       "3  S04  OP01  341.867587  353.080843  364.661895  376.622805  388.976033   \n",
       "4  S05  OP01  261.348719  269.920957  278.774364  287.918164  297.361879   \n",
       "\n",
       "           Y6          Y7          Y8          Y9         Y10  \n",
       "0  392.967793  405.857137  419.169251  432.918002  447.117713  \n",
       "1  386.933063  399.624468  412.732150  426.269765  440.251413  \n",
       "2  387.234875  399.936179  413.054086  426.602260  440.594814  \n",
       "3  401.734447  414.911337  428.520429  442.575899  457.092388  \n",
       "4  307.115349  317.188732  327.592523  338.337558  349.435029  "
      ]
     },
     "execution_count": 24,
     "metadata": {},
     "output_type": "execute_result"
    }
   ],
   "source": [
    "column_names = shredder_to_oxide_tc.columns.delete(0)\n",
    "shredder_to_oxide_tc = pd.melt(shredder_to_oxide_tc, id_vars=[\"index\"], value_vars=column_names, var_name=\"to\", value_name=\"Y1\").rename({'index':'from'}, axis = 1)\n",
    "\n",
    "for i in range(2, 11):\n",
    "    var_name = \"Y\" + str(i)\n",
    "    shredder_to_oxide_tc[var_name] = shredder_to_oxide_tc.iloc[:, i] * (1 + inflation_rate)\n",
    "\n",
    "shredder_to_oxide_tc.head()"
   ]
  },
  {
   "cell_type": "code",
   "execution_count": 25,
   "metadata": {},
   "outputs": [],
   "source": [
    "shredder_to_oxide_tc = pd.melt(shredder_to_oxide_tc, id_vars=[\"from\", \"to\"], value_vars=year_index, var_name=\"year\", value_name=\"cost\")\n",
    "shredder_to_oxide_tc.set_index([\"from\", \"to\", \"year\"], inplace=True)"
   ]
  },
  {
   "cell_type": "code",
   "execution_count": 26,
   "metadata": {},
   "outputs": [
    {
     "data": {
      "text/plain": [
       "from  to    year\n",
       "S01   OP01  Y1      334.407348\n",
       "S02   OP01  Y1      329.271919\n",
       "S03   OP01  Y1      329.528755\n",
       "S04   OP01  Y1      341.867587\n",
       "S05   OP01  Y1      261.348719\n",
       "Name: cost, dtype: float64"
      ]
     },
     "execution_count": 26,
     "metadata": {},
     "output_type": "execute_result"
    }
   ],
   "source": [
    "shredder_to_oxide_tc = shredder_to_oxide_tc[\"cost\"]\n",
    "shredder_to_oxide_tc.head()"
   ]
  },
  {
   "cell_type": "code",
   "execution_count": 27,
   "metadata": {},
   "outputs": [],
   "source": [
    "oxide_to_fluoride_tc = pd.read_excel(data_path, sheet_name='Oxide-Fluoride TC')\n",
    "\n",
    "column_names = oxide_to_fluoride_tc.columns.delete(0)\n",
    "oxide_to_fluoride_tc = pd.melt(oxide_to_fluoride_tc, id_vars=[\"index\"], value_vars=column_names, var_name=\"to\", value_name=\"Y1\").rename({'index':'from'}, axis = 1)\n",
    "\n",
    "for i in range(2, 11):\n",
    "    var_name = \"Y\" + str(i)\n",
    "    oxide_to_fluoride_tc[var_name] = oxide_to_fluoride_tc.iloc[:, i] * (1 + inflation_rate)\n",
    "\n",
    "oxide_to_fluoride_tc.head()\n",
    "\n",
    "oxide_to_fluoride_tc = pd.melt(oxide_to_fluoride_tc, id_vars=[\"from\", \"to\"], value_vars=year_index, var_name=\"year\", value_name=\"cost\")\n",
    "oxide_to_fluoride_tc.set_index([\"from\", \"to\", \"year\"], inplace=True)"
   ]
  },
  {
   "cell_type": "code",
   "execution_count": 28,
   "metadata": {},
   "outputs": [
    {
     "data": {
      "text/plain": [
       "from  to    year\n",
       "OP01  FP01  Y1      498.508979\n",
       "OP02  FP01  Y1      624.991040\n",
       "OP03  FP01  Y1      731.486025\n",
       "OP04  FP01  Y1      630.205799\n",
       "OP05  FP01  Y1      190.370462\n",
       "Name: cost, dtype: float64"
      ]
     },
     "execution_count": 28,
     "metadata": {},
     "output_type": "execute_result"
    }
   ],
   "source": [
    "oxide_to_fluoride_tc = oxide_to_fluoride_tc['cost']\n",
    "oxide_to_fluoride_tc.head()"
   ]
  },
  {
   "cell_type": "code",
   "execution_count": 29,
   "metadata": {},
   "outputs": [],
   "source": [
    "waste_to_shredder_tc = pd.read_excel(data_path, sheet_name='Waste-Shredder TC')\n",
    "\n",
    "column_names = waste_to_shredder_tc.columns.delete(0)\n",
    "waste_to_shredder_tc = pd.melt(waste_to_shredder_tc, id_vars=[\"index\"], value_vars=column_names, var_name=\"to\", value_name=\"Y1\").rename({'index':'from'}, axis = 1)\n",
    "\n",
    "for i in range(2, 11):\n",
    "    var_name = \"Y\" + str(i)\n",
    "    waste_to_shredder_tc[var_name] = waste_to_shredder_tc.iloc[:, i] * (1 + inflation_rate)\n",
    "\n",
    "waste_to_shredder_tc.head()\n",
    "\n",
    "waste_to_shredder_tc = pd.melt(waste_to_shredder_tc, id_vars=[\"from\", \"to\"], value_vars=year_index, var_name=\"year\", value_name=\"cost\")\n",
    "waste_to_shredder_tc.set_index([\"from\", \"to\", \"year\"], inplace=True)"
   ]
  },
  {
   "cell_type": "code",
   "execution_count": 30,
   "metadata": {},
   "outputs": [
    {
     "data": {
      "text/plain": [
       "from  to   year\n",
       "W1    S01  Y1      230.710432\n",
       "W2    S01  Y1      651.299245\n",
       "W3    S01  Y1       59.633613\n",
       "W4    S01  Y1      312.664866\n",
       "W5    S01  Y1      539.862646\n",
       "Name: cost, dtype: float64"
      ]
     },
     "execution_count": 30,
     "metadata": {},
     "output_type": "execute_result"
    }
   ],
   "source": [
    "waste_to_shredder_tc = waste_to_shredder_tc['cost']\n",
    "waste_to_shredder_tc.head()"
   ]
  },
  {
   "cell_type": "code",
   "execution_count": 31,
   "metadata": {},
   "outputs": [],
   "source": [
    "fluoride_to_metal_tc = pd.read_excel(data_path, sheet_name='Fluoride-Metal TC')\n",
    "fluoride_to_metal_tc.head()\n",
    "\n",
    "column_names = fluoride_to_metal_tc.columns.delete(0)\n",
    "fluoride_to_metal_tc = pd.melt(fluoride_to_metal_tc, id_vars=[\"index\"], value_vars=column_names, var_name=\"to\", value_name=\"Y1\").rename({'index':'from'}, axis = 1)\n",
    "\n",
    "for i in range(2, 11):\n",
    "    var_name = \"Y\" + str(i)\n",
    "    fluoride_to_metal_tc[var_name] = fluoride_to_metal_tc.iloc[:, i] * (1 + inflation_rate)\n",
    "\n",
    "fluoride_to_metal_tc.head()\n",
    "\n",
    "fluoride_to_metal_tc = pd.melt(fluoride_to_metal_tc, id_vars=[\"from\", \"to\"], value_vars=year_index, var_name=\"year\", value_name=\"cost\")\n",
    "fluoride_to_metal_tc.set_index([\"from\", \"to\", \"year\"], inplace=True)\n"
   ]
  },
  {
   "cell_type": "code",
   "execution_count": 32,
   "metadata": {},
   "outputs": [
    {
     "data": {
      "text/plain": [
       "from  to    year\n",
       "FP01  MP01  Y1        1.466763\n",
       "FP02  MP01  Y1      848.229560\n",
       "FP03  MP01  Y1      847.836082\n",
       "FP04  MP01  Y1      346.382616\n",
       "FP05  MP01  Y1      223.095803\n",
       "Name: cost, dtype: float64"
      ]
     },
     "execution_count": 32,
     "metadata": {},
     "output_type": "execute_result"
    }
   ],
   "source": [
    "fluoride_to_metal_tc = fluoride_to_metal_tc['cost']\n",
    "fluoride_to_metal_tc.head()"
   ]
  },
  {
   "cell_type": "code",
   "execution_count": 33,
   "metadata": {},
   "outputs": [],
   "source": [
    "metal_to_magnet_tc = pd.read_excel(data_path, sheet_name='Metal-Magnet TC')\n",
    "metal_to_magnet_tc.head()\n",
    "\n",
    "column_names = metal_to_magnet_tc.columns.delete(0)\n",
    "metal_to_magnet_tc = pd.melt(metal_to_magnet_tc, id_vars=[\"index\"], value_vars=column_names, var_name=\"to\", value_name=\"Y1\").rename({'index':'from'}, axis = 1)\n",
    "\n",
    "for i in range(2, 11):\n",
    "    var_name = \"Y\" + str(i)\n",
    "    metal_to_magnet_tc[var_name] = metal_to_magnet_tc.iloc[:, i] * (1 + inflation_rate)\n",
    "\n",
    "metal_to_magnet_tc.head()\n",
    "\n",
    "metal_to_magnet_tc = pd.melt(metal_to_magnet_tc, id_vars=[\"from\", \"to\"], value_vars=year_index, var_name=\"year\", value_name=\"cost\")\n",
    "metal_to_magnet_tc.set_index([\"from\", \"to\", \"year\"], inplace=True)"
   ]
  },
  {
   "cell_type": "code",
   "execution_count": 34,
   "metadata": {},
   "outputs": [
    {
     "data": {
      "text/plain": [
       "from  to     year\n",
       "MP01  MAG01  Y1      370.090621\n",
       "MP02  MAG01  Y1      433.013111\n",
       "MP03  MAG01  Y1      232.435930\n",
       "MP01  MAG02  Y1      512.362583\n",
       "MP02  MAG02  Y1      480.118856\n",
       "Name: cost, dtype: float64"
      ]
     },
     "execution_count": 34,
     "metadata": {},
     "output_type": "execute_result"
    }
   ],
   "source": [
    "metal_to_magnet_tc = metal_to_magnet_tc['cost']\n",
    "metal_to_magnet_tc.head()"
   ]
  },
  {
   "cell_type": "code",
   "execution_count": 35,
   "metadata": {},
   "outputs": [],
   "source": [
    "is_shredder_incentive_eligible = shredder_data[[\"Code\", \"is_energy_community\"]]\n",
    "is_oxide_producer_incentive_eligible = oxide_producer_data[[\"Code\", \"is_energy_community\"]]\n",
    "\n",
    "is_shredder_incentive_eligible.set_index(\"Code\", inplace = True)\n",
    "is_oxide_producer_incentive_eligible.set_index(\"Code\", inplace = True)\n",
    "\n",
    "is_shredder_incentive_eligible.index.name = \"from\"\n",
    "is_oxide_producer_incentive_eligible.index.name = \"from\"\n",
    "\n",
    "is_shredder_incentive_eligible = is_shredder_incentive_eligible[\"is_energy_community\"]\n",
    "is_oxide_producer_incentive_eligible = is_oxide_producer_incentive_eligible[\"is_energy_community\"]"
   ]
  },
  {
   "cell_type": "code",
   "execution_count": 36,
   "metadata": {},
   "outputs": [
    {
     "data": {
      "text/plain": [
       "from\n",
       "S01    1\n",
       "S02    0\n",
       "S03    1\n",
       "S04    1\n",
       "S05    1\n",
       "Name: is_energy_community, dtype: int64"
      ]
     },
     "execution_count": 36,
     "metadata": {},
     "output_type": "execute_result"
    }
   ],
   "source": [
    "is_shredder_incentive_eligible[:5]"
   ]
  },
  {
   "cell_type": "markdown",
   "metadata": {},
   "source": [
    "## Model with no fixed charge"
   ]
  },
  {
   "cell_type": "code",
   "execution_count": 37,
   "metadata": {},
   "outputs": [],
   "source": [
    "model_no_fixed_charge = gp.Model(\"Ewaste_no_fixed_charge\", env=env)\n",
    "model_no_fixed_charge.ModelSense = GRB.MAXIMIZE"
   ]
  },
  {
   "cell_type": "markdown",
   "metadata": {},
   "source": [
    "## Decision Variables"
   ]
  },
  {
   "cell_type": "code",
   "execution_count": 38,
   "metadata": {},
   "outputs": [],
   "source": [
    "\n",
    "flow_shredder_to_oxide = gppd.add_vars(\n",
    "    model_no_fixed_charge,\n",
    "    shredder_to_oxide_tc,\n",
    "    vtype = GRB.CONTINUOUS,\n",
    "    name = \"flow_shredder_to_oxide\"\n",
    ")\n",
    "\n",
    "flow_oxide_to_fluoride = gppd.add_vars(\n",
    "    model_no_fixed_charge,\n",
    "    oxide_to_fluoride_tc,\n",
    "    vtype = GRB.CONTINUOUS,\n",
    "    name = \"flow_oxide_to_fluoride\"\n",
    ")\n",
    "\n",
    "flow_fluoride_to_metal = gppd.add_vars(\n",
    "    model_no_fixed_charge,\n",
    "    fluoride_to_metal_tc,\n",
    "    vtype = GRB.CONTINUOUS,\n",
    "    name = \"flow_fluoride_to_metal\"\n",
    ")\n",
    "\n",
    "shredder_loc = list(shredders.keys())\n",
    "waste_to_shredder_index = pd.MultiIndex.from_product([waste_volume.index, shredder_loc, year_index], names = [\"from\", \"to\", \"year\"])\n",
    "flow_waste_to_shredder = gppd.add_vars(\n",
    "    model_no_fixed_charge,\n",
    "    waste_to_shredder_index,\n",
    "    vtype = GRB.CONTINUOUS,\n",
    "    name = \"flow_waste_to_shredder\"\n",
    ")\n",
    "\n",
    "flow_metal_to_magnet = gppd.add_vars(\n",
    "    model_no_fixed_charge,\n",
    "    metal_to_magnet_tc,\n",
    "    vtype = GRB.CONTINUOUS,\n",
    "    name = \"flow_metal_to_magnet\"\n",
    ")"
   ]
  },
  {
   "cell_type": "markdown",
   "metadata": {},
   "source": [
    "## Constraints"
   ]
  },
  {
   "cell_type": "markdown",
   "metadata": {},
   "source": [
    "### Flow balance constraints"
   ]
  },
  {
   "cell_type": "code",
   "execution_count": 39,
   "metadata": {},
   "outputs": [],
   "source": [
    "shredder_balance = gppd.add_constrs(\n",
    "    model_no_fixed_charge,\n",
    "    flow_shredder_to_oxide.groupby(['from', 'year']).sum(),\n",
    "    GRB.LESS_EQUAL,\n",
    "    conv1 * (flow_waste_to_shredder.groupby(['to', 'year']).sum()),\n",
    "    name = \"shredder_balance\"\n",
    ")"
   ]
  },
  {
   "cell_type": "code",
   "execution_count": 40,
   "metadata": {},
   "outputs": [],
   "source": [
    "oxide_balance = gppd.add_constrs(\n",
    "    model_no_fixed_charge,\n",
    "    flow_oxide_to_fluoride.groupby(['from', 'year']).sum(),\n",
    "    GRB.LESS_EQUAL,\n",
    "    conv2 * (flow_shredder_to_oxide.groupby(['to', 'year']).sum()),\n",
    "    name = \"oxide_balance\"\n",
    ")"
   ]
  },
  {
   "cell_type": "code",
   "execution_count": 41,
   "metadata": {},
   "outputs": [],
   "source": [
    "fluoride_balance = gppd.add_constrs(\n",
    "    model_no_fixed_charge,\n",
    "    flow_fluoride_to_metal.groupby(['from', 'year']).sum(),\n",
    "    GRB.LESS_EQUAL,\n",
    "    conv3 * (flow_oxide_to_fluoride.groupby(['to', 'year']).sum()),\n",
    "    name = \"fluoride_balance\"\n",
    ")"
   ]
  },
  {
   "cell_type": "code",
   "execution_count": 42,
   "metadata": {},
   "outputs": [],
   "source": [
    "metal_balance = gppd.add_constrs(\n",
    "    model_no_fixed_charge,\n",
    "    flow_metal_to_magnet.groupby(['from', 'year']).sum(),\n",
    "    GRB.LESS_EQUAL,\n",
    "    conv4 * (flow_fluoride_to_metal.groupby(['to', 'year']).sum()),\n",
    "    name = \"metal_balance\"\n",
    ")"
   ]
  },
  {
   "cell_type": "markdown",
   "metadata": {},
   "source": [
    "### Capacity constraint"
   ]
  },
  {
   "cell_type": "code",
   "execution_count": 43,
   "metadata": {},
   "outputs": [],
   "source": [
    "waste_supply_limit = gppd.add_constrs(\n",
    "    model_no_fixed_charge,\n",
    "    flow_waste_to_shredder.groupby(['from', 'year']).sum() - waste_volume,\n",
    "    GRB.LESS_EQUAL,\n",
    "    0,\n",
    "    name = \"waste_supply_limit\"\n",
    ")"
   ]
  },
  {
   "cell_type": "code",
   "execution_count": 44,
   "metadata": {},
   "outputs": [],
   "source": [
    "shredder_supply_limit = gppd.add_constrs(\n",
    "    model_no_fixed_charge,\n",
    "    flow_shredder_to_oxide.groupby(['from', 'year']).sum() - shredder_cap,\n",
    "    GRB.LESS_EQUAL,\n",
    "    0,\n",
    "    name = \"shredder_supply_limit\"\n",
    ")"
   ]
  },
  {
   "cell_type": "code",
   "execution_count": 45,
   "metadata": {},
   "outputs": [],
   "source": [
    "oxide_supply_limit = gppd.add_constrs(\n",
    "    model_no_fixed_charge,\n",
    "    flow_oxide_to_fluoride.groupby(['from', 'year']).sum() - oxide_cap,\n",
    "    GRB.LESS_EQUAL,\n",
    "    0,\n",
    "    name = \"oxide_supply_limit\"\n",
    ")"
   ]
  },
  {
   "cell_type": "code",
   "execution_count": 46,
   "metadata": {},
   "outputs": [],
   "source": [
    "fluoride_supply_limit = gppd.add_constrs(\n",
    "    model_no_fixed_charge,\n",
    "    flow_fluoride_to_metal.groupby(['from', 'year']).sum() - fluoride_cap,\n",
    "    GRB.LESS_EQUAL,\n",
    "    0,\n",
    "    name = \"fluoride_supply_limit\"\n",
    ")"
   ]
  },
  {
   "cell_type": "code",
   "execution_count": 47,
   "metadata": {},
   "outputs": [],
   "source": [
    "metal_supply_limit = gppd.add_constrs(\n",
    "    model_no_fixed_charge,\n",
    "    flow_metal_to_magnet.groupby(['from', 'year']).sum() - metal_cap,\n",
    "    GRB.LESS_EQUAL,\n",
    "    0,\n",
    "    name = \"metal_supply_limit\"\n",
    ")"
   ]
  },
  {
   "cell_type": "code",
   "execution_count": 48,
   "metadata": {},
   "outputs": [
    {
     "data": {
      "text/plain": [
       "'\\nshredder_inbound_limit = gppd.add_constrs(\\n    model_no_fixed_charge,\\n    flow_waste_to_shredder.groupby([\\'to\\', \\'year\\']).sum() - (shredder_cap_copy / conv1),\\n    GRB.LESS_EQUAL,\\n    0,\\n    name = \"shredder_inbound_limit\"\\n)\\n'"
      ]
     },
     "execution_count": 48,
     "metadata": {},
     "output_type": "execute_result"
    }
   ],
   "source": [
    "'''\n",
    "shredder_inbound_limit = gppd.add_constrs(\n",
    "    model_no_fixed_charge,\n",
    "    flow_waste_to_shredder.groupby(['to', 'year']).sum() - (shredder_cap_copy / conv1),\n",
    "    GRB.LESS_EQUAL,\n",
    "    0,\n",
    "    name = \"shredder_inbound_limit\"\n",
    ")\n",
    "'''"
   ]
  },
  {
   "cell_type": "markdown",
   "metadata": {},
   "source": [
    "## Objective function"
   ]
  },
  {
   "cell_type": "code",
   "execution_count": 49,
   "metadata": {},
   "outputs": [],
   "source": [
    "revenue = []\n",
    "for t in year_index:\n",
    "    revenue.append(price[t] * (flow_metal_to_magnet.loc[slice(None), slice(None), t]).sum())\n",
    "revenue = pd.Series(revenue, index=year_index, name='revenue')\n",
    "\n",
    "conversion_cost_shredder = []\n",
    "for t in year_index:\n",
    "    conversion_cost_shredder.append((oc_shredder.loc[slice(None), t] * flow_shredder_to_oxide.loc[slice(None), slice(None), t]).sum())\n",
    "conversion_cost_shredder = pd.Series(conversion_cost_shredder, index=year_index, name='conversion_cost_shredder')\n",
    "\n",
    "conversion_cost_oxide = []\n",
    "for t in year_index:\n",
    "    conversion_cost_oxide.append((oc_oxide.loc[slice(None), t] * flow_oxide_to_fluoride.loc[slice(None), slice(None), t]).sum())\n",
    "conversion_cost_oxide = pd.Series(conversion_cost_oxide, index=year_index, name='conversion_cost_oxide')\n",
    "\n",
    "conversion_cost_fluoride = []\n",
    "for t in year_index:\n",
    "    conversion_cost_fluoride.append((oc_fluoride.loc[slice(None), t] * flow_fluoride_to_metal.loc[slice(None), slice(None), t]).sum())\n",
    "conversion_cost_fluoride = pd.Series(conversion_cost_fluoride, index=year_index, name='conversion_cost_fluoride')\n",
    "\n",
    "conversion_cost_metal = []\n",
    "for t in year_index:\n",
    "    conversion_cost_metal.append((oc_ree.loc[slice(None), t] * flow_metal_to_magnet.loc[slice(None), slice(None), t]).sum())\n",
    "conversion_cost_metal = pd.Series(conversion_cost_metal, index=year_index, name='conversion_cost_metal')\n",
    "\n",
    "transportation_cost_shredder = []\n",
    "for t in year_index:\n",
    "    transportation_cost_shredder.append((shredder_to_oxide_tc.loc[slice(None), slice(None), t] * flow_shredder_to_oxide.loc[slice(None), slice(None), t]).sum())\n",
    "transportation_cost_shredder = pd.Series(transportation_cost_shredder, index=year_index, name='transportation_cost_shredder')\n",
    "\n",
    "transportation_cost_oxide = []\n",
    "for t in year_index:\n",
    "    transportation_cost_oxide.append((oxide_to_fluoride_tc.loc[slice(None), slice(None), t] * flow_oxide_to_fluoride.loc[slice(None), slice(None), t]).sum())\n",
    "transportation_cost_oxide = pd.Series(transportation_cost_oxide, index=year_index, name='transportation_cost_oxide')\n",
    "\n",
    "transportation_cost_fluoride = []\n",
    "for t in year_index:\n",
    "    transportation_cost_fluoride.append((fluoride_to_metal_tc.loc[slice(None), slice(None), t] * flow_fluoride_to_metal.loc[slice(None), slice(None), t]).sum())\n",
    "transportation_cost_fluoride = pd.Series(transportation_cost_fluoride, index=year_index, name='transportation_cost_fluoride')\n",
    "\n",
    "transportation_cost_metal = []\n",
    "for t in year_index:\n",
    "    transportation_cost_metal.append((metal_to_magnet_tc.loc[slice(None), slice(None), t] * flow_metal_to_magnet.loc[slice(None), slice(None), t]).sum())\n",
    "transportation_cost_metal = pd.Series(transportation_cost_metal, index=year_index, name='transportation_cost_metal')\n",
    "\n",
    "transportation_cost_waste_supplier = []\n",
    "for t in year_index:\n",
    "    transportation_cost_waste_supplier.append((waste_to_shredder_tc.loc[slice(None), slice(None), t] * flow_waste_to_shredder.loc[slice(None), slice(None), t]).sum())\n",
    "transportation_cost_waste_supplier = pd.Series(transportation_cost_waste_supplier, index=year_index, name='transportation_cost_waste_supplier')"
   ]
  },
  {
   "cell_type": "code",
   "execution_count": 50,
   "metadata": {},
   "outputs": [],
   "source": [
    "total_revenue = 0\n",
    "for j, t in enumerate(year_index, start=1):\n",
    "    total_revenue += (1 / (1+MARR)**j) * revenue[t]\n",
    "    \n",
    "total_conversion_cost_shredder = 0\n",
    "for j, t in enumerate(year_index, start=1):\n",
    "    total_conversion_cost_shredder += (1 / (1+MARR)**j) * conversion_cost_shredder[t]\n",
    "    \n",
    "total_conversion_cost_oxide = 0\n",
    "for j, t in enumerate(year_index, start=1):\n",
    "    total_conversion_cost_oxide += (1 / (1+MARR)**j) * conversion_cost_oxide[t]\n",
    "\n",
    "total_conversion_cost_fluoride = 0\n",
    "for j, t in enumerate(year_index, start=1):\n",
    "    total_conversion_cost_fluoride += (1 / (1+MARR)**j) * conversion_cost_fluoride[t]\n",
    "\n",
    "total_conversion_cost_metal = 0\n",
    "for j, t in enumerate(year_index, start=1):\n",
    "    total_conversion_cost_metal += (1 / (1+MARR)**j) * conversion_cost_metal[t]\n",
    "\n",
    "total_transportation_cost_shredder = 0\n",
    "for j, t in enumerate(year_index, start=1):\n",
    "    total_transportation_cost_shredder += (1 / (1+MARR)**j) * transportation_cost_shredder[t]\n",
    "    \n",
    "total_transportation_cost_oxide = 0\n",
    "for j, t in enumerate(year_index, start=1):\n",
    "    total_transportation_cost_oxide += (1 / (1+MARR)**j) * transportation_cost_oxide[t]\n",
    "    \n",
    "total_transportation_cost_fluoride = 0\n",
    "for j, t in enumerate(year_index, start=1):\n",
    "    total_transportation_cost_fluoride += (1 / (1+MARR)**j) * transportation_cost_fluoride[t]\n",
    "    \n",
    "total_transportation_cost_metal = 0\n",
    "for j, t in enumerate(year_index, start=1):\n",
    "    total_transportation_cost_metal += (1 / (1+MARR)**j) * transportation_cost_metal[t]\n",
    "    \n",
    "total_transportation_cost_waste_supplier = 0\n",
    "for j, t in enumerate(year_index, start=1):\n",
    "    total_transportation_cost_waste_supplier += (1 / (1+MARR)**j) * transportation_cost_waste_supplier[t]"
   ]
  },
  {
   "cell_type": "code",
   "execution_count": 51,
   "metadata": {},
   "outputs": [],
   "source": [
    "obj_exprs = total_revenue - total_conversion_cost_shredder - total_conversion_cost_oxide - total_conversion_cost_fluoride - total_conversion_cost_metal - \\\n",
    "            total_transportation_cost_shredder - total_transportation_cost_oxide - total_transportation_cost_fluoride - total_transportation_cost_metal - total_transportation_cost_waste_supplier\n",
    "            \n",
    "model_no_fixed_charge.setObjective(obj_exprs, sense=GRB.MAXIMIZE)\n",
    "model_no_fixed_charge.update()"
   ]
  },
  {
   "cell_type": "markdown",
   "metadata": {},
   "source": [
    "## Solve no fixed charge problem"
   ]
  },
  {
   "cell_type": "code",
   "execution_count": 52,
   "metadata": {},
   "outputs": [
    {
     "name": "stdout",
     "output_type": "stream",
     "text": [
      "Discarded solution information\n",
      "Gurobi Optimizer version 11.0.3 build v11.0.3rc0 (win64 - Windows 11.0 (22631.2))\n",
      "\n",
      "CPU model: Intel(R) Core(TM) i7-10750H CPU @ 2.60GHz, instruction set [SSE2|AVX|AVX2]\n",
      "Thread count: 6 physical cores, 12 logical processors, using up to 12 threads\n",
      "\n",
      "Optimize a model with 31730 rows, 11677210 columns and 23786200 nonzeros\n",
      "Model fingerprint: 0x483bc5c1\n",
      "Coefficient statistics:\n",
      "  Matrix range     [8e-02, 1e+00]\n",
      "  Objective range  [4e-02, 7e+04]\n",
      "  Bounds range     [0e+00, 0e+00]\n",
      "  RHS range        [2e+01, 2e+04]\n",
      "Presolve removed 20 rows and 250 columns (presolve time = 5s) ...\n",
      "Presolve removed 40 rows and 250 columns (presolve time = 10s) ...\n",
      "Presolve removed 40 rows and 250 columns\n",
      "Presolve time: 19.48s\n",
      "Presolved: 31690 rows, 11676960 columns, 23785620 nonzeros\n",
      "\n",
      "Concurrent LP optimizer: primal simplex, dual simplex, and barrier\n",
      "Showing barrier log only...\n",
      "\n",
      "Elapsed ordering time = 5s\n",
      "Elapsed ordering time = 10s\n",
      "Ordering time: 12.81s\n",
      "\n",
      "Barrier performed 0 iterations in 40.20 seconds (26.84 work units)\n",
      "Barrier solve interrupted - model solved by another algorithm\n",
      "\n",
      "\n",
      "Solved with primal simplex\n",
      "Iteration    Objective       Primal Inf.    Dual Inf.      Time\n",
      "   25154    8.4866086e+06   0.000000e+00   0.000000e+00     44s\n",
      "\n",
      "Solved in 25154 iterations and 44.13 seconds (23.35 work units)\n",
      "Optimal objective  8.486608577e+06\n"
     ]
    }
   ],
   "source": [
    "model_no_fixed_charge.reset()\n",
    "model_no_fixed_charge.optimize()"
   ]
  },
  {
   "cell_type": "markdown",
   "metadata": {},
   "source": [
    "# Fixed-charge problem"
   ]
  },
  {
   "cell_type": "markdown",
   "metadata": {},
   "source": [
    "## Model"
   ]
  },
  {
   "cell_type": "code",
   "execution_count": 53,
   "metadata": {},
   "outputs": [],
   "source": [
    "model_with_fixed_charge = gp.Model(\"Ewaste_with_fixed_charge\", env=env)\n",
    "model_with_fixed_charge.ModelSense = GRB.MAXIMIZE"
   ]
  },
  {
   "cell_type": "markdown",
   "metadata": {},
   "source": [
    "## Decision variables"
   ]
  },
  {
   "cell_type": "code",
   "execution_count": null,
   "metadata": {},
   "outputs": [],
   "source": [
    "flow_shredder_to_oxide_fixed_charge = gppd.add_vars(\n",
    "    model_with_fixed_charge,\n",
    "    shredder_to_oxide_tc,\n",
    "    vtype = GRB.CONTINUOUS,\n",
    "    name = \"flow_shredder_to_oxide\"\n",
    ")\n",
    "\n",
    "flow_oxide_to_fluoride_fixed_charge = gppd.add_vars(\n",
    "    model_with_fixed_charge,\n",
    "    oxide_to_fluoride_tc,\n",
    "    vtype = GRB.CONTINUOUS,\n",
    "    name = \"flow_oxide_to_fluoride\"\n",
    ")\n",
    "\n",
    "flow_fluoride_to_metal_fixed_charge = gppd.add_vars(\n",
    "    model_with_fixed_charge,\n",
    "    fluoride_to_metal_tc,\n",
    "    vtype = GRB.CONTINUOUS,\n",
    "    name = \"flow_fluoride_to_metal\"\n",
    ")\n",
    "\n",
    "shredder_loc = list(shredders.keys())\n",
    "waste_to_shredder_index = pd.MultiIndex.from_product([waste_volume.index, shredder_loc, year_index], names = [\"from\", \"to\", \"year\"])\n",
    "flow_waste_to_shredder_fixed_charge = gppd.add_vars(\n",
    "    model_with_fixed_charge,\n",
    "    waste_to_shredder_index,\n",
    "    vtype = GRB.CONTINUOUS,\n",
    "    name = \"flow_waste_to_shredder\"\n",
    ")\n",
    "\n",
    "flow_metal_to_magnet_fixed_charge = gppd.add_vars(\n",
    "    model_with_fixed_charge,\n",
    "    metal_to_magnet_tc,\n",
    "    vtype = GRB.CONTINUOUS,\n",
    "    name = \"flow_metal_to_magnet\"\n",
    ")\n",
    "\n",
    "y_shredder_fixed_charge = gppd.add_vars(\n",
    "    model_with_fixed_charge,\n",
    "    fc_shredder,\n",
    "    vtype = GRB.BINARY,\n",
    "    name = \"y_shredder\"\n",
    ")\n",
    "\n",
    "y_oxide_fixed_charge = gppd.add_vars(\n",
    "    model_with_fixed_charge,\n",
    "    fc_oxide,\n",
    "    vtype = GRB.BINARY,\n",
    "    name = \"y_oxide\"\n",
    ")\n",
    "\n",
    "\n",
    "auxiliary_shredder_fixed_charge = gppd.add_vars(\n",
    "    model_with_fixed_charge,\n",
    "    fc_shredder,\n",
    "    vtype = GRB.CONTINUOUS,\n",
    "    name = \"auxiliary_shredder\"\n",
    ")\n",
    "\n",
    "\n",
    "auxiliary_oxide_fixed_charge = gppd.add_vars(\n",
    "    model_with_fixed_charge,\n",
    "    fc_oxide,\n",
    "    vtype = GRB.CONTINUOUS,\n",
    "    name = \"auxiliary_oxide\"\n",
    ")"
   ]
  },
  {
   "cell_type": "markdown",
   "metadata": {},
   "source": [
    "## Constraints"
   ]
  },
  {
   "cell_type": "markdown",
   "metadata": {},
   "source": [
    "### Flow balance constraints"
   ]
  },
  {
   "cell_type": "code",
   "execution_count": 55,
   "metadata": {},
   "outputs": [],
   "source": [
    "shredder_balance_fixed_charge = gppd.add_constrs(\n",
    "    model_with_fixed_charge,\n",
    "    flow_shredder_to_oxide_fixed_charge.groupby(['from', 'year']).sum(),\n",
    "    GRB.LESS_EQUAL,\n",
    "    conv1 * (flow_waste_to_shredder_fixed_charge.groupby(['to', 'year']).sum()),\n",
    "    name = \"shredder_balance_fixed_charge\"\n",
    ")"
   ]
  },
  {
   "cell_type": "code",
   "execution_count": 56,
   "metadata": {},
   "outputs": [],
   "source": [
    "oxide_balance_fixed_charge = gppd.add_constrs(\n",
    "    model_with_fixed_charge,\n",
    "    flow_oxide_to_fluoride_fixed_charge.groupby(['from', 'year']).sum(),\n",
    "    GRB.LESS_EQUAL,\n",
    "    conv2 * (flow_shredder_to_oxide_fixed_charge.groupby(['to', 'year']).sum()),\n",
    "    name = \"oxide_balance_fixed_charge\"\n",
    ")"
   ]
  },
  {
   "cell_type": "code",
   "execution_count": 57,
   "metadata": {},
   "outputs": [],
   "source": [
    "fluoride_balance_fixed_charge = gppd.add_constrs(\n",
    "    model_with_fixed_charge,\n",
    "    flow_fluoride_to_metal_fixed_charge.groupby(['from', 'year']).sum(),\n",
    "    GRB.LESS_EQUAL,\n",
    "    conv3 * (flow_oxide_to_fluoride_fixed_charge.groupby(['to', 'year']).sum()),\n",
    "    name = \"fluoride_balance_fixed_charge\"\n",
    ")"
   ]
  },
  {
   "cell_type": "code",
   "execution_count": 58,
   "metadata": {},
   "outputs": [],
   "source": [
    "metal_balance_fixed_charge = gppd.add_constrs(\n",
    "    model_with_fixed_charge,\n",
    "    flow_metal_to_magnet_fixed_charge.groupby(['from', 'year']).sum(),\n",
    "    GRB.LESS_EQUAL,\n",
    "    conv4 * (flow_fluoride_to_metal_fixed_charge.groupby(['to', 'year']).sum()),\n",
    "    name = \"metal_balance_fixed_charge\"\n",
    ")"
   ]
  },
  {
   "cell_type": "markdown",
   "metadata": {},
   "source": [
    "### Capacity constraint"
   ]
  },
  {
   "cell_type": "code",
   "execution_count": 59,
   "metadata": {},
   "outputs": [],
   "source": [
    "waste_supply_limit_fixed_charge = gppd.add_constrs(\n",
    "    model_with_fixed_charge,\n",
    "    flow_waste_to_shredder_fixed_charge.groupby(['from', 'year']).sum() - waste_volume,\n",
    "    GRB.LESS_EQUAL,\n",
    "    0,\n",
    "    name = \"waste_supply_limit_fixed_charge\"\n",
    ")"
   ]
  },
  {
   "cell_type": "code",
   "execution_count": 60,
   "metadata": {},
   "outputs": [],
   "source": [
    "shredder_supply_limit_fixed_charge = gppd.add_constrs(\n",
    "    model_with_fixed_charge,\n",
    "    flow_shredder_to_oxide_fixed_charge.groupby(['from', 'year']).sum(),\n",
    "    GRB.LESS_EQUAL,\n",
    "    shredder_cap * y_shredder_fixed_charge,\n",
    "    name = \"shredder_supply_limit_fixed_charge\"\n",
    ")"
   ]
  },
  {
   "cell_type": "code",
   "execution_count": 61,
   "metadata": {},
   "outputs": [],
   "source": [
    "oxide_supply_limit_fixed_charge = gppd.add_constrs(\n",
    "    model_with_fixed_charge,\n",
    "    flow_oxide_to_fluoride_fixed_charge.groupby(['from', 'year']).sum(),\n",
    "    GRB.LESS_EQUAL,\n",
    "    oxide_cap * y_oxide_fixed_charge,\n",
    "    name = \"oxide_supply_limit_fixed_charge\"\n",
    ")"
   ]
  },
  {
   "cell_type": "code",
   "execution_count": 62,
   "metadata": {},
   "outputs": [],
   "source": [
    "fluoride_supply_limit_fixed_charge = gppd.add_constrs(\n",
    "    model_with_fixed_charge,\n",
    "    flow_fluoride_to_metal_fixed_charge.groupby(['from', 'year']).sum() - fluoride_cap,\n",
    "    GRB.LESS_EQUAL,\n",
    "    0,\n",
    "    name = \"fluoride_supply_limit_fixed_charge\"\n",
    ")"
   ]
  },
  {
   "cell_type": "code",
   "execution_count": 63,
   "metadata": {},
   "outputs": [],
   "source": [
    "metal_supply_limit_fixed_charge = gppd.add_constrs(\n",
    "    model_with_fixed_charge,\n",
    "    flow_metal_to_magnet_fixed_charge.groupby(['from', 'year']).sum() - metal_cap,\n",
    "    GRB.LESS_EQUAL,\n",
    "    0,\n",
    "    name = \"metal_supply_limit_fixed_charge\"\n",
    ")"
   ]
  },
  {
   "cell_type": "code",
   "execution_count": 64,
   "metadata": {},
   "outputs": [
    {
     "data": {
      "text/plain": [
       "'\\nshredder_inbound_limit_fixed_charge = gppd.add_constrs(\\n    model_with_fixed_charge,\\n    flow_waste_to_shredder_fixed_charge.groupby([\\'to\\', \\'year\\']).sum(),\\n    GRB.LESS_EQUAL,\\n    (shredder_cap / conv1) * y_shredder_fixed_charge,\\n    name = \"shredder_inbound_limit_fixed_charge\"\\n)\\n'"
      ]
     },
     "execution_count": 64,
     "metadata": {},
     "output_type": "execute_result"
    }
   ],
   "source": [
    "'''\n",
    "shredder_inbound_limit_fixed_charge = gppd.add_constrs(\n",
    "    model_with_fixed_charge,\n",
    "    flow_waste_to_shredder_fixed_charge.groupby(['to', 'year']).sum(),\n",
    "    GRB.LESS_EQUAL,\n",
    "    (shredder_cap / conv1) * y_shredder_fixed_charge,\n",
    "    name = \"shredder_inbound_limit_fixed_charge\"\n",
    ")\n",
    "'''"
   ]
  },
  {
   "cell_type": "code",
   "execution_count": null,
   "metadata": {},
   "outputs": [
    {
     "data": {
      "text/plain": [
       "'\\n# Add the max constraints for each combination of i and t\\nmax_constraints_shredder_record = []\\n\\nfor i in shredders.keys():\\n    for j, t in enumerate(year_index):\\n        if j > 0:\\n            gc = model_with_fixed_charge.addConstr(auxiliary_shredder_fixed_charge[i, t] >= y_shredder_fixed_charge[i, t] - y_shredder_fixed_charge[i, year_index[j-1]], \\n                                                   name=f\"max_constraint_shredder[{i},{t}]\")\\n        else:\\n            gc = model_with_fixed_charge.addConstr(auxiliary_shredder_fixed_charge[i, t] >= y_shredder_fixed_charge[i, t], name=f\"max_constraint_shredder[{i},{t}]\")\\n        max_constraints_shredder_record.append(gc)\\n\\nmodel_with_fixed_charge.update()\\nindex_list = pd.MultiIndex.from_product([shredder_loc, year_index], names = [\\'from\\', \\'year\\'])\\nmax_constraints_shredder = pd.Series(max_constraints_shredder_record, index=index_list, name=\"max_constraints_shredder\")\\n'"
      ]
     },
     "execution_count": 65,
     "metadata": {},
     "output_type": "execute_result"
    }
   ],
   "source": [
    "\n",
    "# Add the max constraints for each combination of i and t\n",
    "max_constraints_shredder_record = []\n",
    "\n",
    "for i in shredders.keys():\n",
    "    for j, t in enumerate(year_index):\n",
    "        if j > 0:\n",
    "            gc = model_with_fixed_charge.addConstr(auxiliary_shredder_fixed_charge[i, t] >= y_shredder_fixed_charge[i, t] - y_shredder_fixed_charge[i, year_index[j-1]], \n",
    "                                                   name=f\"max_constraint_shredder[{i},{t}]\")\n",
    "        else:\n",
    "            gc = model_with_fixed_charge.addConstr(auxiliary_shredder_fixed_charge[i, t] >= y_shredder_fixed_charge[i, t], name=f\"max_constraint_shredder[{i},{t}]\")\n",
    "        max_constraints_shredder_record.append(gc)\n",
    "\n",
    "model_with_fixed_charge.update()\n",
    "index_list = pd.MultiIndex.from_product([shredder_loc, year_index], names = ['from', 'year'])\n",
    "max_constraints_shredder = pd.Series(max_constraints_shredder_record, index=index_list, name=\"max_constraints_shredder\")\n"
   ]
  },
  {
   "cell_type": "code",
   "execution_count": 66,
   "metadata": {},
   "outputs": [],
   "source": [
    "# Add the max constraints for each combination of i and t\n",
    "max_constraints_oxide_record = []\n",
    "\n",
    "for i in oxide_producers.keys():\n",
    "    for j, t in enumerate(year_index):\n",
    "        if j > 0:\n",
    "            gc = model_with_fixed_charge.addConstr(auxiliary_oxide_fixed_charge[i, t] >= y_oxide_fixed_charge[i, t] - y_oxide_fixed_charge[i, year_index[j-1]], \n",
    "                                                   name=f\"max_constraint_oxide[{i},{t}]\")\n",
    "        else:\n",
    "            gc = model_with_fixed_charge.addConstr(auxiliary_oxide_fixed_charge[i, t] >= y_oxide_fixed_charge[i, t], name=f\"max_constraint_oxide[{i},{t}]\")\n",
    "        max_constraints_oxide_record.append(gc)\n",
    "\n",
    "model_with_fixed_charge.update()\n",
    "index_list = pd.MultiIndex.from_product([list(oxide_producers.keys()), year_index], names = ['from', 'year'])\n",
    "max_constraints_oxide = pd.Series(max_constraints_oxide_record, index=index_list, name=\"max_constraints_oxide\")"
   ]
  },
  {
   "cell_type": "markdown",
   "metadata": {},
   "source": [
    "## Objective function"
   ]
  },
  {
   "cell_type": "code",
   "execution_count": null,
   "metadata": {},
   "outputs": [],
   "source": [
    "revenue_fixed_charge = []\n",
    "for t in year_index:\n",
    "    revenue_fixed_charge.append(price[t] * (flow_metal_to_magnet_fixed_charge.loc[slice(None), slice(None), t]).sum())\n",
    "revenue_fixed_charge = pd.Series(revenue_fixed_charge, index=year_index, name='revenue_fixed_charge')\n",
    "\n",
    "conversion_cost_shredder_fixed_charge = []\n",
    "for t in year_index:\n",
    "    conversion_cost_shredder_fixed_charge.append((oc_shredder.loc[slice(None), t] * flow_shredder_to_oxide_fixed_charge.loc[slice(None), slice(None), t]).sum())\n",
    "conversion_cost_shredder_fixed_charge = pd.Series(conversion_cost_shredder_fixed_charge, index=year_index, name='conversion_cost_shredder_fixed_charge')\n",
    "\n",
    "conversion_cost_oxide_fixed_charge = []\n",
    "for t in year_index:\n",
    "    conversion_cost_oxide_fixed_charge.append((oc_oxide.loc[slice(None), t] * flow_oxide_to_fluoride_fixed_charge.loc[slice(None), slice(None), t]).sum())\n",
    "conversion_cost_oxide_fixed_charge = pd.Series(conversion_cost_oxide_fixed_charge, index=year_index, name='conversion_cost_oxide_fixed_charge')\n",
    "\n",
    "conversion_cost_fluoride_fixed_charge = []\n",
    "for t in year_index:\n",
    "    conversion_cost_fluoride_fixed_charge.append((oc_fluoride.loc[slice(None), t] * flow_fluoride_to_metal_fixed_charge.loc[slice(None), slice(None), t]).sum())\n",
    "conversion_cost_fluoride_fixed_charge = pd.Series(conversion_cost_fluoride_fixed_charge, index=year_index, name='conversion_cost_fluoride_fixed_charge')\n",
    "\n",
    "conversion_cost_metal_fixed_charge = []\n",
    "for t in year_index:\n",
    "    conversion_cost_metal_fixed_charge.append((oc_ree.loc[slice(None), t] * flow_metal_to_magnet_fixed_charge.loc[slice(None), slice(None), t]).sum())\n",
    "conversion_cost_metal_fixed_charge = pd.Series(conversion_cost_metal_fixed_charge, index=year_index, name='conversion_cost_metal_fixed_charge')\n",
    "\n",
    "transportation_cost_shredder_fixed_charge = []\n",
    "for t in year_index:\n",
    "    transportation_cost_shredder_fixed_charge.append((shredder_to_oxide_tc.loc[slice(None), slice(None), t] * flow_shredder_to_oxide_fixed_charge.loc[slice(None), slice(None), t]).sum())\n",
    "transportation_cost_shredder_fixed_charge = pd.Series(transportation_cost_shredder_fixed_charge, index=year_index, name='transportation_cost_shredder_fixed_charge')\n",
    "\n",
    "transportation_cost_oxide_fixed_charge = []\n",
    "for t in year_index:\n",
    "    transportation_cost_oxide_fixed_charge.append((oxide_to_fluoride_tc.loc[slice(None), slice(None), t] * flow_oxide_to_fluoride_fixed_charge.loc[slice(None), slice(None), t]).sum())\n",
    "transportation_cost_oxide_fixed_charge = pd.Series(transportation_cost_oxide_fixed_charge, index=year_index, name='transportation_cost_oxide_fixed_charge')\n",
    "\n",
    "transportation_cost_fluoride_fixed_charge = []\n",
    "for t in year_index:\n",
    "    transportation_cost_fluoride_fixed_charge.append((fluoride_to_metal_tc.loc[slice(None), slice(None), t] * flow_fluoride_to_metal_fixed_charge.loc[slice(None), slice(None), t]).sum())\n",
    "transportation_cost_fluoride_fixed_charge = pd.Series(transportation_cost_fluoride_fixed_charge, index=year_index, name='transportation_cost_fluoride_fixed_charge')\n",
    "\n",
    "transportation_cost_metal_fixed_charge = []\n",
    "for t in year_index:\n",
    "    transportation_cost_metal_fixed_charge.append((metal_to_magnet_tc.loc[slice(None), slice(None), t] * flow_metal_to_magnet_fixed_charge.loc[slice(None), slice(None), t]).sum())\n",
    "transportation_cost_metal_fixed_charge = pd.Series(transportation_cost_metal_fixed_charge, index=year_index, name='transportation_cost_metal_fixed_charge')\n",
    "\n",
    "transportation_cost_waste_supplier_fixed_charge = []\n",
    "for t in year_index:\n",
    "    transportation_cost_waste_supplier_fixed_charge.append((waste_to_shredder_tc.loc[slice(None), slice(None), t] * flow_waste_to_shredder_fixed_charge.loc[slice(None), slice(None), t]).sum())\n",
    "transportation_cost_waste_supplier_fixed_charge = pd.Series(transportation_cost_waste_supplier_fixed_charge, index=year_index, name='transportation_cost_waste_supplier_fixed_charge')\n",
    "\n",
    "\n",
    "fixed_cost_shredder =[]\n",
    "for t in year_index:\n",
    "    fixed_cost_shredder.append((fc_shredder.loc[slice(None), t] * (1 - w * is_shredder_incentive_eligible) * auxiliary_shredder_fixed_charge.loc[slice(None), t]).sum())\n",
    "fixed_cost_shredder = pd.Series(fixed_cost_shredder, index=year_index, name='fixed_cost_shredder')\n",
    "\n",
    "\n",
    "fixed_cost_oxide =[]\n",
    "for t in year_index:\n",
    "    fixed_cost_oxide.append((fc_oxide.loc[slice(None), t] * (1 - w * is_oxide_producer_incentive_eligible) * auxiliary_oxide_fixed_charge.loc[slice(None), t]).sum())\n",
    "fixed_cost_oxide = pd.Series(fixed_cost_oxide, index=year_index, name='fixed_cost_oxide')"
   ]
  },
  {
   "cell_type": "code",
   "execution_count": null,
   "metadata": {},
   "outputs": [],
   "source": [
    "total_revenue_fixed_charge = 0\n",
    "for j, t in enumerate(year_index, start=1):\n",
    "    total_revenue_fixed_charge += (1 / (1+MARR)**j) * revenue_fixed_charge[t]\n",
    "    \n",
    "total_conversion_cost_shredder_fixed_charge = 0\n",
    "for j, t in enumerate(year_index, start=1):\n",
    "    total_conversion_cost_shredder_fixed_charge += (1 / (1+MARR)**j) * conversion_cost_shredder_fixed_charge[t]\n",
    "    \n",
    "total_conversion_cost_oxide_fixed_charge = 0\n",
    "for j, t in enumerate(year_index, start=1):\n",
    "    total_conversion_cost_oxide_fixed_charge += (1 / (1+MARR)**j) * conversion_cost_oxide_fixed_charge[t]\n",
    "\n",
    "total_conversion_cost_fluoride_fixed_charge = 0\n",
    "for j, t in enumerate(year_index, start=1):\n",
    "    total_conversion_cost_fluoride_fixed_charge += (1 / (1+MARR)**j) * conversion_cost_fluoride_fixed_charge[t]\n",
    "\n",
    "total_conversion_cost_metal_fixed_charge = 0\n",
    "for j, t in enumerate(year_index, start=1):\n",
    "    total_conversion_cost_metal_fixed_charge += (1 / (1+MARR)**j) * conversion_cost_metal_fixed_charge[t]\n",
    "\n",
    "total_transportation_cost_shredder_fixed_charge = 0\n",
    "for j, t in enumerate(year_index, start=1):\n",
    "    total_transportation_cost_shredder_fixed_charge += (1 / (1+MARR)**j) * transportation_cost_shredder_fixed_charge[t]\n",
    "    \n",
    "total_transportation_cost_oxide_fixed_charge = 0\n",
    "for j, t in enumerate(year_index, start=1):\n",
    "    total_transportation_cost_oxide_fixed_charge += (1 / (1+MARR)**j) * transportation_cost_oxide_fixed_charge[t]\n",
    "    \n",
    "total_transportation_cost_fluoride_fixed_charge = 0\n",
    "for j, t in enumerate(year_index, start=1):\n",
    "    total_transportation_cost_fluoride_fixed_charge += (1 / (1+MARR)**j) * transportation_cost_fluoride_fixed_charge[t]\n",
    "    \n",
    "total_transportation_cost_metal_fixed_charge = 0\n",
    "for j, t in enumerate(year_index, start=1):\n",
    "    total_transportation_cost_metal_fixed_charge += (1 / (1+MARR)**j) * transportation_cost_metal_fixed_charge[t]\n",
    "    \n",
    "total_transportation_cost_waste_supplier_fixed_charge = 0\n",
    "for j, t in enumerate(year_index, start=1):\n",
    "    total_transportation_cost_waste_supplier_fixed_charge += (1 / (1+MARR)**j) * transportation_cost_waste_supplier_fixed_charge[t]\n",
    "\n",
    "   \n",
    "total_fixed_cost_shredder = 0\n",
    "for j, t in enumerate(year_index, start=1):\n",
    "    total_fixed_cost_shredder += (1 / (1+MARR)**j) * fixed_cost_shredder[t]\n",
    "\n",
    "\n",
    "total_fixed_cost_oxide = 0\n",
    "for j, t in enumerate(year_index, start=1):\n",
    "    total_fixed_cost_oxide += (1 / (1+MARR)**j) * fixed_cost_oxide[t]"
   ]
  },
  {
   "cell_type": "code",
   "execution_count": null,
   "metadata": {},
   "outputs": [],
   "source": [
    "obj_exprs_fixed_charge = total_revenue_fixed_charge - total_conversion_cost_shredder_fixed_charge - total_conversion_cost_oxide_fixed_charge - total_conversion_cost_fluoride_fixed_charge - \\\n",
    "                        total_conversion_cost_metal_fixed_charge - total_transportation_cost_shredder_fixed_charge - total_transportation_cost_oxide_fixed_charge - \\\n",
    "                        total_transportation_cost_fluoride_fixed_charge - total_transportation_cost_metal_fixed_charge - total_transportation_cost_waste_supplier_fixed_charge - \\\n",
    "                        total_fixed_cost_oxide - total_fixed_cost_shredder\n",
    "            \n",
    "model_with_fixed_charge.setObjective(obj_exprs_fixed_charge, sense=GRB.MAXIMIZE)\n",
    "model_with_fixed_charge.update()"
   ]
  },
  {
   "cell_type": "markdown",
   "metadata": {},
   "source": [
    "## Create heuristic solution for Fixed Charge problem"
   ]
  },
  {
   "cell_type": "code",
   "execution_count": 70,
   "metadata": {},
   "outputs": [],
   "source": [
    "for i, j, t in flow_shredder_to_oxide.index:\n",
    "    flow_shredder_to_oxide_fixed_charge[i,j,t].Start = flow_shredder_to_oxide[i,j,t].X\n",
    "    \n",
    "for i, j, t in flow_oxide_to_fluoride.index:\n",
    "    flow_oxide_to_fluoride_fixed_charge[i,j,t].Start = flow_oxide_to_fluoride[i,j,t].X\n",
    "    \n",
    "for i, j, t in flow_fluoride_to_metal.index:\n",
    "    flow_fluoride_to_metal_fixed_charge[i,j,t].Start = flow_fluoride_to_metal[i,j,t].X\n",
    "    \n",
    "for i, j, t in flow_metal_to_magnet.index:\n",
    "    flow_metal_to_magnet_fixed_charge[i,j,t].Start = flow_metal_to_magnet[i,j,t].X\n",
    "    \n",
    "for i, j, t in flow_waste_to_shredder.index:\n",
    "    flow_waste_to_shredder_fixed_charge[i,j,t].Start = flow_waste_to_shredder[i,j,t].X"
   ]
  },
  {
   "cell_type": "code",
   "execution_count": 71,
   "metadata": {},
   "outputs": [],
   "source": [
    "model_with_fixed_charge.update()"
   ]
  },
  {
   "cell_type": "code",
   "execution_count": 72,
   "metadata": {},
   "outputs": [],
   "source": [
    "for i, t in y_shredder_fixed_charge.index:\n",
    "    total_flow_from_i = flow_shredder_to_oxide.loc[i, slice(None), t].gppd.X.sum()\n",
    "    y_shredder_fixed_charge[i,t].Start = 1 if total_flow_from_i > 0 else 0\n",
    "    \n",
    "    if i == 'S01': # Always open RecycleForce\n",
    "        y_shredder_fixed_charge[i,t].UB = 1\n",
    "        y_shredder_fixed_charge[i,t].LB = 1\n",
    "        y_shredder_fixed_charge[i,t].Start = 1"
   ]
  },
  {
   "cell_type": "code",
   "execution_count": 73,
   "metadata": {},
   "outputs": [],
   "source": [
    "for i, t in y_oxide_fixed_charge.index:\n",
    "    total_flow_from_i = flow_oxide_to_fluoride.loc[i, slice(None), t].gppd.X.sum()\n",
    "    y_oxide_fixed_charge[i,t].Start = 1 if total_flow_from_i > 0 else 0\n",
    "    \n",
    "    if i == 'OP65':\n",
    "        y_oxide_fixed_charge[i,t].UB = 1\n",
    "        y_oxide_fixed_charge[i,t].LB = 1\n",
    "        y_oxide_fixed_charge[i,t].Start = 1"
   ]
  },
  {
   "cell_type": "code",
   "execution_count": 74,
   "metadata": {},
   "outputs": [],
   "source": [
    "model_with_fixed_charge.update()"
   ]
  },
  {
   "cell_type": "code",
   "execution_count": null,
   "metadata": {},
   "outputs": [
    {
     "data": {
      "text/plain": [
       "'\\nfor i in shredders.keys():\\n    for j, t in enumerate(year_index):\\n        if j > 0:\\n            auxiliary_shredder_fixed_charge[i, t].Start = max(0, y_shredder_fixed_charge[i, t].Start - y_shredder_fixed_charge[i, year_index[j-1]].Start)\\n        else:\\n            auxiliary_shredder_fixed_charge[i, t].Start = max(0, y_shredder_fixed_charge[i, t].Start)\\n'"
      ]
     },
     "execution_count": 75,
     "metadata": {},
     "output_type": "execute_result"
    }
   ],
   "source": [
    "\n",
    "for i in shredders.keys():\n",
    "    for j, t in enumerate(year_index):\n",
    "        if j > 0:\n",
    "            auxiliary_shredder_fixed_charge[i, t].Start = max(0, y_shredder_fixed_charge[i, t].Start - y_shredder_fixed_charge[i, year_index[j-1]].Start)\n",
    "        else:\n",
    "            auxiliary_shredder_fixed_charge[i, t].Start = max(0, y_shredder_fixed_charge[i, t].Start)\n"
   ]
  },
  {
   "cell_type": "code",
   "execution_count": 76,
   "metadata": {},
   "outputs": [],
   "source": [
    "for i in oxide_producers.keys():\n",
    "    for j, t in enumerate(year_index):\n",
    "        if j > 0:\n",
    "            auxiliary_oxide_fixed_charge[i, t].Start = max(0, y_oxide_fixed_charge[i, t].Start - y_oxide_fixed_charge[i, year_index[j-1]].Start)\n",
    "        else:\n",
    "            auxiliary_oxide_fixed_charge[i, t].Start = max(0, y_oxide_fixed_charge[i, t].Start)"
   ]
  },
  {
   "cell_type": "code",
   "execution_count": 77,
   "metadata": {},
   "outputs": [],
   "source": [
    "model_with_fixed_charge.update()"
   ]
  },
  {
   "cell_type": "code",
   "execution_count": 78,
   "metadata": {},
   "outputs": [
    {
     "data": {
      "text/plain": [
       "0"
      ]
     },
     "execution_count": 78,
     "metadata": {},
     "output_type": "execute_result"
    }
   ],
   "source": [
    "import gc\n",
    "model_no_fixed_charge.remove(model_no_fixed_charge.getVars())\n",
    "model_no_fixed_charge.remove(model_no_fixed_charge.getConstrs())\n",
    "del flow_shredder_to_oxide, flow_oxide_to_fluoride, flow_fluoride_to_metal, flow_waste_to_shredder, flow_metal_to_magnet, shredder_balance, oxide_balance, fluoride_balance, metal_balance\n",
    "del waste_supply_limit, shredder_supply_limit, oxide_supply_limit, fluoride_supply_limit, metal_supply_limit\n",
    "del revenue, conversion_cost_shredder, conversion_cost_oxide, conversion_cost_fluoride, conversion_cost_metal, \n",
    "del transportation_cost_shredder, transportation_cost_oxide, transportation_cost_fluoride, transportation_cost_metal, transportation_cost_waste_supplier\n",
    "del total_revenue, total_conversion_cost_shredder, total_conversion_cost_oxide, total_conversion_cost_fluoride, total_conversion_cost_metal\n",
    "del total_transportation_cost_shredder, total_transportation_cost_oxide, total_transportation_cost_fluoride, total_transportation_cost_metal, total_transportation_cost_waste_supplier\n",
    "del obj_exprs, model_no_fixed_charge\n",
    "gc.collect()"
   ]
  },
  {
   "cell_type": "markdown",
   "metadata": {},
   "source": [
    "## Solve the fixed charge problem with warm-up heuristic"
   ]
  },
  {
   "cell_type": "code",
   "execution_count": null,
   "metadata": {},
   "outputs": [
    {
     "name": "stdout",
     "output_type": "stream",
     "text": [
      "Set parameter MIPFocus to value 3\n",
      "Gurobi Optimizer version 11.0.3 build v11.0.3rc0 (win64 - Windows 11.0 (22631.2))\n",
      "\n",
      "CPU model: Intel(R) Core(TM) i7-10750H CPU @ 2.60GHz, instruction set [SSE2|AVX|AVX2]\n",
      "Thread count: 6 physical cores, 12 logical processors, using up to 12 threads\n",
      "\n",
      "Optimize a model with 32380 rows, 11685090 columns and 23795315 nonzeros\n",
      "Model fingerprint: 0x9dfa66d3\n",
      "Variable types: 11677860 continuous, 7230 integer (7230 binary)\n",
      "Coefficient statistics:\n",
      "  Matrix range     [8e-02, 2e+04]\n",
      "  Objective range  [4e-02, 2e+05]\n",
      "  Bounds range     [1e+00, 1e+00]\n",
      "  RHS range        [2e+01, 8e+03]\n",
      "\n",
      "Loaded user MIP start with objective 7.09163e+06\n",
      "\n",
      "Presolve removed 94 rows and 6794 columns (presolve time = 5s) ...\n",
      "Presolve removed 94 rows and 6794 columns (presolve time = 11s) ...\n",
      "Presolve removed 94 rows and 6914 columns (presolve time = 15s) ...\n",
      "Presolve removed 94 rows and 6914 columns (presolve time = 20s) ...\n",
      "Presolve removed 94 rows and 6914 columns (presolve time = 25s) ...\n",
      "Presolve removed 94 rows and 6914 columns (presolve time = 30s) ...\n",
      "Presolve removed 94 rows and 6914 columns (presolve time = 35s) ...\n",
      "Presolve removed 94 rows and 6914 columns (presolve time = 40s) ...\n",
      "Presolve removed 94 rows and 6914 columns (presolve time = 45s) ...\n",
      "Presolve removed 94 rows and 6914 columns (presolve time = 50s) ...\n",
      "Presolve removed 94 rows and 6914 columns (presolve time = 55s) ...\n",
      "Presolve removed 94 rows and 6914 columns (presolve time = 60s) ...\n",
      "Presolve removed 94 rows and 6914 columns (presolve time = 65s) ...\n",
      "Presolve removed 94 rows and 6914 columns (presolve time = 70s) ...\n",
      "Presolve removed 94 rows and 6914 columns (presolve time = 75s) ...\n",
      "Presolve removed 94 rows and 6914 columns (presolve time = 80s) ...\n",
      "Presolve removed 94 rows and 6914 columns (presolve time = 85s) ...\n",
      "Presolve removed 94 rows and 6914 columns (presolve time = 90s) ...\n",
      "Presolve removed 94 rows and 6914 columns (presolve time = 95s) ...\n",
      "Presolve removed 94 rows and 6914 columns (presolve time = 100s) ...\n",
      "Presolve removed 94 rows and 6914 columns (presolve time = 105s) ...\n",
      "Presolve removed 124 rows and 6914 columns (presolve time = 111s) ...\n",
      "Presolve removed 134 rows and 6924 columns (presolve time = 115s) ...\n",
      "Presolve removed 134 rows and 6924 columns (presolve time = 120s) ...\n",
      "Presolve removed 6704 rows and 6924 columns (presolve time = 126s) ...\n",
      "Presolve removed 6704 rows and 6924 columns (presolve time = 132s) ...\n",
      "Presolve removed 6704 rows and 6924 columns (presolve time = 140s) ...\n",
      "Presolve removed 6704 rows and 6924 columns (presolve time = 143s) ...\n",
      "Presolve removed 134 rows and 354 columns\n",
      "Presolve time: 142.57s\n",
      "Presolved: 32246 rows, 11684736 columns, 23373358 nonzeros\n",
      "Variable types: 11683520 continuous, 1216 integer (1216 binary)\n",
      "Root relaxation presolve removed 0 rows and 0 columns (presolve time = 5s) ...\n",
      "Root relaxation presolve removed 0 rows and 0 columns (presolve time = 10s) ...\n",
      "Root relaxation presolve removed 0 rows and 0 columns (presolve time = 16s) ...\n",
      "Root relaxation presolved: 32246 rows, 11684736 columns, 23373358 nonzeros\n",
      "\n",
      "Deterministic concurrent LP optimizer: primal simplex, dual simplex, and barrier\n",
      "Showing barrier log only...\n",
      "\n",
      "Root barrier log...\n",
      "\n",
      "Elapsed ordering time = 5s\n",
      "Elapsed ordering time = 10s\n",
      "Elapsed ordering time = 15s\n",
      "Elapsed ordering time = 20s\n",
      "Ordering time: 23.15s\n",
      "\n",
      "Barrier statistics:\n",
      " AA' NZ     : 1.169e+07\n",
      " Factor NZ  : 1.680e+07 (roughly 5.0 GB of memory)\n",
      " Factor Ops : 1.272e+10 (roughly 1 second per iteration)\n",
      " Threads    : 4\n",
      "\n",
      "                  Objective                Residual\n",
      "Iter       Primal          Dual         Primal    Dual     Compl     Time\n",
      "   0  -8.05816185e+13  1.22245881e+13  1.32e+06 1.01e+05  1.66e+08   212s\n",
      "\n",
      "Barrier performed 0 iterations in 211.98 seconds (312.76 work units)\n",
      "Barrier solve interrupted - model solved by another algorithm\n",
      "\n",
      "Concurrent spin time: 1.22s\n",
      "\n",
      "Solved with primal simplex\n",
      "\n",
      "Root simplex log...\n",
      "\n",
      "Iteration    Objective       Primal Inf.    Dual Inf.      Time\n",
      "  142369    7.8300628e+06   0.000000e+00   0.000000e+00    217s\n",
      "\n",
      "Root relaxation: objective 7.830063e+06, 142369 iterations, 62.00 seconds (40.66 work units)\n",
      "Total elapsed time = 252.73s (DegenMoves)\n",
      "Total elapsed time = 256.26s (DegenMoves)\n",
      "\n",
      "    Nodes    |    Current Node    |     Objective Bounds      |     Work\n",
      " Expl Unexpl |  Obj  Depth IntInf | Incumbent    BestBd   Gap | It/Node Time\n",
      "\n",
      "     0     0 7830062.78    0   80 7091625.66 7830062.78  10.4%     -  260s\n",
      "H    0     0                    7154593.1095 7830062.78  9.44%     -  266s\n",
      "H    0     0                    7412955.8493 7830062.78  5.63%     -  288s\n",
      "     0     0 7819922.39    0   90 7412955.85 7819922.39  5.49%     -  404s\n",
      "     0     0 7770622.09    0   80 7412955.85 7770622.09  4.82%     -  508s\n",
      "     0     0 7769752.68    0   80 7412955.85 7769752.68  4.81%     -  521s\n",
      "     0     0 7768436.76    0   90 7412955.85 7768436.76  4.80%     -  540s\n",
      "     0     0 7765176.80    0  100 7412955.85 7765176.80  4.75%     -  572s\n",
      "     0     0 7765176.40    0  100 7412955.85 7765176.40  4.75%     -  581s\n",
      "     0     0 7740884.23    0  100 7412955.85 7740884.23  4.42%     -  742s\n",
      "     0     0 7735055.58    0  100 7412955.85 7735055.58  4.35%     -  836s\n",
      "     0     0 7729011.51    0  100 7412955.85 7729011.51  4.26%     -  882s\n",
      "     0     0 7728846.93    0   90 7412955.85 7728846.93  4.26%     -  896s\n",
      "     0     0 7728529.57    0   90 7412955.85 7728529.57  4.26%     -  920s\n",
      "     0     0 7728527.85    0   90 7412955.85 7728527.85  4.26%     -  931s\n",
      "     0     0 7714750.11    0  100 7412955.85 7714750.11  4.07%     - 1201s\n",
      "     0     0 7691948.80    0   90 7412955.85 7691948.80  3.76%     - 1334s\n",
      "     0     0 7691948.80    0   90 7412955.85 7691948.80  3.76%     - 1371s\n",
      "     0     0 7691948.80    0   90 7412955.85 7691948.80  3.76%     - 1386s\n",
      "     0     0 7691948.80    0   90 7412955.85 7691948.80  3.76%     - 1397s\n",
      "     0     0 7691948.80    0   90 7412955.85 7691948.80  3.76%     - 1625s\n",
      "     0     0 7669927.55    0  120 7412955.85 7669927.55  3.47%     - 1742s\n",
      "     0     0 7669927.55    0  120 7412955.85 7669927.55  3.47%     - 1762s\n",
      "     0     0 7669927.55    0  120 7412955.85 7669927.55  3.47%     - 1780s\n",
      "     0     0 7669927.55    0  120 7412955.85 7669927.55  3.47%     - 1795s\n",
      "     0     0 7669927.55    0  120 7412955.85 7669927.55  3.47%     - 1814s\n",
      "     0     0 7669927.55    0  120 7412955.85 7669927.55  3.47%     - 1843s\n",
      "     0     0 7669927.55    0  120 7412955.85 7669927.55  3.47%     - 1859s\n",
      "     0     0 7669927.55    0  110 7412955.85 7669927.55  3.47%     - 1874s\n",
      "     0     0 7669927.55    0  120 7412955.85 7669927.55  3.47%     - 1886s\n",
      "     0     0 7669927.55    0  131 7412955.85 7669927.55  3.47%     - 2177s\n",
      "     0     0 7669927.55    0  131 7412955.85 7669927.55  3.47%     - 2249s\n",
      "     0     0 7669927.55    0  131 7412955.85 7669927.55  3.47%     - 2271s\n",
      "     0     0 7669927.55    0  141 7412955.85 7669927.55  3.47%     - 2291s\n",
      "     0     0 7669927.55    0  140 7412955.85 7669927.55  3.47%     - 2311s\n",
      "     0     0 7669696.02    0  140 7412955.85 7669696.02  3.46%     - 2332s\n",
      "     0     0 7669446.38    0  140 7412955.85 7669446.38  3.46%     - 2353s\n",
      "     0     0 7668909.23    0  130 7412955.85 7668909.23  3.45%     - 2377s\n",
      "     0     0 7668735.32    0  140 7412955.85 7668735.32  3.45%     - 2401s\n",
      "     0     0 7668294.83    0  140 7412955.85 7668294.83  3.44%     - 2441s\n",
      "     0     0 7668267.26    0  140 7412955.85 7668267.26  3.44%     - 2456s\n",
      "     0     0 7666095.89    0  140 7412955.85 7666095.89  3.41%     - 2766s\n",
      "     0     0 7642082.11    0  150 7412955.85 7642082.11  3.09%     - 2862s\n",
      "     0     0 7642082.11    0  140 7412955.85 7642082.11  3.09%     - 2886s\n",
      "     0     0 7642082.11    0  100 7412955.85 7642082.11  3.09%     - 2905s\n",
      "     0     0 7642082.11    0  110 7412955.85 7642082.11  3.09%     - 2944s\n",
      "     0     0 7642082.11    0  100 7412955.85 7642082.11  3.09%     - 2980s\n",
      "     0     0 7642082.11    0  110 7412955.85 7642082.11  3.09%     - 3009s\n",
      "     0     0 7642082.11    0  150 7412955.85 7642082.11  3.09%     - 3042s\n",
      "     0     0 7642082.11    0  150 7412955.85 7642082.11  3.09%     - 3069s\n",
      "     0     0 7642082.11    0  140 7412955.85 7642082.11  3.09%     - 3098s\n",
      "     0     0 7642082.11    0  110 7412955.85 7642082.11  3.09%     - 3120s\n",
      "     0     0 7642082.11    0  110 7412955.85 7642082.11  3.09%     - 3438s\n",
      "     0     0 7629107.05    0  110 7412955.85 7629107.05  2.92%     - 3511s\n",
      "     0     0 7629107.05    0  130 7412955.85 7629107.05  2.92%     - 3555s\n",
      "     0     0 7629107.05    0  140 7412955.85 7629107.05  2.92%     - 3605s\n",
      "     0     0 7629107.05    0  140 7412955.85 7629107.05  2.92%     - 3659s\n",
      "     0     0 7629107.05    0  140 7412955.85 7629107.05  2.92%     - 3684s\n",
      "     0     0 7629107.05    0  140 7412955.85 7629107.05  2.92%     - 3711s\n",
      "     0     0 7629107.05    0  140 7412955.85 7629107.05  2.92%     - 3731s\n",
      "     0     0 7629107.05    0  140 7412955.85 7629107.05  2.92%     - 3751s\n",
      "     0     0 7629107.05    0  140 7412955.85 7629107.05  2.92%     - 3783s\n",
      "     0     0 7629107.05    0  140 7412955.85 7629107.05  2.92%     - 3801s\n",
      "     0     0 7629107.05    0  141 7412955.85 7629107.05  2.92%     - 4179s\n",
      "     0     0 7629107.05    0  161 7412955.85 7629107.05  2.92%     - 4257s\n",
      "     0     0 7629107.05    0  151 7412955.85 7629107.05  2.92%     - 4298s\n",
      "     0     0 7629107.05    0  151 7412955.85 7629107.05  2.92%     - 4327s\n",
      "     0     0 7629107.05    0  151 7412955.85 7629107.05  2.92%     - 4388s\n",
      "     0     0 7629107.05    0  161 7412955.85 7629107.05  2.92%     - 4420s\n",
      "     0     0 7629107.05    0  151 7412955.85 7629107.05  2.92%     - 4460s\n",
      "     0     0 7629107.05    0  151 7412955.85 7629107.05  2.92%     - 4492s\n",
      "     0     0 7629090.28    0  151 7412955.85 7629090.28  2.92%     - 4546s\n",
      "     0     0 7629045.49    0  161 7412955.85 7629045.49  2.92%     - 4567s\n",
      "     0     0 7625402.05    0  161 7412955.85 7625402.05  2.87%     - 4988s\n",
      "     0     0 7624815.35    0  161 7412955.85 7624815.35  2.86%     - 5067s\n",
      "     0     0 7622841.09    0  151 7412955.85 7622841.09  2.83%     - 5136s\n",
      "     0     0 7622475.03    0  151 7412955.85 7622475.03  2.83%     - 5177s\n",
      "     0     0 7622116.82    0  151 7412955.85 7622116.82  2.82%     - 5215s\n",
      "     0     0 7621782.44    0  141 7412955.85 7621782.44  2.82%     - 5267s\n",
      "     0     0 7621743.60    0  151 7412955.85 7621743.60  2.82%     - 5299s\n",
      "     0     0 7618544.32    0  171 7412955.85 7618544.32  2.77%     - 5749s\n",
      "     0     0 7617792.23    0  162 7412955.85 7617792.23  2.76%     - 5841s\n",
      "     0     0 7615403.81    0  180 7412955.85 7615403.81  2.73%     - 5916s\n",
      "     0     0 7614748.92    0  180 7412955.85 7614748.92  2.72%     - 5961s\n",
      "     0     0 7613940.16    0  180 7412955.85 7613940.16  2.71%     - 6072s\n",
      "     0     0 7613506.15    0  180 7412955.85 7613506.15  2.71%     - 6146s\n",
      "     0     0 7613323.95    0  180 7412955.85 7613323.95  2.70%     - 6201s\n",
      "     0     0 7613188.78    0  180 7412955.85 7613188.78  2.70%     - 6250s\n",
      "     0     0 7612985.92    0  170 7412955.85 7612985.92  2.70%     - 6297s\n",
      "     0     0 7612928.46    0  170 7412955.85 7612928.46  2.70%     - 6330s\n",
      "     0     0 7612065.42    0  160 7412955.85 7612065.42  2.69%     - 6807s\n",
      "     0     0 7609788.34    0  171 7412955.85 7609788.34  2.66%     - 6931s\n",
      "     0     0 7609086.16    0  181 7412955.85 7609086.16  2.65%     - 6991s\n",
      "     0     0 7608955.37    0  180 7412955.85 7608955.37  2.64%     - 7044s\n",
      "     0     0 7608657.63    0  171 7412955.85 7608657.63  2.64%     - 7106s\n",
      "     0     0 7608546.66    0  171 7412955.85 7608546.66  2.64%     - 7162s\n",
      "     0     0 7608408.48    0  181 7412955.85 7608408.48  2.64%     - 7219s\n",
      "     0     0 7608382.23    0  181 7412955.85 7608382.23  2.64%     - 7249s\n",
      "     0     0 7607263.24    0  182 7412955.85 7607263.24  2.62%     - 7763s\n",
      "H    0     0                    7516606.6489 7605144.06  1.18%     - 7921s\n",
      "\n",
      "Cutting planes:\n",
      "  Gomory: 14\n",
      "  Lift-and-project: 131\n",
      "  MIR: 86\n",
      "  Mixing: 3\n",
      "  Flow cover: 1298\n",
      "\n",
      "Explored 1 nodes (210478 simplex iterations) in 7931.55 seconds (2712.04 work units)\n",
      "Thread count was 12 (of 12 available processors)\n",
      "\n",
      "Solution count 4: 7.51661e+06 7.41296e+06 7.15459e+06 7.09163e+06 \n",
      "\n",
      "Solve interrupted\n",
      "Best objective 7.516606648923e+06, best bound 7.605144056839e+06, gap 1.1779%\n",
      "\n",
      "User-callback calls 188559, time in user-callback 1.32 sec\n",
      "Set parameter MIPFocus to value 1\n",
      "Gurobi Optimizer version 11.0.3 build v11.0.3rc0 (win64 - Windows 11.0 (22631.2))\n",
      "\n",
      "CPU model: Intel(R) Core(TM) i7-10750H CPU @ 2.60GHz, instruction set [SSE2|AVX|AVX2]\n",
      "Thread count: 6 physical cores, 12 logical processors, using up to 12 threads\n",
      "\n",
      "Optimize a model with 32380 rows, 11685090 columns and 23795315 nonzeros\n",
      "Model fingerprint: 0x9dfa66d3\n",
      "Variable types: 11677860 continuous, 7230 integer (7230 binary)\n",
      "Coefficient statistics:\n",
      "  Matrix range     [8e-02, 2e+04]\n",
      "  Objective range  [4e-02, 2e+05]\n",
      "  Bounds range     [1e+00, 1e+00]\n",
      "  RHS range        [2e+01, 8e+03]\n",
      "Presolved: 32246 rows, 11684736 columns, 23373358 nonzeros\n",
      "\n",
      "Continuing optimization...\n",
      "\n",
      "     0     0 7605144.06    0  182 7516606.65 7605144.06  1.18%     - 8283s\n",
      "     0     2 7605144.06    0  182 7516606.65 7605144.06  1.18%     - 8667s\n",
      "     1     4 7597348.00    1  178 7516606.65 7605144.06  1.18%  2224 8905s\n",
      "\n",
      "Cutting planes:\n",
      "  Gomory: 13\n",
      "  Lift-and-project: 129\n",
      "  MIR: 78\n",
      "  Mixing: 3\n",
      "  Flow cover: 1193\n",
      "\n",
      "Explored 3 nodes (427815 simplex iterations) in 1197.28 seconds (730.97 work units)\n",
      "Thread count was 12 (of 12 available processors)\n",
      "\n",
      "Solution count 3: 7.51661e+06 \n",
      "\n",
      "Solve interrupted (error code 10001)\n",
      "Best objective 7.516606648923e+06, best bound 7.597345401812e+06, gap 1.0741%\n",
      "\n",
      "User-callback calls 13037, time in user-callback 0.10 sec\n"
     ]
    },
    {
     "ename": "GurobiError",
     "evalue": "Out of memory",
     "output_type": "error",
     "traceback": [
      "\u001b[1;31m---------------------------------------------------------------------------\u001b[0m",
      "\u001b[1;31mGurobiError\u001b[0m                               Traceback (most recent call last)",
      "Cell \u001b[1;32mIn[79], line 29\u001b[0m\n\u001b[0;32m     27\u001b[0m check_gap \u001b[38;5;241m=\u001b[39m \u001b[38;5;28;01mFalse\u001b[39;00m\n\u001b[0;32m     28\u001b[0m check_time \u001b[38;5;241m=\u001b[39m \u001b[38;5;28;01mTrue\u001b[39;00m\n\u001b[1;32m---> 29\u001b[0m \u001b[43mmodel_with_fixed_charge\u001b[49m\u001b[38;5;241;43m.\u001b[39;49m\u001b[43moptimize\u001b[49m\u001b[43m(\u001b[49m\u001b[43mmy_callback\u001b[49m\u001b[43m)\u001b[49m\n\u001b[0;32m     30\u001b[0m \u001b[38;5;28;01mif\u001b[39;00m model_with_fixed_charge\u001b[38;5;241m.\u001b[39m_changeParam_focusBound:\n\u001b[0;32m     31\u001b[0m     model_with_fixed_charge\u001b[38;5;241m.\u001b[39mParams\u001b[38;5;241m.\u001b[39mMIPGap \u001b[38;5;241m=\u001b[39m \u001b[38;5;241m0.01\u001b[39m   \u001b[38;5;66;03m# 1%\u001b[39;00m\n",
      "File \u001b[1;32msrc\\\\gurobipy\\\\model.pxi:890\u001b[0m, in \u001b[0;36mgurobipy.Model.optimize\u001b[1;34m()\u001b[0m\n",
      "\u001b[1;31mGurobiError\u001b[0m: Out of memory"
     ]
    }
   ],
   "source": [
    "def my_callback(model, where):\n",
    "    if where == GRB.Callback.MIP:\n",
    "        run_time = model.cbGet(GRB.Callback.RUNTIME)\n",
    "        objbst = model.cbGet(GRB.Callback.MIP_OBJBST)\n",
    "        objbnd = model.cbGet(GRB.Callback.MIP_OBJBND)\n",
    "        if abs(objbst - objbnd) < change_gap * (1.0 + abs(objbst)) and check_gap:\n",
    "            model_with_fixed_charge._changeParam_focusSol = True\n",
    "            model.terminate()  \n",
    "        if run_time > change_time and check_time:\n",
    "            model_with_fixed_charge._changeParam_focusBound = True\n",
    "            model.terminate() \n",
    "           \n",
    "\n",
    "change_gap = 0.035\n",
    "check_gap = True\n",
    "check_time = False\n",
    "change_time = 1800\n",
    "\n",
    "model_with_fixed_charge.Params.MIPFocus = 3\n",
    "model_with_fixed_charge.update()\n",
    "model_with_fixed_charge._changeParam_focusSol = False\n",
    "model_with_fixed_charge._changeParam_focusBound = False\n",
    "model_with_fixed_charge.optimize(my_callback)\n",
    "\n",
    "if model_with_fixed_charge._changeParam_focusSol:\n",
    "    model_with_fixed_charge.Params.MIPFocus = 1\n",
    "    check_gap = False\n",
    "    check_time = True\n",
    "    model_with_fixed_charge.optimize(my_callback)\n",
    "    if model_with_fixed_charge._changeParam_focusBound:\n",
    "        model_with_fixed_charge.Params.MIPGap = 0.01   # 1%\n",
    "        model_with_fixed_charge.Params.TimeLimit = 3600\n",
    "        model_with_fixed_charge.Params.MIPFocus = 2\n",
    "        model_with_fixed_charge.optimize()"
   ]
  },
  {
   "cell_type": "markdown",
   "metadata": {},
   "source": [
    "## Analyze"
   ]
  },
  {
   "cell_type": "code",
   "execution_count": 80,
   "metadata": {},
   "outputs": [
    {
     "data": {
      "text/plain": [
       "7516606.648922555"
      ]
     },
     "execution_count": 80,
     "metadata": {},
     "output_type": "execute_result"
    }
   ],
   "source": [
    "model_with_fixed_charge.ObjVal"
   ]
  },
  {
   "cell_type": "code",
   "execution_count": 81,
   "metadata": {},
   "outputs": [],
   "source": [
    "import os\n",
    "from src.utils import add_sheet_to_excelbook\n",
    "output_file_path = os.path.join(os.path.abspath(os.path.join(os.getcwd(), os.pardir)), \"artifacts\", \"output_data.xlsx\")"
   ]
  },
  {
   "cell_type": "code",
   "execution_count": 82,
   "metadata": {},
   "outputs": [],
   "source": [
    "shredder_locations = y_shredder_fixed_charge.gppd.X\n",
    "shredder_locations = shredder_locations.unstack(1).sort_index(axis = 1)\n",
    "shredder_locations = shredder_locations[year_index].reset_index()\n",
    "add_sheet_to_excelbook(output_file_path, \"Shredder Locations\", shredder_locations)"
   ]
  },
  {
   "cell_type": "code",
   "execution_count": 83,
   "metadata": {},
   "outputs": [],
   "source": [
    "oxide_producer_locations = y_oxide_fixed_charge.gppd.X\n",
    "oxide_producer_locations = oxide_producer_locations.unstack().sort_index(axis = 1)\n",
    "oxide_producer_locations = oxide_producer_locations[year_index].reset_index()\n",
    "add_sheet_to_excelbook(output_file_path, \"Oxide Producer Locations\", oxide_producer_locations)"
   ]
  },
  {
   "cell_type": "code",
   "execution_count": 84,
   "metadata": {},
   "outputs": [],
   "source": [
    "waste_to_shredder = flow_waste_to_shredder_fixed_charge.gppd.X\n",
    "waste_to_shredder = waste_to_shredder.unstack(2)\n",
    "waste_to_shredder = waste_to_shredder.loc[~(waste_to_shredder==0).all(axis=1)]\n",
    "waste_to_shredder = waste_to_shredder[year_index].reset_index()\n",
    "add_sheet_to_excelbook(output_file_path, \"Waste supplier to shredder\", waste_to_shredder)"
   ]
  },
  {
   "cell_type": "code",
   "execution_count": 85,
   "metadata": {},
   "outputs": [
    {
     "data": {
      "text/plain": [
       "(381, 12)"
      ]
     },
     "execution_count": 85,
     "metadata": {},
     "output_type": "execute_result"
    }
   ],
   "source": [
    "waste_to_shredder.shape"
   ]
  },
  {
   "cell_type": "code",
   "execution_count": 86,
   "metadata": {},
   "outputs": [],
   "source": [
    "shredder_to_oxide_producer = flow_shredder_to_oxide_fixed_charge.gppd.X\n",
    "shredder_to_oxide_producer = shredder_to_oxide_producer.unstack(2)\n",
    "shredder_to_oxide_producer = shredder_to_oxide_producer.loc[~(shredder_to_oxide_producer==0).all(axis=1)]\n",
    "shredder_to_oxide_producer = shredder_to_oxide_producer[year_index].reset_index()\n",
    "add_sheet_to_excelbook(output_file_path, \"Shredder to oxide producer\", shredder_to_oxide_producer)"
   ]
  },
  {
   "cell_type": "code",
   "execution_count": 87,
   "metadata": {},
   "outputs": [],
   "source": [
    "oxide_to_fluoride_producer = flow_oxide_to_fluoride_fixed_charge.gppd.X\n",
    "oxide_to_fluoride_producer = oxide_to_fluoride_producer.unstack(2)\n",
    "oxide_to_fluoride_producer = oxide_to_fluoride_producer.loc[~(oxide_to_fluoride_producer==0).all(axis=1)]\n",
    "oxide_to_fluoride_producer = oxide_to_fluoride_producer[year_index].reset_index()\n",
    "add_sheet_to_excelbook(output_file_path, \"oxide to fluoride producer\", oxide_to_fluoride_producer)"
   ]
  },
  {
   "cell_type": "code",
   "execution_count": 88,
   "metadata": {},
   "outputs": [],
   "source": [
    "fluoride_to_metal_producer = flow_fluoride_to_metal_fixed_charge.gppd.X\n",
    "fluoride_to_metal_producer = fluoride_to_metal_producer.unstack(2)\n",
    "fluoride_to_metal_producer = fluoride_to_metal_producer.loc[~(fluoride_to_metal_producer==0).all(axis=1)]\n",
    "fluoride_to_metal_producer = fluoride_to_metal_producer[year_index].reset_index()\n",
    "add_sheet_to_excelbook(output_file_path, \"fluoride to metal producer\", fluoride_to_metal_producer)"
   ]
  },
  {
   "cell_type": "code",
   "execution_count": 89,
   "metadata": {},
   "outputs": [],
   "source": [
    "metal_to_magnet_producer = flow_metal_to_magnet_fixed_charge.gppd.X\n",
    "metal_to_magnet_producer = metal_to_magnet_producer.unstack(2)\n",
    "metal_to_magnet_producer = metal_to_magnet_producer.loc[~(metal_to_magnet_producer==0).all(axis=1)]\n",
    "metal_to_magnet_producer = metal_to_magnet_producer[year_index].reset_index()\n",
    "add_sheet_to_excelbook(output_file_path, \"metal to magnet producer\", metal_to_magnet_producer)"
   ]
  },
  {
   "cell_type": "code",
   "execution_count": 90,
   "metadata": {},
   "outputs": [],
   "source": [
    "waste_to_shredder_transport_cost = waste_to_shredder_tc * (flow_waste_to_shredder_fixed_charge.gppd.X)\n",
    "shredder_tranportation_cost = {}\n",
    "shredders_labels = waste_to_shredder_transport_cost.index.get_level_values(1).unique()\n",
    "for i in shredders_labels:\n",
    "    for t in year_index:\n",
    "        shredder_tranportation_cost[(i,t)] = waste_to_shredder_transport_cost.loc[slice(None), i, t].sum()\n",
    "shredder_tranportation_cost_ = pd.Series(shredder_tranportation_cost, name=\"Transportation cost\")\n",
    "shredder_tranportation_cost_ = shredder_tranportation_cost_.unstack(1)\n",
    "shredder_tranportation_cost_ = shredder_tranportation_cost_.loc[~(shredder_tranportation_cost_==0).all(axis=1)]\n",
    "shredder_tranportation_cost_ = shredder_tranportation_cost_[year_index].reset_index()\n",
    "add_sheet_to_excelbook(output_file_path, \"Shredder TC record\", shredder_tranportation_cost_)"
   ]
  },
  {
   "cell_type": "code",
   "execution_count": 91,
   "metadata": {},
   "outputs": [],
   "source": [
    "shredder_to_oxide_operating_cost = oc_shredder * (flow_shredder_to_oxide_fixed_charge.gppd.X)\n",
    "shredder_operating_cost = {}\n",
    "shredders_labels = shredder_to_oxide_operating_cost.index.get_level_values(0).unique()\n",
    "for i in shredders_labels:\n",
    "    for t in year_index:\n",
    "        shredder_operating_cost[(i,t)] = shredder_to_oxide_operating_cost.loc[i, t, slice(None)].sum()\n",
    "shredder_operating_cost_ = pd.Series(shredder_operating_cost, name=\"Operating cost\")\n",
    "shredder_operating_cost_ = shredder_operating_cost_.unstack(1)\n",
    "shredder_operating_cost_ = shredder_operating_cost_.loc[~(shredder_operating_cost_==0).all(axis=1)]\n",
    "shredder_operating_cost_ = shredder_operating_cost_[year_index].reset_index()\n",
    "add_sheet_to_excelbook(output_file_path, \"Shredder OC record\", shredder_operating_cost_)"
   ]
  },
  {
   "cell_type": "code",
   "execution_count": 92,
   "metadata": {},
   "outputs": [],
   "source": [
    "shredder_to_oxide_transport_cost = shredder_to_oxide_tc * (flow_shredder_to_oxide_fixed_charge.gppd.X)\n",
    "oxide_tranportation_cost = {}\n",
    "oxide_producers_labels = shredder_to_oxide_transport_cost.index.get_level_values(1).unique()\n",
    "for i in oxide_producers_labels:\n",
    "    for t in year_index:\n",
    "        oxide_tranportation_cost[(i,t)] = shredder_to_oxide_transport_cost.loc[slice(None), i, t].sum()\n",
    "oxide_tranportation_cost_ = pd.Series(oxide_tranportation_cost, name=\"Transportation cost\")\n",
    "oxide_tranportation_cost_ = oxide_tranportation_cost_.unstack(1)\n",
    "oxide_tranportation_cost_ = oxide_tranportation_cost_.loc[~(oxide_tranportation_cost_==0).all(axis=1)]\n",
    "oxide_tranportation_cost_ = oxide_tranportation_cost_[year_index].reset_index()\n",
    "add_sheet_to_excelbook(output_file_path, \"Oxide TC record\", oxide_tranportation_cost_)"
   ]
  },
  {
   "cell_type": "code",
   "execution_count": 93,
   "metadata": {},
   "outputs": [],
   "source": [
    "oxide_to_fluoride_operating_cost = oc_oxide * (flow_oxide_to_fluoride_fixed_charge.gppd.X)\n",
    "oxide_producer_operating_cost = {}\n",
    "oxide_producers_labels = oxide_to_fluoride_operating_cost.index.get_level_values(0).unique()\n",
    "for i in oxide_producers_labels:\n",
    "    for t in year_index:\n",
    "        oxide_producer_operating_cost[(i,t)] = oxide_to_fluoride_operating_cost.loc[i, t, slice(None)].sum()\n",
    "oxide_producer_operating_cost_ = pd.Series(oxide_producer_operating_cost, name=\"Operating cost\")\n",
    "oxide_producer_operating_cost_ = oxide_producer_operating_cost_.unstack(1)\n",
    "oxide_producer_operating_cost_ = oxide_producer_operating_cost_.loc[~(oxide_producer_operating_cost_==0).all(axis=1)]\n",
    "oxide_producer_operating_cost_ = oxide_producer_operating_cost_[year_index].reset_index()\n",
    "add_sheet_to_excelbook(output_file_path, \"Oxide OC record\", oxide_producer_operating_cost_)"
   ]
  },
  {
   "cell_type": "code",
   "execution_count": 94,
   "metadata": {},
   "outputs": [],
   "source": [
    "oxide_to_fluoride_transport_cost = oxide_to_fluoride_tc * (flow_oxide_to_fluoride_fixed_charge.gppd.X)\n",
    "fluoride_tranportation_cost = {}\n",
    "fluoride_producers_labels = oxide_to_fluoride_transport_cost.index.get_level_values(1).unique()\n",
    "for i in fluoride_producers_labels:\n",
    "    for t in year_index:\n",
    "        fluoride_tranportation_cost[(i,t)] = oxide_to_fluoride_transport_cost.loc[slice(None), i, t].sum()\n",
    "fluoride_tranportation_cost_ = pd.Series(fluoride_tranportation_cost, name=\"Transportation cost\")\n",
    "fluoride_tranportation_cost_ = fluoride_tranportation_cost_.unstack(1)\n",
    "fluoride_tranportation_cost_ = fluoride_tranportation_cost_.loc[~(fluoride_tranportation_cost_==0).all(axis=1)]\n",
    "fluoride_tranportation_cost_ = fluoride_tranportation_cost_[year_index].reset_index()\n",
    "add_sheet_to_excelbook(output_file_path, \"Fluoride TC record\", fluoride_tranportation_cost_)"
   ]
  },
  {
   "cell_type": "code",
   "execution_count": 95,
   "metadata": {},
   "outputs": [],
   "source": [
    "fluoride_to_metal_operating_cost = oc_fluoride * (flow_fluoride_to_metal_fixed_charge.gppd.X)\n",
    "fluoride_producer_operating_cost = {}\n",
    "fluoride_producers_labels = fluoride_to_metal_operating_cost.index.get_level_values(0).unique()\n",
    "for i in fluoride_producers_labels:\n",
    "    for t in year_index:\n",
    "        fluoride_producer_operating_cost[(i,t)] = fluoride_to_metal_operating_cost.loc[i, t, slice(None)].sum()\n",
    "fluoride_producer_operating_cost_ = pd.Series(fluoride_producer_operating_cost, name=\"Operating cost\")\n",
    "fluoride_producer_operating_cost_ = fluoride_producer_operating_cost_.unstack(1)\n",
    "fluoride_producer_operating_cost_ = fluoride_producer_operating_cost_.loc[~(fluoride_producer_operating_cost_==0).all(axis=1)]\n",
    "fluoride_producer_operating_cost_ = fluoride_producer_operating_cost_[year_index].reset_index()\n",
    "add_sheet_to_excelbook(output_file_path, \"Fluoride OC record\", fluoride_producer_operating_cost_)"
   ]
  },
  {
   "cell_type": "code",
   "execution_count": 96,
   "metadata": {},
   "outputs": [],
   "source": [
    "fluoride_to_metal_transport_cost = fluoride_to_metal_tc * (flow_fluoride_to_metal_fixed_charge.gppd.X)\n",
    "metal_tranportation_cost = {}\n",
    "metal_producers_labels = fluoride_to_metal_transport_cost.index.get_level_values(1).unique()\n",
    "for i in metal_producers_labels:\n",
    "    for t in year_index:\n",
    "        metal_tranportation_cost[(i,t)] = fluoride_to_metal_transport_cost.loc[slice(None), i, t].sum()\n",
    "metal_tranportation_cost_ = pd.Series(metal_tranportation_cost, name=\"Transportation cost\")\n",
    "metal_tranportation_cost_ = metal_tranportation_cost_.unstack(1)\n",
    "metal_tranportation_cost_ = metal_tranportation_cost_.loc[~(metal_tranportation_cost_==0).all(axis=1)]\n",
    "metal_tranportation_cost_ = metal_tranportation_cost_[year_index].reset_index()\n",
    "add_sheet_to_excelbook(output_file_path, \"REE TC record\", metal_tranportation_cost_)"
   ]
  },
  {
   "cell_type": "code",
   "execution_count": 97,
   "metadata": {},
   "outputs": [],
   "source": [
    "metal_to_magnet_operating_cost = oc_ree * (flow_metal_to_magnet_fixed_charge.gppd.X)\n",
    "metal_producer_operating_cost = {}\n",
    "metal_producers_labels = metal_to_magnet_operating_cost.index.get_level_values(0).unique()\n",
    "for i in metal_producers_labels:\n",
    "    for t in year_index:\n",
    "        metal_producer_operating_cost[(i,t)] = metal_to_magnet_operating_cost.loc[i, t, slice(None)].sum()\n",
    "metal_producer_operating_cost_ = pd.Series(metal_producer_operating_cost, name=\"Operating cost\")\n",
    "metal_producer_operating_cost_ = metal_producer_operating_cost_.unstack(1)\n",
    "metal_producer_operating_cost_ = metal_producer_operating_cost_.loc[~(metal_producer_operating_cost_==0).all(axis=1)]\n",
    "metal_producer_operating_cost_ = metal_producer_operating_cost_[year_index].reset_index()\n",
    "add_sheet_to_excelbook(output_file_path, \"REE OC record\", metal_producer_operating_cost_)"
   ]
  },
  {
   "cell_type": "code",
   "execution_count": 98,
   "metadata": {},
   "outputs": [],
   "source": [
    "total_profit = obj_exprs_fixed_charge.getValue()\n",
    "total_revenue = total_revenue_fixed_charge.getValue()\n",
    "total_conversion_cost_shredder = total_conversion_cost_shredder_fixed_charge.getValue()\n",
    "total_conversion_cost_oxide = total_conversion_cost_oxide_fixed_charge.getValue()\n",
    "total_conversion_cost_fluoride = total_conversion_cost_fluoride_fixed_charge.getValue()\n",
    "total_conversion_cost_metal = total_conversion_cost_metal_fixed_charge.getValue()\n",
    "total_transportation_cost_shredder = total_transportation_cost_shredder_fixed_charge.getValue()\n",
    "total_transportation_cost_oxide = total_transportation_cost_oxide_fixed_charge.getValue()\n",
    "total_transportation_cost_fluoride = total_transportation_cost_fluoride_fixed_charge.getValue()\n",
    "total_transportation_cost_metal = total_transportation_cost_metal_fixed_charge.getValue()\n",
    "total_transportation_cost_waste = total_transportation_cost_waste_supplier_fixed_charge.getValue()\n",
    "total_fixed_setup_cost_oxide = total_fixed_cost_oxide.getValue()\n",
    "#total_fixed_setup_cost_shredder = total_fixed_cost_shredder.getValue()\n",
    "\n",
    "output_data_path = os.path.join(os.path.abspath(os.path.join(os.getcwd(), os.pardir)), \"artifacts\", \"output.txt\")\n",
    "\n",
    "with open(output_data_path, 'w') as file:\n",
    "    # Write each variable on a new line\n",
    "    file.write(f\"Total Profit: {total_profit}\\n\")\n",
    "    file.write(f\"Total revenue: {total_revenue}\\n\")\n",
    "    #file.write(f\"Total fixed setup cost for shredders: {total_fixed_setup_cost_shredder}\\n\")\n",
    "    file.write(f\"Total operating cost for shredders: {total_conversion_cost_shredder}\\n\")\n",
    "    file.write(f\"Total transportaion cost for shredders: {total_transportation_cost_waste}\\n\")\n",
    "    file.write(f\"Total fixed setup cost for oxide producers: {total_fixed_setup_cost_oxide}\\n\")\n",
    "    file.write(f\"Total operational cost for oxide producers: {total_conversion_cost_oxide}\\n\")\n",
    "    file.write(f\"Total transportaion cost for oxide producers: {total_transportation_cost_shredder}\\n\")\n",
    "    file.write(f\"Total operational cost for fluoride producers: {total_conversion_cost_fluoride}\\n\")\n",
    "    file.write(f\"Total transportation cost for fluoride producers: {total_transportation_cost_oxide}\\n\")\n",
    "    file.write(f\"Total operational cost for metal producers: {total_conversion_cost_metal}\\n\")\n",
    "    file.write(f\"Total transportation cost for metal producers: {total_transportation_cost_fluoride}\\n\")\n",
    "    "
   ]
  },
  {
   "cell_type": "code",
   "execution_count": 99,
   "metadata": {},
   "outputs": [],
   "source": [
    "shredder_locations.set_index(\"from\", inplace=True)\n",
    "selected_shredders = shredder_locations.loc[~(shredder_locations==0).all(axis=1)].index\n",
    "selected_shredders_coordinates= pd.DataFrame.from_dict({s:shredders[s] for s in selected_shredders}, orient='index', columns=['Latitude', 'Longitude']).reset_index(drop=False)\n",
    "add_sheet_to_excelbook(output_file_path, \"Shredder Coordinates\", selected_shredders_coordinates)"
   ]
  },
  {
   "cell_type": "code",
   "execution_count": 100,
   "metadata": {},
   "outputs": [],
   "source": [
    "oxide_producer_locations.set_index(\"from\", inplace=True)\n",
    "selected_oxide_producers = oxide_producer_locations.loc[~(oxide_producer_locations==0).all(axis=1)].index\n",
    "selected_oxide_producers_coordinates= pd.DataFrame.from_dict({s:oxide_producers[s] for s in selected_oxide_producers}, orient='index', columns=['Latitude', 'Longitude']).reset_index(drop=False)\n",
    "add_sheet_to_excelbook(output_file_path, \"Oxide_producers Coordinates\", selected_oxide_producers_coordinates)"
   ]
  },
  {
   "cell_type": "code",
   "execution_count": 101,
   "metadata": {},
   "outputs": [],
   "source": [
    "waste_to_shredder.set_index([\"from\", \"to\"], inplace=True)\n",
    "selected_waste_source = waste_to_shredder.loc[~(waste_to_shredder==0).all(axis=1)].index.get_level_values(0).unique()\n",
    "selected_waste_source_coordinates = pd.DataFrame.from_dict({s:waste_source[s] for s in selected_waste_source}, orient='index', columns=['Latitude', 'Longitude']).reset_index(drop=False)\n",
    "add_sheet_to_excelbook(output_file_path, \"Waste Source Coordinates\", selected_waste_source_coordinates)"
   ]
  },
  {
   "cell_type": "code",
   "execution_count": 102,
   "metadata": {},
   "outputs": [],
   "source": [
    "def add_coordinates_to_df(df, source, destination):\n",
    "    # Create new columns for source coordinates\n",
    "    df['source_lat'] = df['from'].map(lambda x: source[x][0] if x in source else None)\n",
    "    df['source_lon'] = df['from'].map(lambda x: source[x][1] if x in source else None)\n",
    "\n",
    "    # Create new columns for destination coordinates\n",
    "    df['destination_lat'] = df['to'].map(lambda x: destination[x][0] if x in destination else None)\n",
    "    df['destination_lon'] = df['to'].map(lambda x: destination[x][1] if x in destination else None)\n",
    "\n",
    "    return df"
   ]
  },
  {
   "cell_type": "code",
   "execution_count": 104,
   "metadata": {},
   "outputs": [
    {
     "data": {
      "text/html": [
       "<div>\n",
       "<style scoped>\n",
       "    .dataframe tbody tr th:only-of-type {\n",
       "        vertical-align: middle;\n",
       "    }\n",
       "\n",
       "    .dataframe tbody tr th {\n",
       "        vertical-align: top;\n",
       "    }\n",
       "\n",
       "    .dataframe thead th {\n",
       "        text-align: right;\n",
       "    }\n",
       "</style>\n",
       "<table border=\"1\" class=\"dataframe\">\n",
       "  <thead>\n",
       "    <tr style=\"text-align: right;\">\n",
       "      <th></th>\n",
       "      <th>from</th>\n",
       "      <th>to</th>\n",
       "      <th>source_lat</th>\n",
       "      <th>source_lon</th>\n",
       "      <th>destination_lat</th>\n",
       "      <th>destination_lon</th>\n",
       "    </tr>\n",
       "  </thead>\n",
       "  <tbody>\n",
       "    <tr>\n",
       "      <th>0</th>\n",
       "      <td>W1000</td>\n",
       "      <td>S482</td>\n",
       "      <td>43.183605</td>\n",
       "      <td>-89.213725</td>\n",
       "      <td>41.58105</td>\n",
       "      <td>-90.55953</td>\n",
       "    </tr>\n",
       "    <tr>\n",
       "      <th>1</th>\n",
       "      <td>W1006</td>\n",
       "      <td>S448</td>\n",
       "      <td>34.569308</td>\n",
       "      <td>-92.585378</td>\n",
       "      <td>36.05538</td>\n",
       "      <td>-95.81178</td>\n",
       "    </tr>\n",
       "    <tr>\n",
       "      <th>2</th>\n",
       "      <td>W1009</td>\n",
       "      <td>S554</td>\n",
       "      <td>43.804133</td>\n",
       "      <td>-120.554201</td>\n",
       "      <td>44.31713</td>\n",
       "      <td>-120.84709</td>\n",
       "    </tr>\n",
       "    <tr>\n",
       "      <th>3</th>\n",
       "      <td>W1019</td>\n",
       "      <td>S463</td>\n",
       "      <td>39.310352</td>\n",
       "      <td>-94.927937</td>\n",
       "      <td>38.97779</td>\n",
       "      <td>-94.85844</td>\n",
       "    </tr>\n",
       "    <tr>\n",
       "      <th>4</th>\n",
       "      <td>W1021</td>\n",
       "      <td>S551</td>\n",
       "      <td>44.272620</td>\n",
       "      <td>-121.173921</td>\n",
       "      <td>44.24652</td>\n",
       "      <td>-121.18911</td>\n",
       "    </tr>\n",
       "  </tbody>\n",
       "</table>\n",
       "</div>"
      ],
      "text/plain": [
       "    from    to  source_lat  source_lon  destination_lat  destination_lon\n",
       "0  W1000  S482   43.183605  -89.213725         41.58105        -90.55953\n",
       "1  W1006  S448   34.569308  -92.585378         36.05538        -95.81178\n",
       "2  W1009  S554   43.804133 -120.554201         44.31713       -120.84709\n",
       "3  W1019  S463   39.310352  -94.927937         38.97779        -94.85844\n",
       "4  W1021  S551   44.272620 -121.173921         44.24652       -121.18911"
      ]
     },
     "execution_count": 104,
     "metadata": {},
     "output_type": "execute_result"
    }
   ],
   "source": [
    "waste_to_shredder = waste_to_shredder.reset_index(drop=False)\n",
    "waste_shredder_coordinates = pd.DataFrame.from_dict(\n",
    "    {\"from\": waste_to_shredder[\"from\"],\n",
    "     \"to\": waste_to_shredder[\"to\"],\n",
    "     }\n",
    ")\n",
    "waste_shredder_coordinates = add_coordinates_to_df(waste_shredder_coordinates, waste_source, shredders)\n",
    "waste_shredder_coordinates.head()"
   ]
  },
  {
   "cell_type": "code",
   "execution_count": 105,
   "metadata": {},
   "outputs": [
    {
     "data": {
      "text/html": [
       "<div>\n",
       "<style scoped>\n",
       "    .dataframe tbody tr th:only-of-type {\n",
       "        vertical-align: middle;\n",
       "    }\n",
       "\n",
       "    .dataframe tbody tr th {\n",
       "        vertical-align: top;\n",
       "    }\n",
       "\n",
       "    .dataframe thead th {\n",
       "        text-align: right;\n",
       "    }\n",
       "</style>\n",
       "<table border=\"1\" class=\"dataframe\">\n",
       "  <thead>\n",
       "    <tr style=\"text-align: right;\">\n",
       "      <th></th>\n",
       "      <th>from</th>\n",
       "      <th>to</th>\n",
       "      <th>source_lat</th>\n",
       "      <th>source_lon</th>\n",
       "      <th>destination_lat</th>\n",
       "      <th>destination_lon</th>\n",
       "    </tr>\n",
       "  </thead>\n",
       "  <tbody>\n",
       "    <tr>\n",
       "      <th>0</th>\n",
       "      <td>S407</td>\n",
       "      <td>OP05</td>\n",
       "      <td>41.22855</td>\n",
       "      <td>-77.00799</td>\n",
       "      <td>36.162277</td>\n",
       "      <td>-86.774298</td>\n",
       "    </tr>\n",
       "    <tr>\n",
       "      <th>1</th>\n",
       "      <td>S408</td>\n",
       "      <td>OP05</td>\n",
       "      <td>40.19170</td>\n",
       "      <td>-74.87074</td>\n",
       "      <td>36.162277</td>\n",
       "      <td>-86.774298</td>\n",
       "    </tr>\n",
       "    <tr>\n",
       "      <th>2</th>\n",
       "      <td>S409</td>\n",
       "      <td>OP05</td>\n",
       "      <td>39.99204</td>\n",
       "      <td>-75.06886</td>\n",
       "      <td>36.162277</td>\n",
       "      <td>-86.774298</td>\n",
       "    </tr>\n",
       "    <tr>\n",
       "      <th>3</th>\n",
       "      <td>S410</td>\n",
       "      <td>OP05</td>\n",
       "      <td>40.25498</td>\n",
       "      <td>-76.85705</td>\n",
       "      <td>36.162277</td>\n",
       "      <td>-86.774298</td>\n",
       "    </tr>\n",
       "    <tr>\n",
       "      <th>4</th>\n",
       "      <td>S411</td>\n",
       "      <td>OP05</td>\n",
       "      <td>40.53946</td>\n",
       "      <td>-75.73439</td>\n",
       "      <td>36.162277</td>\n",
       "      <td>-86.774298</td>\n",
       "    </tr>\n",
       "  </tbody>\n",
       "</table>\n",
       "</div>"
      ],
      "text/plain": [
       "   from    to  source_lat  source_lon  destination_lat  destination_lon\n",
       "0  S407  OP05    41.22855   -77.00799        36.162277       -86.774298\n",
       "1  S408  OP05    40.19170   -74.87074        36.162277       -86.774298\n",
       "2  S409  OP05    39.99204   -75.06886        36.162277       -86.774298\n",
       "3  S410  OP05    40.25498   -76.85705        36.162277       -86.774298\n",
       "4  S411  OP05    40.53946   -75.73439        36.162277       -86.774298"
      ]
     },
     "execution_count": 105,
     "metadata": {},
     "output_type": "execute_result"
    }
   ],
   "source": [
    "shredder_oxide_producer_coordinates = pd.DataFrame.from_dict(\n",
    "    {\"from\": shredder_to_oxide_producer[\"from\"],\n",
    "     \"to\": shredder_to_oxide_producer[\"to\"],\n",
    "     }\n",
    ")\n",
    "shredder_oxide_producer_coordinates = add_coordinates_to_df(shredder_oxide_producer_coordinates, shredders, oxide_producers)\n",
    "shredder_oxide_producer_coordinates.head()"
   ]
  },
  {
   "cell_type": "code",
   "execution_count": 106,
   "metadata": {},
   "outputs": [
    {
     "data": {
      "text/html": [
       "<div>\n",
       "<style scoped>\n",
       "    .dataframe tbody tr th:only-of-type {\n",
       "        vertical-align: middle;\n",
       "    }\n",
       "\n",
       "    .dataframe tbody tr th {\n",
       "        vertical-align: top;\n",
       "    }\n",
       "\n",
       "    .dataframe thead th {\n",
       "        text-align: right;\n",
       "    }\n",
       "</style>\n",
       "<table border=\"1\" class=\"dataframe\">\n",
       "  <thead>\n",
       "    <tr style=\"text-align: right;\">\n",
       "      <th></th>\n",
       "      <th>from</th>\n",
       "      <th>to</th>\n",
       "      <th>source_lat</th>\n",
       "      <th>source_lon</th>\n",
       "      <th>destination_lat</th>\n",
       "      <th>destination_lon</th>\n",
       "    </tr>\n",
       "  </thead>\n",
       "  <tbody>\n",
       "    <tr>\n",
       "      <th>0</th>\n",
       "      <td>OP05</td>\n",
       "      <td>FP01</td>\n",
       "      <td>36.162277</td>\n",
       "      <td>-86.774298</td>\n",
       "      <td>41.551640</td>\n",
       "      <td>-81.568970</td>\n",
       "    </tr>\n",
       "    <tr>\n",
       "      <th>1</th>\n",
       "      <td>OP06</td>\n",
       "      <td>FP04</td>\n",
       "      <td>36.062584</td>\n",
       "      <td>-94.157433</td>\n",
       "      <td>36.153981</td>\n",
       "      <td>-95.992775</td>\n",
       "    </tr>\n",
       "    <tr>\n",
       "      <th>2</th>\n",
       "      <td>OP08</td>\n",
       "      <td>FP03</td>\n",
       "      <td>33.013676</td>\n",
       "      <td>-96.692510</td>\n",
       "      <td>34.052200</td>\n",
       "      <td>-118.243700</td>\n",
       "    </tr>\n",
       "    <tr>\n",
       "      <th>3</th>\n",
       "      <td>OP08</td>\n",
       "      <td>FP04</td>\n",
       "      <td>33.013676</td>\n",
       "      <td>-96.692510</td>\n",
       "      <td>36.153981</td>\n",
       "      <td>-95.992775</td>\n",
       "    </tr>\n",
       "    <tr>\n",
       "      <th>4</th>\n",
       "      <td>OP30</td>\n",
       "      <td>FP06</td>\n",
       "      <td>47.614422</td>\n",
       "      <td>-122.192337</td>\n",
       "      <td>42.194600</td>\n",
       "      <td>-122.709500</td>\n",
       "    </tr>\n",
       "  </tbody>\n",
       "</table>\n",
       "</div>"
      ],
      "text/plain": [
       "   from    to  source_lat  source_lon  destination_lat  destination_lon\n",
       "0  OP05  FP01   36.162277  -86.774298        41.551640       -81.568970\n",
       "1  OP06  FP04   36.062584  -94.157433        36.153981       -95.992775\n",
       "2  OP08  FP03   33.013676  -96.692510        34.052200      -118.243700\n",
       "3  OP08  FP04   33.013676  -96.692510        36.153981       -95.992775\n",
       "4  OP30  FP06   47.614422 -122.192337        42.194600      -122.709500"
      ]
     },
     "execution_count": 106,
     "metadata": {},
     "output_type": "execute_result"
    }
   ],
   "source": [
    "oxide_fluoride_producer_coordinates = pd.DataFrame.from_dict(\n",
    "    {\"from\": oxide_to_fluoride_producer[\"from\"],\n",
    "     \"to\": oxide_to_fluoride_producer[\"to\"],\n",
    "     }\n",
    ")\n",
    "oxide_fluoride_producer_coordinates = add_coordinates_to_df(oxide_fluoride_producer_coordinates, oxide_producers, fluoride_producers)\n",
    "oxide_fluoride_producer_coordinates.head()"
   ]
  },
  {
   "cell_type": "code",
   "execution_count": 107,
   "metadata": {},
   "outputs": [
    {
     "data": {
      "text/html": [
       "<div>\n",
       "<style scoped>\n",
       "    .dataframe tbody tr th:only-of-type {\n",
       "        vertical-align: middle;\n",
       "    }\n",
       "\n",
       "    .dataframe tbody tr th {\n",
       "        vertical-align: top;\n",
       "    }\n",
       "\n",
       "    .dataframe thead th {\n",
       "        text-align: right;\n",
       "    }\n",
       "</style>\n",
       "<table border=\"1\" class=\"dataframe\">\n",
       "  <thead>\n",
       "    <tr style=\"text-align: right;\">\n",
       "      <th></th>\n",
       "      <th>from</th>\n",
       "      <th>to</th>\n",
       "      <th>source_lat</th>\n",
       "      <th>source_lon</th>\n",
       "      <th>destination_lat</th>\n",
       "      <th>destination_lon</th>\n",
       "    </tr>\n",
       "  </thead>\n",
       "  <tbody>\n",
       "    <tr>\n",
       "      <th>0</th>\n",
       "      <td>FP01</td>\n",
       "      <td>MP03</td>\n",
       "      <td>41.551640</td>\n",
       "      <td>-81.568970</td>\n",
       "      <td>39.7047</td>\n",
       "      <td>-105.0814</td>\n",
       "    </tr>\n",
       "    <tr>\n",
       "      <th>1</th>\n",
       "      <td>FP02</td>\n",
       "      <td>MP03</td>\n",
       "      <td>33.646900</td>\n",
       "      <td>-117.689200</td>\n",
       "      <td>39.7047</td>\n",
       "      <td>-105.0814</td>\n",
       "    </tr>\n",
       "    <tr>\n",
       "      <th>2</th>\n",
       "      <td>FP03</td>\n",
       "      <td>MP03</td>\n",
       "      <td>34.052200</td>\n",
       "      <td>-118.243700</td>\n",
       "      <td>39.7047</td>\n",
       "      <td>-105.0814</td>\n",
       "    </tr>\n",
       "    <tr>\n",
       "      <th>3</th>\n",
       "      <td>FP04</td>\n",
       "      <td>MP03</td>\n",
       "      <td>36.153981</td>\n",
       "      <td>-95.992775</td>\n",
       "      <td>39.7047</td>\n",
       "      <td>-105.0814</td>\n",
       "    </tr>\n",
       "    <tr>\n",
       "      <th>4</th>\n",
       "      <td>FP06</td>\n",
       "      <td>MP03</td>\n",
       "      <td>42.194600</td>\n",
       "      <td>-122.709500</td>\n",
       "      <td>39.7047</td>\n",
       "      <td>-105.0814</td>\n",
       "    </tr>\n",
       "  </tbody>\n",
       "</table>\n",
       "</div>"
      ],
      "text/plain": [
       "   from    to  source_lat  source_lon  destination_lat  destination_lon\n",
       "0  FP01  MP03   41.551640  -81.568970          39.7047        -105.0814\n",
       "1  FP02  MP03   33.646900 -117.689200          39.7047        -105.0814\n",
       "2  FP03  MP03   34.052200 -118.243700          39.7047        -105.0814\n",
       "3  FP04  MP03   36.153981  -95.992775          39.7047        -105.0814\n",
       "4  FP06  MP03   42.194600 -122.709500          39.7047        -105.0814"
      ]
     },
     "execution_count": 107,
     "metadata": {},
     "output_type": "execute_result"
    }
   ],
   "source": [
    "fluoride_metal_producer_coordinates = pd.DataFrame.from_dict(\n",
    "    {\"from\": fluoride_to_metal_producer[\"from\"],\n",
    "     \"to\": fluoride_to_metal_producer[\"to\"],\n",
    "     }\n",
    ")\n",
    "fluoride_metal_producer_coordinates = add_coordinates_to_df(fluoride_metal_producer_coordinates, fluoride_producers, metal_producers)\n",
    "fluoride_metal_producer_coordinates.head()"
   ]
  },
  {
   "cell_type": "code",
   "execution_count": 109,
   "metadata": {},
   "outputs": [
    {
     "data": {
      "text/html": [
       "<div>\n",
       "<style scoped>\n",
       "    .dataframe tbody tr th:only-of-type {\n",
       "        vertical-align: middle;\n",
       "    }\n",
       "\n",
       "    .dataframe tbody tr th {\n",
       "        vertical-align: top;\n",
       "    }\n",
       "\n",
       "    .dataframe thead th {\n",
       "        text-align: right;\n",
       "    }\n",
       "</style>\n",
       "<table border=\"1\" class=\"dataframe\">\n",
       "  <thead>\n",
       "    <tr style=\"text-align: right;\">\n",
       "      <th></th>\n",
       "      <th>from</th>\n",
       "      <th>to</th>\n",
       "      <th>source_lat</th>\n",
       "      <th>source_lon</th>\n",
       "      <th>destination_lat</th>\n",
       "      <th>destination_lon</th>\n",
       "    </tr>\n",
       "  </thead>\n",
       "  <tbody>\n",
       "    <tr>\n",
       "      <th>0</th>\n",
       "      <td>FP01</td>\n",
       "      <td>MP03</td>\n",
       "      <td>41.551640</td>\n",
       "      <td>-81.568970</td>\n",
       "      <td>39.7047</td>\n",
       "      <td>-105.0814</td>\n",
       "    </tr>\n",
       "    <tr>\n",
       "      <th>1</th>\n",
       "      <td>FP02</td>\n",
       "      <td>MP03</td>\n",
       "      <td>33.646900</td>\n",
       "      <td>-117.689200</td>\n",
       "      <td>39.7047</td>\n",
       "      <td>-105.0814</td>\n",
       "    </tr>\n",
       "    <tr>\n",
       "      <th>2</th>\n",
       "      <td>FP03</td>\n",
       "      <td>MP03</td>\n",
       "      <td>34.052200</td>\n",
       "      <td>-118.243700</td>\n",
       "      <td>39.7047</td>\n",
       "      <td>-105.0814</td>\n",
       "    </tr>\n",
       "    <tr>\n",
       "      <th>3</th>\n",
       "      <td>FP04</td>\n",
       "      <td>MP03</td>\n",
       "      <td>36.153981</td>\n",
       "      <td>-95.992775</td>\n",
       "      <td>39.7047</td>\n",
       "      <td>-105.0814</td>\n",
       "    </tr>\n",
       "    <tr>\n",
       "      <th>4</th>\n",
       "      <td>FP06</td>\n",
       "      <td>MP03</td>\n",
       "      <td>42.194600</td>\n",
       "      <td>-122.709500</td>\n",
       "      <td>39.7047</td>\n",
       "      <td>-105.0814</td>\n",
       "    </tr>\n",
       "  </tbody>\n",
       "</table>\n",
       "</div>"
      ],
      "text/plain": [
       "   from    to  source_lat  source_lon  destination_lat  destination_lon\n",
       "0  FP01  MP03   41.551640  -81.568970          39.7047        -105.0814\n",
       "1  FP02  MP03   33.646900 -117.689200          39.7047        -105.0814\n",
       "2  FP03  MP03   34.052200 -118.243700          39.7047        -105.0814\n",
       "3  FP04  MP03   36.153981  -95.992775          39.7047        -105.0814\n",
       "4  FP06  MP03   42.194600 -122.709500          39.7047        -105.0814"
      ]
     },
     "execution_count": 109,
     "metadata": {},
     "output_type": "execute_result"
    }
   ],
   "source": [
    "fluoride_metal_producer_coordinates"
   ]
  },
  {
   "cell_type": "code",
   "execution_count": 108,
   "metadata": {},
   "outputs": [
    {
     "data": {
      "text/html": [
       "<div>\n",
       "<style scoped>\n",
       "    .dataframe tbody tr th:only-of-type {\n",
       "        vertical-align: middle;\n",
       "    }\n",
       "\n",
       "    .dataframe tbody tr th {\n",
       "        vertical-align: top;\n",
       "    }\n",
       "\n",
       "    .dataframe thead th {\n",
       "        text-align: right;\n",
       "    }\n",
       "</style>\n",
       "<table border=\"1\" class=\"dataframe\">\n",
       "  <thead>\n",
       "    <tr style=\"text-align: right;\">\n",
       "      <th></th>\n",
       "      <th>from</th>\n",
       "      <th>to</th>\n",
       "      <th>source_lat</th>\n",
       "      <th>source_lon</th>\n",
       "      <th>destination_lat</th>\n",
       "      <th>destination_lon</th>\n",
       "    </tr>\n",
       "  </thead>\n",
       "  <tbody>\n",
       "    <tr>\n",
       "      <th>0</th>\n",
       "      <td>MP03</td>\n",
       "      <td>MAG01</td>\n",
       "      <td>39.7047</td>\n",
       "      <td>-105.0814</td>\n",
       "      <td>36.16129</td>\n",
       "      <td>-97.05841</td>\n",
       "    </tr>\n",
       "  </tbody>\n",
       "</table>\n",
       "</div>"
      ],
      "text/plain": [
       "   from     to  source_lat  source_lon  destination_lat  destination_lon\n",
       "0  MP03  MAG01     39.7047   -105.0814         36.16129        -97.05841"
      ]
     },
     "execution_count": 108,
     "metadata": {},
     "output_type": "execute_result"
    }
   ],
   "source": [
    "metal_magnet_producer_coordinates = pd.DataFrame.from_dict(\n",
    "    {\"from\": metal_to_magnet_producer[\"from\"],\n",
    "     \"to\": metal_to_magnet_producer[\"to\"],\n",
    "     }\n",
    ")\n",
    "metal_magnet_producer_coordinates = add_coordinates_to_df(metal_magnet_producer_coordinates, metal_producers, magnet_producers)\n",
    "metal_magnet_producer_coordinates.head()"
   ]
  },
  {
   "cell_type": "code",
   "execution_count": 110,
   "metadata": {},
   "outputs": [],
   "source": [
    "add_sheet_to_excelbook(output_file_path, \"Waste-Shredder coordinates\", waste_shredder_coordinates)\n",
    "add_sheet_to_excelbook(output_file_path, \"Shredder-Oxide coordinates\", shredder_oxide_producer_coordinates)\n",
    "add_sheet_to_excelbook(output_file_path, \"Oxide-fluoride coordinates\", oxide_fluoride_producer_coordinates)\n",
    "add_sheet_to_excelbook(output_file_path, \"Fluoride-metal coordinates\", fluoride_metal_producer_coordinates)\n",
    "add_sheet_to_excelbook(output_file_path, \"Metal-magnet coordinates\", metal_magnet_producer_coordinates)"
   ]
  },
  {
   "cell_type": "code",
   "execution_count": 111,
   "metadata": {},
   "outputs": [],
   "source": [
    "shredders = {row['Code']: (row['City'], row['State']) for index, row in shredder_data.iterrows()}\n",
    "oxide_producers = {row['Code']: (row['City'], row['State']) for index, row in oxide_producer_data.iterrows()}"
   ]
  },
  {
   "cell_type": "code",
   "execution_count": 112,
   "metadata": {},
   "outputs": [
    {
     "data": {
      "text/plain": [
       "<Axes: ylabel='Locations'>"
      ]
     },
     "execution_count": 112,
     "metadata": {},
     "output_type": "execute_result"
    },
    {
     "data": {
      "image/png": "[encoded data removed]",
      "text/plain": [
       "<Figure size 640x480 with 1 Axes>"
      ]
     },
     "metadata": {},
     "output_type": "display_data"
    }
   ],
   "source": [
    "import matplotlib\n",
    "shredder_to_oxide_producer = pd.read_excel(output_file_path, sheet_name='Shredder to oxide producer', usecols=[0,2])\n",
    "shredder_capacities = shredder_to_oxide_producer.groupby('from').sum().reset_index(drop=False)\n",
    "shredder_capacities[\"from\"] = shredder_capacities[\"from\"].map(lambda x: \", \".join(shredders[x]))\n",
    "shredder_capacities.set_index('from', inplace=True)\n",
    "shredder_capacities.index.name = \"Locations\"\n",
    "shredder_capacities.rename({'Y1': 'Capacity'}, axis=1, inplace=True)\n",
    "shredder_capacities.sort_values(by='Capacity').plot(kind='barh')"
   ]
  },
  {
   "cell_type": "code",
   "execution_count": 113,
   "metadata": {},
   "outputs": [],
   "source": [
    "shredder_capacities.reset_index(drop=False, inplace=True)\n",
    "add_sheet_to_excelbook(output_file_path, \"Shredder Capacities\", shredder_capacities)"
   ]
  },
  {
   "cell_type": "code",
   "execution_count": 114,
   "metadata": {},
   "outputs": [
    {
     "data": {
      "text/plain": [
       "<Axes: ylabel='Locations'>"
      ]
     },
     "execution_count": 114,
     "metadata": {},
     "output_type": "execute_result"
    },
    {
     "data": {
      "image/png": "[encoded data removed]",
      "text/plain": [
       "<Figure size 640x480 with 1 Axes>"
      ]
     },
     "metadata": {},
     "output_type": "display_data"
    }
   ],
   "source": [
    "oxide_to_fluoride_producer = pd.read_excel(output_file_path, sheet_name='oxide to fluoride producer', usecols=[0,2])\n",
    "oxide_capacities = oxide_to_fluoride_producer.groupby('from').sum().reset_index(drop=False)\n",
    "oxide_capacities[\"from\"] = oxide_capacities[\"from\"].map(lambda x: \", \".join(oxide_producers[x]))\n",
    "oxide_capacities.set_index('from', inplace=True)\n",
    "oxide_capacities.index.name = \"Locations\"\n",
    "oxide_capacities.rename({'Y1': 'Capacity'}, axis=1, inplace=True)\n",
    "oxide_capacities.sort_values(by='Capacity').plot(kind='barh')"
   ]
  },
  {
   "cell_type": "code",
   "execution_count": 115,
   "metadata": {},
   "outputs": [],
   "source": [
    "oxide_capacities.reset_index(drop=False, inplace=True)\n",
    "add_sheet_to_excelbook(output_file_path, \"Oxide Producer Capacities\", oxide_capacities)"
   ]
  },
  {
   "cell_type": "code",
   "execution_count": 116,
   "metadata": {},
   "outputs": [],
   "source": [
    "model_with_fixed_charge.remove(model_with_fixed_charge.getVars())\n",
    "model_with_fixed_charge.remove(model_with_fixed_charge.getConstrs())"
   ]
  },
  {
   "cell_type": "code",
   "execution_count": 117,
   "metadata": {},
   "outputs": [],
   "source": [
    "del flow_shredder_to_oxide_fixed_charge, flow_oxide_to_fluoride_fixed_charge, flow_fluoride_to_metal_fixed_charge, flow_waste_to_shredder_fixed_charge, flow_metal_to_magnet_fixed_charge, shredder_balance_fixed_charge, oxide_balance_fixed_charge, fluoride_balance_fixed_charge, metal_balance_fixed_charge\n",
    "del waste_supply_limit_fixed_charge, shredder_supply_limit_fixed_charge, oxide_supply_limit_fixed_charge, fluoride_supply_limit_fixed_charge, metal_supply_limit_fixed_charge\n",
    "del revenue_fixed_charge, conversion_cost_shredder_fixed_charge, conversion_cost_oxide_fixed_charge, conversion_cost_fluoride_fixed_charge, conversion_cost_metal_fixed_charge, \n",
    "del transportation_cost_shredder_fixed_charge, transportation_cost_oxide_fixed_charge, transportation_cost_fluoride_fixed_charge, transportation_cost_metal_fixed_charge, transportation_cost_waste_supplier_fixed_charge\n",
    "del total_revenue_fixed_charge, total_conversion_cost_shredder_fixed_charge, total_conversion_cost_oxide_fixed_charge, total_conversion_cost_fluoride_fixed_charge, total_conversion_cost_metal\n",
    "del total_transportation_cost_shredder_fixed_charge, total_transportation_cost_oxide_fixed_charge, total_transportation_cost_fluoride_fixed_charge, total_transportation_cost_metal_fixed_charge, total_transportation_cost_waste_supplier_fixed_charge\n",
    "del obj_exprs_fixed_charge, model_with_fixed_charge"
   ]
  },
  {
   "cell_type": "code",
   "execution_count": 118,
   "metadata": {},
   "outputs": [
    {
     "data": {
      "text/plain": [
       "139146"
      ]
     },
     "execution_count": 118,
     "metadata": {},
     "output_type": "execute_result"
    }
   ],
   "source": [
    "gc.collect()"
   ]
  }
 ],
 "metadata": {
  "kernelspec": {
   "display_name": "Python 3",
   "language": "python",
   "name": "python3"
  },
  "language_info": {
   "codemirror_mode": {
    "name": "ipython",
    "version": 3
   },
   "file_extension": ".py",
   "mimetype": "text/x-python",
   "name": "python",
   "nbconvert_exporter": "python",
   "pygments_lexer": "ipython3",
   "version": "3.8.19"
  }
 },
 "nbformat": 4,
 "nbformat_minor": 2
}
