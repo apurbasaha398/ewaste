{
 "cells": [
  {
   "cell_type": "code",
   "execution_count": 1,
   "metadata": {},
   "outputs": [],
   "source": [
    "import pandas as pd\n",
    "import gurobipy as gp\n",
    "from gurobipy import GRB\n",
    "import gurobipy_pandas as gppd\n",
    "\n",
    "gppd.set_interactive()\n",
    "pd.set_option('display.max_colwidth',1000)"
   ]
  },
  {
   "cell_type": "code",
   "execution_count": 2,
   "metadata": {},
   "outputs": [
    {
     "name": "stdout",
     "output_type": "stream",
     "text": [
      "Set parameter Username\n",
      "Academic license - for non-commercial use only - expires 2025-03-03\n"
     ]
    }
   ],
   "source": [
    "env = gp.Env()"
   ]
  },
  {
   "cell_type": "markdown",
   "metadata": {},
   "source": [
    "## Data"
   ]
  },
  {
   "cell_type": "code",
   "execution_count": 3,
   "metadata": {},
   "outputs": [],
   "source": [
    "import os\n",
    "\n",
    "data_path = os.path.join(os.path.abspath(os.path.join(os.getcwd(), os.pardir)), \"artifacts\", \"input_data.xlsx\")\n",
    "waste_source_data = pd.read_excel(data_path, sheet_name='Waste Source')\n",
    "shredder_data = pd.read_excel(data_path, sheet_name='E-waste Collector')\n",
    "oxide_producer_data = pd.read_excel(data_path, sheet_name='Oxide Producer')\n",
    "fluoride_producer_data = pd.read_excel(data_path, sheet_name='Flouride Producer')\n",
    "metal_producer_data = pd.read_excel(data_path, sheet_name='Metal Producer')\n",
    "magnet_producer_data = pd.read_excel(data_path, sheet_name='Magnet Producer')\n",
    "\n",
    "# Create dictionaries for shredder and oxide producer coordinates\n",
    "waste_source = {row['Code']: (row['Latitude'], row['Longitude']) for index, row in waste_source_data.iterrows()}\n",
    "shredders = {row['Code']: (row['Latitude'], row['Longitude']) for index, row in shredder_data.iterrows()}\n",
    "oxide_producers = {row['Code']: (row['Latitude'], row['Longitude']) for index, row in oxide_producer_data.iterrows()}\n",
    "fluoride_producers = {row['Code']: (row['Latitude'], row['Longitude']) for index, row in fluoride_producer_data.iterrows()}\n",
    "metal_producers = {row['Code']: (row['Latitude'], row['Longitude']) for index, row in metal_producer_data.iterrows()}\n",
    "magnet_producers = {row['Code']: (row['Latitude'], row['Longitude']) for index, row in magnet_producer_data.iterrows()}"
   ]
  },
  {
   "cell_type": "code",
   "execution_count": 4,
   "metadata": {},
   "outputs": [
    {
     "data": {
      "text/plain": [
       "year\n",
       "Y1     122000.000000\n",
       "Y2     126001.600000\n",
       "Y3     130134.452480\n",
       "Y4     134402.862521\n",
       "Y5     138811.276412\n",
       "Y6     143364.286278\n",
       "Y7     148066.634868\n",
       "Y8     152923.220492\n",
       "Y9     157939.102124\n",
       "Y10    163119.504674\n",
       "Name: Price, dtype: float64"
      ]
     },
     "execution_count": 4,
     "metadata": {},
     "output_type": "execute_result"
    }
   ],
   "source": [
    "\n",
    "price = pd.read_excel(data_path, sheet_name='REE Price')\n",
    "price.set_index(\"Year\", inplace = True)\n",
    "price = price[\"Price\"]\n",
    "price.index.name = \"year\"\n",
    "price"
   ]
  },
  {
   "cell_type": "code",
   "execution_count": 5,
   "metadata": {},
   "outputs": [],
   "source": [
    "MARR = 0.08"
   ]
  },
  {
   "cell_type": "code",
   "execution_count": 6,
   "metadata": {},
   "outputs": [
    {
     "data": {
      "text/plain": [
       "from\n",
       "W1    8258.035\n",
       "W2    3820.914\n",
       "W3    2664.452\n",
       "W4    2314.157\n",
       "W5    1650.070\n",
       "Name: volume (ton), dtype: float64"
      ]
     },
     "execution_count": 6,
     "metadata": {},
     "output_type": "execute_result"
    }
   ],
   "source": [
    "waste_volume = pd.read_excel(data_path, sheet_name='Waste Volume')\n",
    "waste_volume.set_index('Code', inplace=True)\n",
    "waste_volume = waste_volume['volume (ton)']\n",
    "waste_volume.index.name = \"from\"\n",
    "waste_volume.head()"
   ]
  },
  {
   "cell_type": "code",
   "execution_count": 7,
   "metadata": {},
   "outputs": [
    {
     "data": {
      "text/plain": [
       "from  year\n",
       "S01   Y1      1927.000000\n",
       "S02   Y1      2098.880653\n",
       "S03   Y1      2202.977387\n",
       "S04   Y1      1554.188442\n",
       "S05   Y1      2202.977387\n",
       "Name: shredder_oc, dtype: float64"
      ]
     },
     "execution_count": 7,
     "metadata": {},
     "output_type": "execute_result"
    }
   ],
   "source": [
    "oc_shredder = pd.read_excel(data_path, sheet_name='Shredder_OC')\n",
    "year_index = [\"Y1\", \"Y2\", \"Y3\", \"Y4\", \"Y5\", \"Y6\", \"Y7\", \"Y8\", \"Y9\", \"Y10\"]\n",
    "oc_shredder = pd.melt(oc_shredder, id_vars=[\"Code\"], value_vars=year_index, var_name=\"Year\", value_name=\"shredder_oc\")\n",
    "oc_shredder.set_index([\"Code\", \"Year\"], inplace=True)\n",
    "oc_shredder = oc_shredder[\"shredder_oc\"]\n",
    "oc_shredder.index.names = [\"from\", \"year\"]\n",
    "oc_shredder.head()"
   ]
  },
  {
   "cell_type": "code",
   "execution_count": 8,
   "metadata": {},
   "outputs": [
    {
     "data": {
      "text/plain": [
       "from  year\n",
       "OP01  Y1      7789.251256\n",
       "OP02  Y1      7702.428392\n",
       "OP03  Y1      8806.319095\n",
       "OP04  Y1      7702.428392\n",
       "OP05  Y1      7255.910804\n",
       "Name: oxide_oc, dtype: float64"
      ]
     },
     "execution_count": 8,
     "metadata": {},
     "output_type": "execute_result"
    }
   ],
   "source": [
    "oc_oxide = pd.read_excel(data_path, sheet_name='Oxide_OC')\n",
    "year_index = [\"Y1\", \"Y2\", \"Y3\", \"Y4\", \"Y5\", \"Y6\", \"Y7\", \"Y8\", \"Y9\", \"Y10\"]\n",
    "oc_oxide = pd.melt(oc_oxide, id_vars=[\"Code\"], value_vars=year_index, var_name=\"Year\", value_name=\"oxide_oc\")\n",
    "oc_oxide.set_index([\"Code\", \"Year\"], inplace=True)\n",
    "oc_oxide = oc_oxide[\"oxide_oc\"]\n",
    "oc_oxide.index.names = [\"from\", \"year\"]\n",
    "oc_oxide.head()"
   ]
  },
  {
   "cell_type": "code",
   "execution_count": 9,
   "metadata": {},
   "outputs": [
    {
     "data": {
      "text/plain": [
       "from  year\n",
       "FP01  Y1      5289.000000\n",
       "FP02  Y1      5450.037051\n",
       "FP03  Y1      5450.037051\n",
       "FP04  Y1      5308.402054\n",
       "FP05  Y1      5582.941123\n",
       "Name: fluoride_oc, dtype: float64"
      ]
     },
     "execution_count": 9,
     "metadata": {},
     "output_type": "execute_result"
    }
   ],
   "source": [
    "oc_fluoride = pd.read_excel(data_path, sheet_name='Fluoride_OC')\n",
    "year_index = [\"Y1\", \"Y2\", \"Y3\", \"Y4\", \"Y5\", \"Y6\", \"Y7\", \"Y8\", \"Y9\", \"Y10\"]\n",
    "oc_fluoride = pd.melt(oc_fluoride, id_vars=[\"Code\"], value_vars=year_index, var_name=\"Year\", value_name=\"fluoride_oc\")\n",
    "oc_fluoride.set_index([\"Code\", \"Year\"], inplace=True)\n",
    "oc_fluoride = oc_fluoride['fluoride_oc']\n",
    "oc_fluoride.index.names = [\"from\", \"year\"]\n",
    "oc_fluoride.head()"
   ]
  },
  {
   "cell_type": "code",
   "execution_count": 10,
   "metadata": {},
   "outputs": [
    {
     "data": {
      "text/plain": [
       "from  year\n",
       "MP01  Y1      32868.000000\n",
       "MP02  Y1      32496.376884\n",
       "MP03  Y1      36460.356784\n",
       "MP01  Y2      33946.070400\n",
       "MP02  Y2      33562.258046\n",
       "Name: ree_oc, dtype: float64"
      ]
     },
     "execution_count": 10,
     "metadata": {},
     "output_type": "execute_result"
    }
   ],
   "source": [
    "oc_ree = pd.read_excel(data_path, sheet_name='REE_OC')\n",
    "year_index = [\"Y1\", \"Y2\", \"Y3\", \"Y4\", \"Y5\", \"Y6\", \"Y7\", \"Y8\", \"Y9\", \"Y10\"]\n",
    "oc_ree = pd.melt(oc_ree, id_vars=[\"Code\"], value_vars=year_index, var_name=\"Year\", value_name=\"ree_oc\")\n",
    "oc_ree.set_index([\"Code\", \"Year\"], inplace=True)\n",
    "oc_ree = oc_ree['ree_oc']\n",
    "oc_ree.index.names = [\"from\", \"year\"]\n",
    "oc_ree.head()"
   ]
  },
  {
   "cell_type": "code",
   "execution_count": 11,
   "metadata": {},
   "outputs": [
    {
     "data": {
      "text/plain": [
       "from  year\n",
       "S01   Y1      157225.000000\n",
       "S02   Y1      162674.707126\n",
       "S03   Y1      180466.956522\n",
       "S04   Y1      150901.820652\n",
       "S05   Y1      180466.956522\n",
       "Name: shredder_fc, dtype: float64"
      ]
     },
     "execution_count": 11,
     "metadata": {},
     "output_type": "execute_result"
    }
   ],
   "source": [
    "fc_shredder = pd.read_excel(data_path, sheet_name='Shredder_FC')\n",
    "year_index = [\"Y1\", \"Y2\", \"Y3\", \"Y4\", \"Y5\", \"Y6\", \"Y7\", \"Y8\", \"Y9\", \"Y10\"]\n",
    "fc_shredder = pd.melt(fc_shredder, id_vars=[\"Code\"], value_vars=year_index, var_name=\"Year\", value_name=\"shredder_fc\")\n",
    "fc_shredder.set_index([\"Code\", \"Year\"], inplace=True)\n",
    "fc_shredder = fc_shredder['shredder_fc']\n",
    "fc_shredder.index.names = [\"from\", \"year\"]\n",
    "fc_shredder.head()"
   ]
  },
  {
   "cell_type": "code",
   "execution_count": 12,
   "metadata": {},
   "outputs": [
    {
     "data": {
      "text/plain": [
       "from  year\n",
       "OP01  Y1      147726.376274\n",
       "OP02  Y1      156627.617949\n",
       "OP03  Y1      162533.249446\n",
       "OP04  Y1      153931.568788\n",
       "OP05  Y1      153204.063459\n",
       "Name: oxide_fc, dtype: float64"
      ]
     },
     "execution_count": 12,
     "metadata": {},
     "output_type": "execute_result"
    }
   ],
   "source": [
    "fc_oxide = pd.read_excel(data_path, sheet_name='Oxide_FC')\n",
    "year_index = [\"Y1\", \"Y2\", \"Y3\", \"Y4\", \"Y5\", \"Y6\", \"Y7\", \"Y8\", \"Y9\", \"Y10\"]\n",
    "fc_oxide = pd.melt(fc_oxide, id_vars=[\"Code\"], value_vars=year_index, var_name=\"Year\", value_name=\"oxide_fc\")\n",
    "fc_oxide.set_index([\"Code\", \"Year\"], inplace=True)\n",
    "fc_oxide = fc_oxide['oxide_fc']\n",
    "fc_oxide.index.names = [\"from\", \"year\"]\n",
    "fc_oxide.head()"
   ]
  },
  {
   "cell_type": "code",
   "execution_count": 13,
   "metadata": {},
   "outputs": [
    {
     "data": {
      "text/plain": [
       "from  year\n",
       "FP01  Y1       89884.761189\n",
       "FP02  Y1      109730.760797\n",
       "FP03  Y1      106554.643138\n",
       "FP04  Y1       80697.383070\n",
       "FP05  Y1       99754.089025\n",
       "Name: fluoride_fc, dtype: float64"
      ]
     },
     "execution_count": 13,
     "metadata": {},
     "output_type": "execute_result"
    }
   ],
   "source": [
    "fc_fluoride = pd.read_excel(data_path, sheet_name='Fluoride_FC')\n",
    "year_index = [\"Y1\", \"Y2\", \"Y3\", \"Y4\", \"Y5\", \"Y6\", \"Y7\", \"Y8\", \"Y9\", \"Y10\"]\n",
    "fc_fluoride = pd.melt(fc_fluoride, id_vars=[\"Code\"], value_vars=year_index, var_name=\"Year\", value_name=\"fluoride_fc\")\n",
    "fc_fluoride.set_index([\"Code\", \"Year\"], inplace=True)\n",
    "fc_fluoride = fc_fluoride['fluoride_fc']\n",
    "fc_fluoride.index.names = [\"from\", \"year\"]\n",
    "fc_fluoride.head()"
   ]
  },
  {
   "cell_type": "code",
   "execution_count": 14,
   "metadata": {},
   "outputs": [
    {
     "data": {
      "text/plain": [
       "from  year\n",
       "MP01  Y1      683356.326646\n",
       "MP02  Y1      794877.576072\n",
       "MP03  Y1      665005.357301\n",
       "MP01  Y2      705770.414160\n",
       "MP02  Y2      820949.560567\n",
       "Name: ree_fc, dtype: float64"
      ]
     },
     "execution_count": 14,
     "metadata": {},
     "output_type": "execute_result"
    }
   ],
   "source": [
    "fc_ree = pd.read_excel(data_path, sheet_name='REE_FC')\n",
    "year_index = [\"Y1\", \"Y2\", \"Y3\", \"Y4\", \"Y5\", \"Y6\", \"Y7\", \"Y8\", \"Y9\", \"Y10\"]\n",
    "fc_ree = pd.melt(fc_ree, id_vars=[\"Code\"], value_vars=year_index, var_name=\"Year\", value_name=\"ree_fc\")\n",
    "fc_ree.set_index([\"Code\", \"Year\"], inplace=True)\n",
    "fc_ree= fc_ree['ree_fc']\n",
    "fc_ree.index.names = [\"from\", \"year\"]\n",
    "fc_ree.head()"
   ]
  },
  {
   "cell_type": "code",
   "execution_count": 15,
   "metadata": {},
   "outputs": [],
   "source": [
    "conv1 = 0.089 # conversion factor from shredded HDD to initial oxalate\n",
    "conv2 = 0.083 # conversion factor from oxalate to oxides\n",
    "conv3 = 1.074 # conversion fcator from oxides to fluorides\n",
    "conv4 = 0.72 # conversion factor from fluorides to metals\n",
    "w = 0.3 # Tax credit as percentage of capital cost"
   ]
  },
  {
   "cell_type": "code",
   "execution_count": 16,
   "metadata": {},
   "outputs": [],
   "source": [
    "inflation_rate = 0.0328"
   ]
  },
  {
   "cell_type": "code",
   "execution_count": 17,
   "metadata": {},
   "outputs": [],
   "source": [
    "shredder_cap = pd.read_excel(data_path, sheet_name='Shredder Capacity')\n",
    "oxide_cap = pd.read_excel(data_path, sheet_name='Oxide Capacity')\n",
    "fluoride_cap = pd.read_excel(data_path, sheet_name='Fluoride Capacity')\n",
    "metal_cap = pd.read_excel(data_path, sheet_name='REE Capacity')"
   ]
  },
  {
   "cell_type": "code",
   "execution_count": 18,
   "metadata": {},
   "outputs": [
    {
     "data": {
      "text/plain": [
       "from\n",
       "S01      648.000000\n",
       "S02       21.277877\n",
       "S03     4610.206595\n",
       "S04     7979.203721\n",
       "S05     8865.781913\n",
       "S06     3989.601861\n",
       "S07     1595.840744\n",
       "S08     1844.082638\n",
       "S09    23051.032973\n",
       "Name: Capacity, dtype: float64"
      ]
     },
     "execution_count": 18,
     "metadata": {},
     "output_type": "execute_result"
    }
   ],
   "source": [
    "shredder_cap.set_index(\"Code\", inplace=True)\n",
    "shredder_cap = shredder_cap['Capacity']\n",
    "shredder_cap.index.name = \"from\"\n",
    "shredder_cap"
   ]
  },
  {
   "cell_type": "code",
   "execution_count": 19,
   "metadata": {},
   "outputs": [
    {
     "data": {
      "text/plain": [
       "'\\nshredder_cap_copy = pd.read_excel(data_path, sheet_name=\\'Shredder Capacity\\')\\nshredder_cap_copy.set_index(\"Code\", inplace=True)\\nshredder_cap_copy = shredder_cap_copy[\\'Capacity\\']\\nshredder_cap_copy.index.name = \"to\"\\nshredder_cap_copy\\n'"
      ]
     },
     "execution_count": 19,
     "metadata": {},
     "output_type": "execute_result"
    }
   ],
   "source": [
    "'''\n",
    "shredder_cap_copy = pd.read_excel(data_path, sheet_name='Shredder Capacity')\n",
    "shredder_cap_copy.set_index(\"Code\", inplace=True)\n",
    "shredder_cap_copy = shredder_cap_copy['Capacity']\n",
    "shredder_cap_copy.index.name = \"to\"\n",
    "shredder_cap_copy\n",
    "'''"
   ]
  },
  {
   "cell_type": "code",
   "execution_count": 20,
   "metadata": {},
   "outputs": [
    {
     "data": {
      "text/plain": [
       "from\n",
       "OP01    54\n",
       "OP02    54\n",
       "OP03    54\n",
       "OP04    54\n",
       "OP05    54\n",
       "        ..\n",
       "OP61    54\n",
       "OP62    54\n",
       "OP63    54\n",
       "OP64    54\n",
       "OP65    54\n",
       "Name: Capacity, Length: 65, dtype: int64"
      ]
     },
     "execution_count": 20,
     "metadata": {},
     "output_type": "execute_result"
    }
   ],
   "source": [
    "oxide_cap.set_index(\"Code\", inplace=True)\n",
    "oxide_cap = oxide_cap['Capacity']\n",
    "oxide_cap.index.name = \"from\"\n",
    "oxide_cap"
   ]
  },
  {
   "cell_type": "code",
   "execution_count": 21,
   "metadata": {},
   "outputs": [
    {
     "data": {
      "text/plain": [
       "from\n",
       "FP01    58\n",
       "FP02    58\n",
       "FP03    58\n",
       "FP04    58\n",
       "FP05    58\n",
       "FP06    58\n",
       "Name: Capacity, dtype: int64"
      ]
     },
     "execution_count": 21,
     "metadata": {},
     "output_type": "execute_result"
    }
   ],
   "source": [
    "fluoride_cap.set_index(\"Code\", inplace=True)\n",
    "fluoride_cap = fluoride_cap['Capacity']\n",
    "fluoride_cap.index.name = \"from\"\n",
    "fluoride_cap"
   ]
  },
  {
   "cell_type": "code",
   "execution_count": 22,
   "metadata": {},
   "outputs": [
    {
     "data": {
      "text/plain": [
       "from\n",
       "MP01      41\n",
       "MP02     150\n",
       "MP03    1000\n",
       "Name: Capacity, dtype: int64"
      ]
     },
     "execution_count": 22,
     "metadata": {},
     "output_type": "execute_result"
    }
   ],
   "source": [
    "metal_cap.set_index(\"Code\", inplace=True)\n",
    "metal_cap = metal_cap['Capacity']\n",
    "metal_cap.index.name = \"from\"\n",
    "metal_cap"
   ]
  },
  {
   "cell_type": "code",
   "execution_count": 23,
   "metadata": {},
   "outputs": [
    {
     "data": {
      "text/html": [
       "<div>\n",
       "<style scoped>\n",
       "    .dataframe tbody tr th:only-of-type {\n",
       "        vertical-align: middle;\n",
       "    }\n",
       "\n",
       "    .dataframe tbody tr th {\n",
       "        vertical-align: top;\n",
       "    }\n",
       "\n",
       "    .dataframe thead th {\n",
       "        text-align: right;\n",
       "    }\n",
       "</style>\n",
       "<table border=\"1\" class=\"dataframe\">\n",
       "  <thead>\n",
       "    <tr style=\"text-align: right;\">\n",
       "      <th></th>\n",
       "      <th>index</th>\n",
       "      <th>OP01</th>\n",
       "      <th>OP02</th>\n",
       "      <th>OP03</th>\n",
       "      <th>OP04</th>\n",
       "      <th>OP05</th>\n",
       "      <th>OP06</th>\n",
       "      <th>OP07</th>\n",
       "      <th>OP08</th>\n",
       "      <th>OP09</th>\n",
       "      <th>...</th>\n",
       "      <th>OP56</th>\n",
       "      <th>OP57</th>\n",
       "      <th>OP58</th>\n",
       "      <th>OP59</th>\n",
       "      <th>OP60</th>\n",
       "      <th>OP61</th>\n",
       "      <th>OP62</th>\n",
       "      <th>OP63</th>\n",
       "      <th>OP64</th>\n",
       "      <th>OP65</th>\n",
       "    </tr>\n",
       "  </thead>\n",
       "  <tbody>\n",
       "    <tr>\n",
       "      <th>0</th>\n",
       "      <td>S01</td>\n",
       "      <td>391.863447</td>\n",
       "      <td>549.665602</td>\n",
       "      <td>656.668150</td>\n",
       "      <td>555.767979</td>\n",
       "      <td>104.365417</td>\n",
       "      <td>219.604161</td>\n",
       "      <td>321.589695</td>\n",
       "      <td>308.788572</td>\n",
       "      <td>316.499981</td>\n",
       "      <td>...</td>\n",
       "      <td>414.914909</td>\n",
       "      <td>1.321138</td>\n",
       "      <td>20.458399</td>\n",
       "      <td>63.705196</td>\n",
       "      <td>640.175848</td>\n",
       "      <td>92.734438</td>\n",
       "      <td>825.533995</td>\n",
       "      <td>310.679011</td>\n",
       "      <td>204.524265</td>\n",
       "      <td>182.347670</td>\n",
       "    </tr>\n",
       "    <tr>\n",
       "      <th>1</th>\n",
       "      <td>S02</td>\n",
       "      <td>394.383810</td>\n",
       "      <td>571.502181</td>\n",
       "      <td>678.504505</td>\n",
       "      <td>577.604558</td>\n",
       "      <td>86.060969</td>\n",
       "      <td>240.872333</td>\n",
       "      <td>324.109834</td>\n",
       "      <td>324.303329</td>\n",
       "      <td>328.432724</td>\n",
       "      <td>...</td>\n",
       "      <td>436.183081</td>\n",
       "      <td>24.171499</td>\n",
       "      <td>20.873799</td>\n",
       "      <td>85.541775</td>\n",
       "      <td>650.879392</td>\n",
       "      <td>115.978277</td>\n",
       "      <td>847.370351</td>\n",
       "      <td>311.623672</td>\n",
       "      <td>188.199734</td>\n",
       "      <td>204.184026</td>\n",
       "    </tr>\n",
       "    <tr>\n",
       "      <th>2</th>\n",
       "      <td>S03</td>\n",
       "      <td>386.280935</td>\n",
       "      <td>548.512682</td>\n",
       "      <td>655.515230</td>\n",
       "      <td>554.615283</td>\n",
       "      <td>107.000311</td>\n",
       "      <td>214.021649</td>\n",
       "      <td>316.006959</td>\n",
       "      <td>303.206060</td>\n",
       "      <td>310.917246</td>\n",
       "      <td>...</td>\n",
       "      <td>409.332173</td>\n",
       "      <td>5.340251</td>\n",
       "      <td>14.934047</td>\n",
       "      <td>62.552500</td>\n",
       "      <td>627.890116</td>\n",
       "      <td>96.945928</td>\n",
       "      <td>824.381075</td>\n",
       "      <td>316.947817</td>\n",
       "      <td>210.793070</td>\n",
       "      <td>181.194751</td>\n",
       "    </tr>\n",
       "    <tr>\n",
       "      <th>3</th>\n",
       "      <td>S04</td>\n",
       "      <td>391.572645</td>\n",
       "      <td>732.009917</td>\n",
       "      <td>839.012465</td>\n",
       "      <td>738.112518</td>\n",
       "      <td>146.208980</td>\n",
       "      <td>308.572259</td>\n",
       "      <td>338.743460</td>\n",
       "      <td>342.752507</td>\n",
       "      <td>343.063442</td>\n",
       "      <td>...</td>\n",
       "      <td>457.053972</td>\n",
       "      <td>235.765618</td>\n",
       "      <td>242.562566</td>\n",
       "      <td>298.027539</td>\n",
       "      <td>835.244560</td>\n",
       "      <td>324.689873</td>\n",
       "      <td>935.564244</td>\n",
       "      <td>392.485317</td>\n",
       "      <td>103.023028</td>\n",
       "      <td>397.487566</td>\n",
       "    </tr>\n",
       "    <tr>\n",
       "      <th>4</th>\n",
       "      <td>S05</td>\n",
       "      <td>300.029379</td>\n",
       "      <td>477.591336</td>\n",
       "      <td>584.593883</td>\n",
       "      <td>483.693713</td>\n",
       "      <td>112.249295</td>\n",
       "      <td>134.595225</td>\n",
       "      <td>230.000572</td>\n",
       "      <td>223.779413</td>\n",
       "      <td>231.490822</td>\n",
       "      <td>...</td>\n",
       "      <td>329.905750</td>\n",
       "      <td>85.505760</td>\n",
       "      <td>79.675619</td>\n",
       "      <td>56.437372</td>\n",
       "      <td>580.825978</td>\n",
       "      <td>158.262070</td>\n",
       "      <td>753.459729</td>\n",
       "      <td>397.113102</td>\n",
       "      <td>277.202058</td>\n",
       "      <td>142.588042</td>\n",
       "    </tr>\n",
       "  </tbody>\n",
       "</table>\n",
       "<p>5 rows × 66 columns</p>\n",
       "</div>"
      ],
      "text/plain": [
       "  index        OP01        OP02        OP03        OP04        OP05  \\\n",
       "0   S01  391.863447  549.665602  656.668150  555.767979  104.365417   \n",
       "1   S02  394.383810  571.502181  678.504505  577.604558   86.060969   \n",
       "2   S03  386.280935  548.512682  655.515230  554.615283  107.000311   \n",
       "3   S04  391.572645  732.009917  839.012465  738.112518  146.208980   \n",
       "4   S05  300.029379  477.591336  584.593883  483.693713  112.249295   \n",
       "\n",
       "         OP06        OP07        OP08        OP09  ...        OP56  \\\n",
       "0  219.604161  321.589695  308.788572  316.499981  ...  414.914909   \n",
       "1  240.872333  324.109834  324.303329  328.432724  ...  436.183081   \n",
       "2  214.021649  316.006959  303.206060  310.917246  ...  409.332173   \n",
       "3  308.572259  338.743460  342.752507  343.063442  ...  457.053972   \n",
       "4  134.595225  230.000572  223.779413  231.490822  ...  329.905750   \n",
       "\n",
       "         OP57        OP58        OP59        OP60        OP61        OP62  \\\n",
       "0    1.321138   20.458399   63.705196  640.175848   92.734438  825.533995   \n",
       "1   24.171499   20.873799   85.541775  650.879392  115.978277  847.370351   \n",
       "2    5.340251   14.934047   62.552500  627.890116   96.945928  824.381075   \n",
       "3  235.765618  242.562566  298.027539  835.244560  324.689873  935.564244   \n",
       "4   85.505760   79.675619   56.437372  580.825978  158.262070  753.459729   \n",
       "\n",
       "         OP63        OP64        OP65  \n",
       "0  310.679011  204.524265  182.347670  \n",
       "1  311.623672  188.199734  204.184026  \n",
       "2  316.947817  210.793070  181.194751  \n",
       "3  392.485317  103.023028  397.487566  \n",
       "4  397.113102  277.202058  142.588042  \n",
       "\n",
       "[5 rows x 66 columns]"
      ]
     },
     "execution_count": 23,
     "metadata": {},
     "output_type": "execute_result"
    }
   ],
   "source": [
    "shredder_to_oxide_tc = pd.read_excel(data_path, sheet_name='Shredder-Oxide TC')\n",
    "shredder_to_oxide_tc.head()"
   ]
  },
  {
   "cell_type": "code",
   "execution_count": 24,
   "metadata": {},
   "outputs": [
    {
     "data": {
      "text/html": [
       "<div>\n",
       "<style scoped>\n",
       "    .dataframe tbody tr th:only-of-type {\n",
       "        vertical-align: middle;\n",
       "    }\n",
       "\n",
       "    .dataframe tbody tr th {\n",
       "        vertical-align: top;\n",
       "    }\n",
       "\n",
       "    .dataframe thead th {\n",
       "        text-align: right;\n",
       "    }\n",
       "</style>\n",
       "<table border=\"1\" class=\"dataframe\">\n",
       "  <thead>\n",
       "    <tr style=\"text-align: right;\">\n",
       "      <th></th>\n",
       "      <th>from</th>\n",
       "      <th>to</th>\n",
       "      <th>Y1</th>\n",
       "      <th>Y2</th>\n",
       "      <th>Y3</th>\n",
       "      <th>Y4</th>\n",
       "      <th>Y5</th>\n",
       "      <th>Y6</th>\n",
       "      <th>Y7</th>\n",
       "      <th>Y8</th>\n",
       "      <th>Y9</th>\n",
       "      <th>Y10</th>\n",
       "    </tr>\n",
       "  </thead>\n",
       "  <tbody>\n",
       "    <tr>\n",
       "      <th>0</th>\n",
       "      <td>S01</td>\n",
       "      <td>OP01</td>\n",
       "      <td>391.863447</td>\n",
       "      <td>404.716568</td>\n",
       "      <td>417.991272</td>\n",
       "      <td>431.701385</td>\n",
       "      <td>445.861191</td>\n",
       "      <td>460.485438</td>\n",
       "      <td>475.589360</td>\n",
       "      <td>491.188691</td>\n",
       "      <td>507.299680</td>\n",
       "      <td>523.939110</td>\n",
       "    </tr>\n",
       "    <tr>\n",
       "      <th>1</th>\n",
       "      <td>S02</td>\n",
       "      <td>OP01</td>\n",
       "      <td>394.383810</td>\n",
       "      <td>407.319598</td>\n",
       "      <td>420.679681</td>\n",
       "      <td>434.477975</td>\n",
       "      <td>448.728852</td>\n",
       "      <td>463.447159</td>\n",
       "      <td>478.648226</td>\n",
       "      <td>494.347887</td>\n",
       "      <td>510.562498</td>\n",
       "      <td>527.308948</td>\n",
       "    </tr>\n",
       "    <tr>\n",
       "      <th>2</th>\n",
       "      <td>S03</td>\n",
       "      <td>OP01</td>\n",
       "      <td>386.280935</td>\n",
       "      <td>398.950950</td>\n",
       "      <td>412.036541</td>\n",
       "      <td>425.551339</td>\n",
       "      <td>439.509423</td>\n",
       "      <td>453.925332</td>\n",
       "      <td>468.814083</td>\n",
       "      <td>484.191185</td>\n",
       "      <td>500.072656</td>\n",
       "      <td>516.475039</td>\n",
       "    </tr>\n",
       "    <tr>\n",
       "      <th>3</th>\n",
       "      <td>S04</td>\n",
       "      <td>OP01</td>\n",
       "      <td>391.572645</td>\n",
       "      <td>404.416227</td>\n",
       "      <td>417.681080</td>\n",
       "      <td>431.381019</td>\n",
       "      <td>445.530317</td>\n",
       "      <td>460.143711</td>\n",
       "      <td>475.236425</td>\n",
       "      <td>490.824179</td>\n",
       "      <td>506.923212</td>\n",
       "      <td>523.550294</td>\n",
       "    </tr>\n",
       "    <tr>\n",
       "      <th>4</th>\n",
       "      <td>S05</td>\n",
       "      <td>OP01</td>\n",
       "      <td>300.029379</td>\n",
       "      <td>309.870342</td>\n",
       "      <td>320.034089</td>\n",
       "      <td>330.531207</td>\n",
       "      <td>341.372631</td>\n",
       "      <td>352.569653</td>\n",
       "      <td>364.133938</td>\n",
       "      <td>376.077531</td>\n",
       "      <td>388.412874</td>\n",
       "      <td>401.152816</td>\n",
       "    </tr>\n",
       "  </tbody>\n",
       "</table>\n",
       "</div>"
      ],
      "text/plain": [
       "  from    to          Y1          Y2          Y3          Y4          Y5  \\\n",
       "0  S01  OP01  391.863447  404.716568  417.991272  431.701385  445.861191   \n",
       "1  S02  OP01  394.383810  407.319598  420.679681  434.477975  448.728852   \n",
       "2  S03  OP01  386.280935  398.950950  412.036541  425.551339  439.509423   \n",
       "3  S04  OP01  391.572645  404.416227  417.681080  431.381019  445.530317   \n",
       "4  S05  OP01  300.029379  309.870342  320.034089  330.531207  341.372631   \n",
       "\n",
       "           Y6          Y7          Y8          Y9         Y10  \n",
       "0  460.485438  475.589360  491.188691  507.299680  523.939110  \n",
       "1  463.447159  478.648226  494.347887  510.562498  527.308948  \n",
       "2  453.925332  468.814083  484.191185  500.072656  516.475039  \n",
       "3  460.143711  475.236425  490.824179  506.923212  523.550294  \n",
       "4  352.569653  364.133938  376.077531  388.412874  401.152816  "
      ]
     },
     "execution_count": 24,
     "metadata": {},
     "output_type": "execute_result"
    }
   ],
   "source": [
    "column_names = shredder_to_oxide_tc.columns.delete(0)\n",
    "shredder_to_oxide_tc = pd.melt(shredder_to_oxide_tc, id_vars=[\"index\"], value_vars=column_names, var_name=\"to\", value_name=\"Y1\").rename({'index':'from'}, axis = 1)\n",
    "\n",
    "for i in range(2, 11):\n",
    "    var_name = \"Y\" + str(i)\n",
    "    shredder_to_oxide_tc[var_name] = shredder_to_oxide_tc.iloc[:, i] * (1 + inflation_rate)\n",
    "\n",
    "shredder_to_oxide_tc.head()"
   ]
  },
  {
   "cell_type": "code",
   "execution_count": 25,
   "metadata": {},
   "outputs": [],
   "source": [
    "shredder_to_oxide_tc = pd.melt(shredder_to_oxide_tc, id_vars=[\"from\", \"to\"], value_vars=year_index, var_name=\"year\", value_name=\"cost\")\n",
    "shredder_to_oxide_tc.set_index([\"from\", \"to\", \"year\"], inplace=True)"
   ]
  },
  {
   "cell_type": "code",
   "execution_count": 26,
   "metadata": {},
   "outputs": [
    {
     "data": {
      "text/plain": [
       "from  to    year\n",
       "S01   OP01  Y1      391.863447\n",
       "S02   OP01  Y1      394.383810\n",
       "S03   OP01  Y1      386.280935\n",
       "S04   OP01  Y1      391.572645\n",
       "S05   OP01  Y1      300.029379\n",
       "Name: cost, dtype: float64"
      ]
     },
     "execution_count": 26,
     "metadata": {},
     "output_type": "execute_result"
    }
   ],
   "source": [
    "shredder_to_oxide_tc = shredder_to_oxide_tc[\"cost\"]\n",
    "shredder_to_oxide_tc.head()"
   ]
  },
  {
   "cell_type": "code",
   "execution_count": 27,
   "metadata": {},
   "outputs": [],
   "source": [
    "oxide_to_fluoride_tc = pd.read_excel(data_path, sheet_name='Oxide-Fluoride TC')\n",
    "\n",
    "column_names = oxide_to_fluoride_tc.columns.delete(0)\n",
    "oxide_to_fluoride_tc = pd.melt(oxide_to_fluoride_tc, id_vars=[\"index\"], value_vars=column_names, var_name=\"to\", value_name=\"Y1\").rename({'index':'from'}, axis = 1)\n",
    "\n",
    "for i in range(2, 11):\n",
    "    var_name = \"Y\" + str(i)\n",
    "    oxide_to_fluoride_tc[var_name] = oxide_to_fluoride_tc.iloc[:, i] * (1 + inflation_rate)\n",
    "\n",
    "oxide_to_fluoride_tc.head()\n",
    "\n",
    "oxide_to_fluoride_tc = pd.melt(oxide_to_fluoride_tc, id_vars=[\"from\", \"to\"], value_vars=year_index, var_name=\"year\", value_name=\"cost\")\n",
    "oxide_to_fluoride_tc.set_index([\"from\", \"to\", \"year\"], inplace=True)"
   ]
  },
  {
   "cell_type": "code",
   "execution_count": 28,
   "metadata": {},
   "outputs": [
    {
     "data": {
      "text/plain": [
       "from  to    year\n",
       "OP01  FP01  Y1      498.508979\n",
       "OP02  FP01  Y1      624.991040\n",
       "OP03  FP01  Y1      731.486025\n",
       "OP04  FP01  Y1      630.205799\n",
       "OP05  FP01  Y1      190.370462\n",
       "Name: cost, dtype: float64"
      ]
     },
     "execution_count": 28,
     "metadata": {},
     "output_type": "execute_result"
    }
   ],
   "source": [
    "oxide_to_fluoride_tc = oxide_to_fluoride_tc['cost']\n",
    "oxide_to_fluoride_tc.head()"
   ]
  },
  {
   "cell_type": "code",
   "execution_count": 29,
   "metadata": {},
   "outputs": [],
   "source": [
    "waste_to_shredder_tc = pd.read_excel(data_path, sheet_name='Waste-Shredder TC')\n",
    "\n",
    "column_names = waste_to_shredder_tc.columns.delete(0)\n",
    "waste_to_shredder_tc = pd.melt(waste_to_shredder_tc, id_vars=[\"index\"], value_vars=column_names, var_name=\"to\", value_name=\"Y1\").rename({'index':'from'}, axis = 1)\n",
    "\n",
    "for i in range(2, 11):\n",
    "    var_name = \"Y\" + str(i)\n",
    "    waste_to_shredder_tc[var_name] = waste_to_shredder_tc.iloc[:, i] * (1 + inflation_rate)\n",
    "\n",
    "waste_to_shredder_tc.head()\n",
    "\n",
    "waste_to_shredder_tc = pd.melt(waste_to_shredder_tc, id_vars=[\"from\", \"to\"], value_vars=year_index, var_name=\"year\", value_name=\"cost\")\n",
    "waste_to_shredder_tc.set_index([\"from\", \"to\", \"year\"], inplace=True)"
   ]
  },
  {
   "cell_type": "code",
   "execution_count": 30,
   "metadata": {},
   "outputs": [
    {
     "data": {
      "text/plain": [
       "from  to   year\n",
       "W1    S01  Y1      254.297563\n",
       "W2    S01  Y1      745.160898\n",
       "W3    S01  Y1       67.257683\n",
       "W4    S01  Y1      366.273056\n",
       "W5    S01  Y1      612.445599\n",
       "Name: cost, dtype: float64"
      ]
     },
     "execution_count": 30,
     "metadata": {},
     "output_type": "execute_result"
    }
   ],
   "source": [
    "waste_to_shredder_tc = waste_to_shredder_tc['cost']\n",
    "waste_to_shredder_tc.head()"
   ]
  },
  {
   "cell_type": "code",
   "execution_count": 31,
   "metadata": {},
   "outputs": [],
   "source": [
    "fluoride_to_metal_tc = pd.read_excel(data_path, sheet_name='Fluoride-Metal TC')\n",
    "fluoride_to_metal_tc.head()\n",
    "\n",
    "column_names = fluoride_to_metal_tc.columns.delete(0)\n",
    "fluoride_to_metal_tc = pd.melt(fluoride_to_metal_tc, id_vars=[\"index\"], value_vars=column_names, var_name=\"to\", value_name=\"Y1\").rename({'index':'from'}, axis = 1)\n",
    "\n",
    "for i in range(2, 11):\n",
    "    var_name = \"Y\" + str(i)\n",
    "    fluoride_to_metal_tc[var_name] = fluoride_to_metal_tc.iloc[:, i] * (1 + inflation_rate)\n",
    "\n",
    "fluoride_to_metal_tc.head()\n",
    "\n",
    "fluoride_to_metal_tc = pd.melt(fluoride_to_metal_tc, id_vars=[\"from\", \"to\"], value_vars=year_index, var_name=\"year\", value_name=\"cost\")\n",
    "fluoride_to_metal_tc.set_index([\"from\", \"to\", \"year\"], inplace=True)\n"
   ]
  },
  {
   "cell_type": "code",
   "execution_count": 32,
   "metadata": {},
   "outputs": [
    {
     "data": {
      "text/plain": [
       "from  to    year\n",
       "FP01  MP01  Y1        1.466763\n",
       "FP02  MP01  Y1      847.875228\n",
       "FP03  MP01  Y1      847.480856\n",
       "FP04  MP01  Y1      346.430934\n",
       "FP05  MP01  Y1      222.823791\n",
       "Name: cost, dtype: float64"
      ]
     },
     "execution_count": 32,
     "metadata": {},
     "output_type": "execute_result"
    }
   ],
   "source": [
    "fluoride_to_metal_tc = fluoride_to_metal_tc['cost']\n",
    "fluoride_to_metal_tc.head()"
   ]
  },
  {
   "cell_type": "code",
   "execution_count": 33,
   "metadata": {},
   "outputs": [],
   "source": [
    "metal_to_magnet_tc = pd.read_excel(data_path, sheet_name='Metal-Magnet TC')\n",
    "metal_to_magnet_tc.head()\n",
    "\n",
    "column_names = metal_to_magnet_tc.columns.delete(0)\n",
    "metal_to_magnet_tc = pd.melt(metal_to_magnet_tc, id_vars=[\"index\"], value_vars=column_names, var_name=\"to\", value_name=\"Y1\").rename({'index':'from'}, axis = 1)\n",
    "\n",
    "for i in range(2, 11):\n",
    "    var_name = \"Y\" + str(i)\n",
    "    metal_to_magnet_tc[var_name] = metal_to_magnet_tc.iloc[:, i] * (1 + inflation_rate)\n",
    "\n",
    "metal_to_magnet_tc.head()\n",
    "\n",
    "metal_to_magnet_tc = pd.melt(metal_to_magnet_tc, id_vars=[\"from\", \"to\"], value_vars=year_index, var_name=\"year\", value_name=\"cost\")\n",
    "metal_to_magnet_tc.set_index([\"from\", \"to\", \"year\"], inplace=True)"
   ]
  },
  {
   "cell_type": "code",
   "execution_count": 34,
   "metadata": {},
   "outputs": [
    {
     "data": {
      "text/plain": [
       "from  to     year\n",
       "MP01  MAG01  Y1      370.090621\n",
       "MP02  MAG01  Y1      426.428449\n",
       "MP03  MAG01  Y1      232.849988\n",
       "MP01  MAG02  Y1      512.366163\n",
       "MP02  MAG02  Y1      473.535089\n",
       "Name: cost, dtype: float64"
      ]
     },
     "execution_count": 34,
     "metadata": {},
     "output_type": "execute_result"
    }
   ],
   "source": [
    "metal_to_magnet_tc = metal_to_magnet_tc['cost']\n",
    "metal_to_magnet_tc.head()"
   ]
  },
  {
   "cell_type": "code",
   "execution_count": 35,
   "metadata": {},
   "outputs": [],
   "source": [
    "is_shredder_incentive_eligible = shredder_data[[\"Code\", \"is_energy_community\"]]\n",
    "is_oxide_producer_incentive_eligible = oxide_producer_data[[\"Code\", \"is_energy_community\"]]\n",
    "\n",
    "is_shredder_incentive_eligible.set_index(\"Code\", inplace = True)\n",
    "is_oxide_producer_incentive_eligible.set_index(\"Code\", inplace = True)\n",
    "\n",
    "is_shredder_incentive_eligible.index.name = \"from\"\n",
    "is_oxide_producer_incentive_eligible.index.name = \"from\"\n",
    "\n",
    "is_shredder_incentive_eligible = is_shredder_incentive_eligible[\"is_energy_community\"]\n",
    "is_oxide_producer_incentive_eligible = is_oxide_producer_incentive_eligible[\"is_energy_community\"]"
   ]
  },
  {
   "cell_type": "code",
   "execution_count": 36,
   "metadata": {},
   "outputs": [
    {
     "data": {
      "text/plain": [
       "from\n",
       "S01    1\n",
       "S02    0\n",
       "S03    1\n",
       "S04    1\n",
       "S05    1\n",
       "Name: is_energy_community, dtype: int64"
      ]
     },
     "execution_count": 36,
     "metadata": {},
     "output_type": "execute_result"
    }
   ],
   "source": [
    "is_shredder_incentive_eligible[:5]"
   ]
  },
  {
   "cell_type": "markdown",
   "metadata": {},
   "source": [
    "## Model with no fixed charge"
   ]
  },
  {
   "cell_type": "code",
   "execution_count": 37,
   "metadata": {},
   "outputs": [],
   "source": [
    "model_no_fixed_charge = gp.Model(\"Ewaste_no_fixed_charge\", env=env)\n",
    "model_no_fixed_charge.ModelSense = GRB.MAXIMIZE"
   ]
  },
  {
   "cell_type": "markdown",
   "metadata": {},
   "source": [
    "## Decision Variables"
   ]
  },
  {
   "cell_type": "code",
   "execution_count": 38,
   "metadata": {},
   "outputs": [],
   "source": [
    "\n",
    "flow_shredder_to_oxide = gppd.add_vars(\n",
    "    model_no_fixed_charge,\n",
    "    shredder_to_oxide_tc,\n",
    "    vtype = GRB.CONTINUOUS,\n",
    "    name = \"flow_shredder_to_oxide\"\n",
    ")\n",
    "\n",
    "flow_oxide_to_fluoride = gppd.add_vars(\n",
    "    model_no_fixed_charge,\n",
    "    oxide_to_fluoride_tc,\n",
    "    vtype = GRB.CONTINUOUS,\n",
    "    name = \"flow_oxide_to_fluoride\"\n",
    ")\n",
    "\n",
    "flow_fluoride_to_metal = gppd.add_vars(\n",
    "    model_no_fixed_charge,\n",
    "    fluoride_to_metal_tc,\n",
    "    vtype = GRB.CONTINUOUS,\n",
    "    name = \"flow_fluoride_to_metal\"\n",
    ")\n",
    "\n",
    "shredder_loc = list(shredders.keys())\n",
    "waste_to_shredder_index = pd.MultiIndex.from_product([waste_volume.index, shredder_loc, year_index], names = [\"from\", \"to\", \"year\"])\n",
    "flow_waste_to_shredder = gppd.add_vars(\n",
    "    model_no_fixed_charge,\n",
    "    waste_to_shredder_index,\n",
    "    vtype = GRB.CONTINUOUS,\n",
    "    name = \"flow_waste_to_shredder\"\n",
    ")\n",
    "\n",
    "flow_metal_to_magnet = gppd.add_vars(\n",
    "    model_no_fixed_charge,\n",
    "    metal_to_magnet_tc,\n",
    "    vtype = GRB.CONTINUOUS,\n",
    "    name = \"flow_metal_to_magnet\"\n",
    ")"
   ]
  },
  {
   "cell_type": "markdown",
   "metadata": {},
   "source": [
    "## Constraints"
   ]
  },
  {
   "cell_type": "markdown",
   "metadata": {},
   "source": [
    "### Flow balance constraints"
   ]
  },
  {
   "cell_type": "code",
   "execution_count": 39,
   "metadata": {},
   "outputs": [],
   "source": [
    "shredder_balance = gppd.add_constrs(\n",
    "    model_no_fixed_charge,\n",
    "    flow_shredder_to_oxide.groupby(['from', 'year']).sum(),\n",
    "    GRB.LESS_EQUAL,\n",
    "    conv1 * (flow_waste_to_shredder.groupby(['to', 'year']).sum()),\n",
    "    name = \"shredder_balance\"\n",
    ")"
   ]
  },
  {
   "cell_type": "code",
   "execution_count": 40,
   "metadata": {},
   "outputs": [],
   "source": [
    "oxide_balance = gppd.add_constrs(\n",
    "    model_no_fixed_charge,\n",
    "    flow_oxide_to_fluoride.groupby(['from', 'year']).sum(),\n",
    "    GRB.LESS_EQUAL,\n",
    "    conv2 * (flow_shredder_to_oxide.groupby(['to', 'year']).sum()),\n",
    "    name = \"oxide_balance\"\n",
    ")"
   ]
  },
  {
   "cell_type": "code",
   "execution_count": 41,
   "metadata": {},
   "outputs": [],
   "source": [
    "fluoride_balance = gppd.add_constrs(\n",
    "    model_no_fixed_charge,\n",
    "    flow_fluoride_to_metal.groupby(['from', 'year']).sum(),\n",
    "    GRB.LESS_EQUAL,\n",
    "    conv3 * (flow_oxide_to_fluoride.groupby(['to', 'year']).sum()),\n",
    "    name = \"fluoride_balance\"\n",
    ")"
   ]
  },
  {
   "cell_type": "code",
   "execution_count": 42,
   "metadata": {},
   "outputs": [],
   "source": [
    "metal_balance = gppd.add_constrs(\n",
    "    model_no_fixed_charge,\n",
    "    flow_metal_to_magnet.groupby(['from', 'year']).sum(),\n",
    "    GRB.LESS_EQUAL,\n",
    "    conv4 * (flow_fluoride_to_metal.groupby(['to', 'year']).sum()),\n",
    "    name = \"metal_balance\"\n",
    ")"
   ]
  },
  {
   "cell_type": "markdown",
   "metadata": {},
   "source": [
    "### Capacity constraint"
   ]
  },
  {
   "cell_type": "code",
   "execution_count": 43,
   "metadata": {},
   "outputs": [],
   "source": [
    "waste_supply_limit = gppd.add_constrs(\n",
    "    model_no_fixed_charge,\n",
    "    flow_waste_to_shredder.groupby(['from', 'year']).sum() - waste_volume,\n",
    "    GRB.LESS_EQUAL,\n",
    "    0,\n",
    "    name = \"waste_supply_limit\"\n",
    ")"
   ]
  },
  {
   "cell_type": "code",
   "execution_count": 44,
   "metadata": {},
   "outputs": [],
   "source": [
    "shredder_supply_limit = gppd.add_constrs(\n",
    "    model_no_fixed_charge,\n",
    "    flow_shredder_to_oxide.groupby(['from', 'year']).sum() - shredder_cap,\n",
    "    GRB.LESS_EQUAL,\n",
    "    0,\n",
    "    name = \"shredder_supply_limit\"\n",
    ")"
   ]
  },
  {
   "cell_type": "code",
   "execution_count": 45,
   "metadata": {},
   "outputs": [],
   "source": [
    "oxide_supply_limit = gppd.add_constrs(\n",
    "    model_no_fixed_charge,\n",
    "    flow_oxide_to_fluoride.groupby(['from', 'year']).sum() - oxide_cap,\n",
    "    GRB.LESS_EQUAL,\n",
    "    0,\n",
    "    name = \"oxide_supply_limit\"\n",
    ")"
   ]
  },
  {
   "cell_type": "code",
   "execution_count": 46,
   "metadata": {},
   "outputs": [],
   "source": [
    "fluoride_supply_limit = gppd.add_constrs(\n",
    "    model_no_fixed_charge,\n",
    "    flow_fluoride_to_metal.groupby(['from', 'year']).sum() - fluoride_cap,\n",
    "    GRB.LESS_EQUAL,\n",
    "    0,\n",
    "    name = \"fluoride_supply_limit\"\n",
    ")"
   ]
  },
  {
   "cell_type": "code",
   "execution_count": 47,
   "metadata": {},
   "outputs": [],
   "source": [
    "metal_supply_limit = gppd.add_constrs(\n",
    "    model_no_fixed_charge,\n",
    "    flow_metal_to_magnet.groupby(['from', 'year']).sum() - metal_cap,\n",
    "    GRB.LESS_EQUAL,\n",
    "    0,\n",
    "    name = \"metal_supply_limit\"\n",
    ")"
   ]
  },
  {
   "cell_type": "code",
   "execution_count": 48,
   "metadata": {},
   "outputs": [
    {
     "data": {
      "text/plain": [
       "'\\nshredder_inbound_limit = gppd.add_constrs(\\n    model_no_fixed_charge,\\n    flow_waste_to_shredder.groupby([\\'to\\', \\'year\\']).sum() - (shredder_cap_copy / conv1),\\n    GRB.LESS_EQUAL,\\n    0,\\n    name = \"shredder_inbound_limit\"\\n)\\n'"
      ]
     },
     "execution_count": 48,
     "metadata": {},
     "output_type": "execute_result"
    }
   ],
   "source": [
    "'''\n",
    "shredder_inbound_limit = gppd.add_constrs(\n",
    "    model_no_fixed_charge,\n",
    "    flow_waste_to_shredder.groupby(['to', 'year']).sum() - (shredder_cap_copy / conv1),\n",
    "    GRB.LESS_EQUAL,\n",
    "    0,\n",
    "    name = \"shredder_inbound_limit\"\n",
    ")\n",
    "'''"
   ]
  },
  {
   "cell_type": "markdown",
   "metadata": {},
   "source": [
    "## Objective function"
   ]
  },
  {
   "cell_type": "code",
   "execution_count": 49,
   "metadata": {},
   "outputs": [],
   "source": [
    "revenue = []\n",
    "for t in year_index:\n",
    "    revenue.append(price[t] * (flow_metal_to_magnet.loc[slice(None), slice(None), t]).sum())\n",
    "revenue = pd.Series(revenue, index=year_index, name='revenue')\n",
    "\n",
    "conversion_cost_shredder = []\n",
    "for t in year_index:\n",
    "    conversion_cost_shredder.append((oc_shredder.loc[slice(None), t] * flow_shredder_to_oxide.loc[slice(None), slice(None), t]).sum())\n",
    "conversion_cost_shredder = pd.Series(conversion_cost_shredder, index=year_index, name='conversion_cost_shredder')\n",
    "\n",
    "conversion_cost_oxide = []\n",
    "for t in year_index:\n",
    "    conversion_cost_oxide.append((oc_oxide.loc[slice(None), t] * flow_oxide_to_fluoride.loc[slice(None), slice(None), t]).sum())\n",
    "conversion_cost_oxide = pd.Series(conversion_cost_oxide, index=year_index, name='conversion_cost_oxide')\n",
    "\n",
    "conversion_cost_fluoride = []\n",
    "for t in year_index:\n",
    "    conversion_cost_fluoride.append((oc_fluoride.loc[slice(None), t] * flow_fluoride_to_metal.loc[slice(None), slice(None), t]).sum())\n",
    "conversion_cost_fluoride = pd.Series(conversion_cost_fluoride, index=year_index, name='conversion_cost_fluoride')\n",
    "\n",
    "conversion_cost_metal = []\n",
    "for t in year_index:\n",
    "    conversion_cost_metal.append((oc_ree.loc[slice(None), t] * flow_metal_to_magnet.loc[slice(None), slice(None), t]).sum())\n",
    "conversion_cost_metal = pd.Series(conversion_cost_metal, index=year_index, name='conversion_cost_metal')\n",
    "\n",
    "transportation_cost_shredder = []\n",
    "for t in year_index:\n",
    "    transportation_cost_shredder.append((shredder_to_oxide_tc.loc[slice(None), slice(None), t] * flow_shredder_to_oxide.loc[slice(None), slice(None), t]).sum())\n",
    "transportation_cost_shredder = pd.Series(transportation_cost_shredder, index=year_index, name='transportation_cost_shredder')\n",
    "\n",
    "transportation_cost_oxide = []\n",
    "for t in year_index:\n",
    "    transportation_cost_oxide.append((oxide_to_fluoride_tc.loc[slice(None), slice(None), t] * flow_oxide_to_fluoride.loc[slice(None), slice(None), t]).sum())\n",
    "transportation_cost_oxide = pd.Series(transportation_cost_oxide, index=year_index, name='transportation_cost_oxide')\n",
    "\n",
    "transportation_cost_fluoride = []\n",
    "for t in year_index:\n",
    "    transportation_cost_fluoride.append((fluoride_to_metal_tc.loc[slice(None), slice(None), t] * flow_fluoride_to_metal.loc[slice(None), slice(None), t]).sum())\n",
    "transportation_cost_fluoride = pd.Series(transportation_cost_fluoride, index=year_index, name='transportation_cost_fluoride')\n",
    "\n",
    "transportation_cost_metal = []\n",
    "for t in year_index:\n",
    "    transportation_cost_metal.append((metal_to_magnet_tc.loc[slice(None), slice(None), t] * flow_metal_to_magnet.loc[slice(None), slice(None), t]).sum())\n",
    "transportation_cost_metal = pd.Series(transportation_cost_metal, index=year_index, name='transportation_cost_metal')\n",
    "\n",
    "transportation_cost_waste_supplier = []\n",
    "for t in year_index:\n",
    "    transportation_cost_waste_supplier.append((waste_to_shredder_tc.loc[slice(None), slice(None), t] * flow_waste_to_shredder.loc[slice(None), slice(None), t]).sum())\n",
    "transportation_cost_waste_supplier = pd.Series(transportation_cost_waste_supplier, index=year_index, name='transportation_cost_waste_supplier')"
   ]
  },
  {
   "cell_type": "code",
   "execution_count": 50,
   "metadata": {},
   "outputs": [],
   "source": [
    "total_revenue = 0\n",
    "for j, t in enumerate(year_index, start=1):\n",
    "    total_revenue += (1 / (1+MARR)**j) * revenue[t]\n",
    "    \n",
    "total_conversion_cost_shredder = 0\n",
    "for j, t in enumerate(year_index, start=1):\n",
    "    total_conversion_cost_shredder += (1 / (1+MARR)**j) * conversion_cost_shredder[t]\n",
    "    \n",
    "total_conversion_cost_oxide = 0\n",
    "for j, t in enumerate(year_index, start=1):\n",
    "    total_conversion_cost_oxide += (1 / (1+MARR)**j) * conversion_cost_oxide[t]\n",
    "\n",
    "total_conversion_cost_fluoride = 0\n",
    "for j, t in enumerate(year_index, start=1):\n",
    "    total_conversion_cost_fluoride += (1 / (1+MARR)**j) * conversion_cost_fluoride[t]\n",
    "\n",
    "total_conversion_cost_metal = 0\n",
    "for j, t in enumerate(year_index, start=1):\n",
    "    total_conversion_cost_metal += (1 / (1+MARR)**j) * conversion_cost_metal[t]\n",
    "\n",
    "total_transportation_cost_shredder = 0\n",
    "for j, t in enumerate(year_index, start=1):\n",
    "    total_transportation_cost_shredder += (1 / (1+MARR)**j) * transportation_cost_shredder[t]\n",
    "    \n",
    "total_transportation_cost_oxide = 0\n",
    "for j, t in enumerate(year_index, start=1):\n",
    "    total_transportation_cost_oxide += (1 / (1+MARR)**j) * transportation_cost_oxide[t]\n",
    "    \n",
    "total_transportation_cost_fluoride = 0\n",
    "for j, t in enumerate(year_index, start=1):\n",
    "    total_transportation_cost_fluoride += (1 / (1+MARR)**j) * transportation_cost_fluoride[t]\n",
    "    \n",
    "total_transportation_cost_metal = 0\n",
    "for j, t in enumerate(year_index, start=1):\n",
    "    total_transportation_cost_metal += (1 / (1+MARR)**j) * transportation_cost_metal[t]\n",
    "    \n",
    "total_transportation_cost_waste_supplier = 0\n",
    "for j, t in enumerate(year_index, start=1):\n",
    "    total_transportation_cost_waste_supplier += (1 / (1+MARR)**j) * transportation_cost_waste_supplier[t]"
   ]
  },
  {
   "cell_type": "code",
   "execution_count": 51,
   "metadata": {},
   "outputs": [],
   "source": [
    "obj_exprs = total_revenue - total_conversion_cost_shredder - total_conversion_cost_oxide - total_conversion_cost_fluoride - total_conversion_cost_metal - \\\n",
    "            total_transportation_cost_shredder - total_transportation_cost_oxide - total_transportation_cost_fluoride - total_transportation_cost_metal - total_transportation_cost_waste_supplier\n",
    "            \n",
    "model_no_fixed_charge.setObjective(obj_exprs, sense=GRB.MAXIMIZE)\n",
    "model_no_fixed_charge.update()"
   ]
  },
  {
   "cell_type": "markdown",
   "metadata": {},
   "source": [
    "## Solve no fixed charge problem"
   ]
  },
  {
   "cell_type": "code",
   "execution_count": 52,
   "metadata": {},
   "outputs": [
    {
     "name": "stdout",
     "output_type": "stream",
     "text": [
      "Discarded solution information\n",
      "Gurobi Optimizer version 11.0.3 build v11.0.3rc0 (win64 - Windows 11.0 (22631.2))\n",
      "\n",
      "CPU model: Intel(R) Core(TM) i7-10750H CPU @ 2.60GHz, instruction set [SSE2|AVX|AVX2]\n",
      "Thread count: 6 physical cores, 12 logical processors, using up to 12 threads\n",
      "\n",
      "Optimize a model with 18750 rows, 163950 columns and 337830 nonzeros\n",
      "Model fingerprint: 0x02652620\n",
      "Coefficient statistics:\n",
      "  Matrix range     [8e-02, 1e+00]\n",
      "  Objective range  [5e-01, 8e+04]\n",
      "  Bounds range     [0e+00, 0e+00]\n",
      "  RHS range        [2e+01, 2e+04]\n",
      "Presolve removed 30 rows and 180 columns\n",
      "Presolve time: 0.30s\n",
      "Presolved: 18720 rows, 163770 columns, 337440 nonzeros\n",
      "\n",
      "Concurrent LP optimizer: primal simplex, dual simplex, and barrier\n",
      "Showing barrier log only...\n",
      "\n",
      "Ordering time: 0.01s\n",
      "\n",
      "Barrier statistics:\n",
      " AA' NZ     : 1.745e+05\n",
      " Factor NZ  : 2.132e+05 (roughly 80 MB of memory)\n",
      " Factor Ops : 2.854e+06 (less than 1 second per iteration)\n",
      " Threads    : 4\n",
      "\n",
      "                  Objective                Residual\n",
      "Iter       Primal          Dual         Primal    Dual     Compl     Time\n",
      "   0  -7.76179926e+11 -1.27066061e+09  4.31e+05 3.84e+03  1.51e+08     1s\n",
      "   1  -3.87637518e+10  6.30487626e+10  1.49e+04 3.64e-11  7.38e+06     1s\n",
      "   2  -6.40832517e+09  4.70705316e+10  1.90e+03 1.46e-11  1.23e+06     1s\n",
      "   3  -1.01352385e+09  3.02744880e+10  2.14e+02 1.27e-11  1.56e+05     1s\n",
      "   4  -5.86992147e+08  1.28742929e+10  1.31e+01 1.09e-11  4.12e+04     1s\n",
      "   5  -5.12607583e+08  6.11087686e+09  2.27e-03 1.17e-11  1.91e+04     1s\n",
      "\n",
      "Barrier performed 5 iterations in 1.04 seconds (0.30 work units)\n",
      "Barrier solve interrupted - model solved by another algorithm\n",
      "\n",
      "\n",
      "Solved with dual simplex\n",
      "Iteration    Objective       Primal Inf.    Dual Inf.      Time\n",
      "    6771    6.6495025e+07   0.000000e+00   0.000000e+00      1s\n",
      "\n",
      "Solved in 6771 iterations and 1.11 seconds (0.35 work units)\n",
      "Optimal objective  6.649502505e+07\n"
     ]
    }
   ],
   "source": [
    "model_no_fixed_charge.reset()\n",
    "model_no_fixed_charge.optimize()"
   ]
  },
  {
   "cell_type": "markdown",
   "metadata": {},
   "source": [
    "# Fixed-charge problem"
   ]
  },
  {
   "cell_type": "markdown",
   "metadata": {},
   "source": [
    "## Model"
   ]
  },
  {
   "cell_type": "code",
   "execution_count": 53,
   "metadata": {},
   "outputs": [],
   "source": [
    "model_with_fixed_charge = gp.Model(\"Ewaste_with_fixed_charge\", env=env)\n",
    "model_with_fixed_charge.ModelSense = GRB.MAXIMIZE"
   ]
  },
  {
   "cell_type": "markdown",
   "metadata": {},
   "source": [
    "## Decision variables"
   ]
  },
  {
   "cell_type": "code",
   "execution_count": 54,
   "metadata": {},
   "outputs": [],
   "source": [
    "flow_shredder_to_oxide_fixed_charge = gppd.add_vars(\n",
    "    model_with_fixed_charge,\n",
    "    shredder_to_oxide_tc,\n",
    "    vtype = GRB.CONTINUOUS,\n",
    "    name = \"flow_shredder_to_oxide\"\n",
    ")\n",
    "\n",
    "flow_oxide_to_fluoride_fixed_charge = gppd.add_vars(\n",
    "    model_with_fixed_charge,\n",
    "    oxide_to_fluoride_tc,\n",
    "    vtype = GRB.CONTINUOUS,\n",
    "    name = \"flow_oxide_to_fluoride\"\n",
    ")\n",
    "\n",
    "flow_fluoride_to_metal_fixed_charge = gppd.add_vars(\n",
    "    model_with_fixed_charge,\n",
    "    fluoride_to_metal_tc,\n",
    "    vtype = GRB.CONTINUOUS,\n",
    "    name = \"flow_fluoride_to_metal\"\n",
    ")\n",
    "\n",
    "shredder_loc = list(shredders.keys())\n",
    "waste_to_shredder_index = pd.MultiIndex.from_product([waste_volume.index, shredder_loc, year_index], names = [\"from\", \"to\", \"year\"])\n",
    "flow_waste_to_shredder_fixed_charge = gppd.add_vars(\n",
    "    model_with_fixed_charge,\n",
    "    waste_to_shredder_index,\n",
    "    vtype = GRB.CONTINUOUS,\n",
    "    name = \"flow_waste_to_shredder\"\n",
    ")\n",
    "\n",
    "flow_metal_to_magnet_fixed_charge = gppd.add_vars(\n",
    "    model_with_fixed_charge,\n",
    "    metal_to_magnet_tc,\n",
    "    vtype = GRB.CONTINUOUS,\n",
    "    name = \"flow_metal_to_magnet\"\n",
    ")\n",
    "\n",
    "y_shredder_fixed_charge = gppd.add_vars(\n",
    "    model_with_fixed_charge,\n",
    "    fc_shredder,\n",
    "    vtype = GRB.BINARY,\n",
    "    name = \"y_shredder\"\n",
    ")\n",
    "\n",
    "y_oxide_fixed_charge = gppd.add_vars(\n",
    "    model_with_fixed_charge,\n",
    "    fc_oxide,\n",
    "    vtype = GRB.BINARY,\n",
    "    name = \"y_oxide\"\n",
    ")\n",
    "\n",
    "auxiliary_shredder_fixed_charge = gppd.add_vars(\n",
    "    model_with_fixed_charge,\n",
    "    fc_shredder,\n",
    "    vtype = GRB.CONTINUOUS,\n",
    "    name = \"auxiliary_shredder\"\n",
    ")\n",
    "\n",
    "auxiliary_oxide_fixed_charge = gppd.add_vars(\n",
    "    model_with_fixed_charge,\n",
    "    fc_oxide,\n",
    "    vtype = GRB.CONTINUOUS,\n",
    "    name = \"auxiliary_oxide\"\n",
    ")"
   ]
  },
  {
   "cell_type": "markdown",
   "metadata": {},
   "source": [
    "## Constraints"
   ]
  },
  {
   "cell_type": "markdown",
   "metadata": {},
   "source": [
    "### Flow balance constraints"
   ]
  },
  {
   "cell_type": "code",
   "execution_count": 55,
   "metadata": {},
   "outputs": [],
   "source": [
    "shredder_balance_fixed_charge = gppd.add_constrs(\n",
    "    model_with_fixed_charge,\n",
    "    flow_shredder_to_oxide_fixed_charge.groupby(['from', 'year']).sum(),\n",
    "    GRB.LESS_EQUAL,\n",
    "    conv1 * (flow_waste_to_shredder_fixed_charge.groupby(['to', 'year']).sum()),\n",
    "    name = \"shredder_balance_fixed_charge\"\n",
    ")"
   ]
  },
  {
   "cell_type": "code",
   "execution_count": 56,
   "metadata": {},
   "outputs": [],
   "source": [
    "oxide_balance_fixed_charge = gppd.add_constrs(\n",
    "    model_with_fixed_charge,\n",
    "    flow_oxide_to_fluoride_fixed_charge.groupby(['from', 'year']).sum(),\n",
    "    GRB.LESS_EQUAL,\n",
    "    conv2 * (flow_shredder_to_oxide_fixed_charge.groupby(['to', 'year']).sum()),\n",
    "    name = \"oxide_balance_fixed_charge\"\n",
    ")"
   ]
  },
  {
   "cell_type": "code",
   "execution_count": 57,
   "metadata": {},
   "outputs": [],
   "source": [
    "fluoride_balance_fixed_charge = gppd.add_constrs(\n",
    "    model_with_fixed_charge,\n",
    "    flow_fluoride_to_metal_fixed_charge.groupby(['from', 'year']).sum(),\n",
    "    GRB.LESS_EQUAL,\n",
    "    conv3 * (flow_oxide_to_fluoride_fixed_charge.groupby(['to', 'year']).sum()),\n",
    "    name = \"fluoride_balance_fixed_charge\"\n",
    ")"
   ]
  },
  {
   "cell_type": "code",
   "execution_count": 58,
   "metadata": {},
   "outputs": [],
   "source": [
    "metal_balance_fixed_charge = gppd.add_constrs(\n",
    "    model_with_fixed_charge,\n",
    "    flow_metal_to_magnet_fixed_charge.groupby(['from', 'year']).sum(),\n",
    "    GRB.LESS_EQUAL,\n",
    "    conv4 * (flow_fluoride_to_metal_fixed_charge.groupby(['to', 'year']).sum()),\n",
    "    name = \"metal_balance_fixed_charge\"\n",
    ")"
   ]
  },
  {
   "cell_type": "markdown",
   "metadata": {},
   "source": [
    "### Capacity constraint"
   ]
  },
  {
   "cell_type": "code",
   "execution_count": 59,
   "metadata": {},
   "outputs": [],
   "source": [
    "waste_supply_limit_fixed_charge = gppd.add_constrs(\n",
    "    model_with_fixed_charge,\n",
    "    flow_waste_to_shredder_fixed_charge.groupby(['from', 'year']).sum() - waste_volume,\n",
    "    GRB.LESS_EQUAL,\n",
    "    0,\n",
    "    name = \"waste_supply_limit_fixed_charge\"\n",
    ")"
   ]
  },
  {
   "cell_type": "code",
   "execution_count": 60,
   "metadata": {},
   "outputs": [],
   "source": [
    "shredder_supply_limit_fixed_charge = gppd.add_constrs(\n",
    "    model_with_fixed_charge,\n",
    "    flow_shredder_to_oxide_fixed_charge.groupby(['from', 'year']).sum(),\n",
    "    GRB.LESS_EQUAL,\n",
    "    shredder_cap * y_shredder_fixed_charge,\n",
    "    name = \"shredder_supply_limit_fixed_charge\"\n",
    ")"
   ]
  },
  {
   "cell_type": "code",
   "execution_count": 61,
   "metadata": {},
   "outputs": [],
   "source": [
    "oxide_supply_limit_fixed_charge = gppd.add_constrs(\n",
    "    model_with_fixed_charge,\n",
    "    flow_oxide_to_fluoride_fixed_charge.groupby(['from', 'year']).sum(),\n",
    "    GRB.LESS_EQUAL,\n",
    "    oxide_cap * y_oxide_fixed_charge,\n",
    "    name = \"oxide_supply_limit_fixed_charge\"\n",
    ")"
   ]
  },
  {
   "cell_type": "code",
   "execution_count": 62,
   "metadata": {},
   "outputs": [],
   "source": [
    "fluoride_supply_limit_fixed_charge = gppd.add_constrs(\n",
    "    model_with_fixed_charge,\n",
    "    flow_fluoride_to_metal_fixed_charge.groupby(['from', 'year']).sum() - fluoride_cap,\n",
    "    GRB.LESS_EQUAL,\n",
    "    0,\n",
    "    name = \"fluoride_supply_limit_fixed_charge\"\n",
    ")"
   ]
  },
  {
   "cell_type": "code",
   "execution_count": 63,
   "metadata": {},
   "outputs": [],
   "source": [
    "metal_supply_limit_fixed_charge = gppd.add_constrs(\n",
    "    model_with_fixed_charge,\n",
    "    flow_metal_to_magnet_fixed_charge.groupby(['from', 'year']).sum() - metal_cap,\n",
    "    GRB.LESS_EQUAL,\n",
    "    0,\n",
    "    name = \"metal_supply_limit_fixed_charge\"\n",
    ")"
   ]
  },
  {
   "cell_type": "code",
   "execution_count": 64,
   "metadata": {},
   "outputs": [
    {
     "data": {
      "text/plain": [
       "'\\nshredder_inbound_limit_fixed_charge = gppd.add_constrs(\\n    model_with_fixed_charge,\\n    flow_waste_to_shredder_fixed_charge.groupby([\\'to\\', \\'year\\']).sum(),\\n    GRB.LESS_EQUAL,\\n    (shredder_cap / conv1) * y_shredder_fixed_charge,\\n    name = \"shredder_inbound_limit_fixed_charge\"\\n)\\n'"
      ]
     },
     "execution_count": 64,
     "metadata": {},
     "output_type": "execute_result"
    }
   ],
   "source": [
    "'''\n",
    "shredder_inbound_limit_fixed_charge = gppd.add_constrs(\n",
    "    model_with_fixed_charge,\n",
    "    flow_waste_to_shredder_fixed_charge.groupby(['to', 'year']).sum(),\n",
    "    GRB.LESS_EQUAL,\n",
    "    (shredder_cap / conv1) * y_shredder_fixed_charge,\n",
    "    name = \"shredder_inbound_limit_fixed_charge\"\n",
    ")\n",
    "'''"
   ]
  },
  {
   "cell_type": "code",
   "execution_count": 65,
   "metadata": {},
   "outputs": [],
   "source": [
    "# Add the max constraints for each combination of i and t\n",
    "max_constraints_shredder_record = []\n",
    "\n",
    "for i in shredders.keys():\n",
    "    for j, t in enumerate(year_index):\n",
    "        if j > 0:\n",
    "            gc = model_with_fixed_charge.addConstr(auxiliary_shredder_fixed_charge[i, t] >= y_shredder_fixed_charge[i, t] - y_shredder_fixed_charge[i, year_index[j-1]], \n",
    "                                                   name=f\"max_constraint_shredder[{i},{t}]\")\n",
    "        else:\n",
    "            gc = model_with_fixed_charge.addConstr(auxiliary_shredder_fixed_charge[i, t] >= y_shredder_fixed_charge[i, t], name=f\"max_constraint_shredder[{i},{t}]\")\n",
    "        max_constraints_shredder_record.append(gc)\n",
    "\n",
    "model_with_fixed_charge.update()\n",
    "index_list = pd.MultiIndex.from_product([shredder_loc, year_index], names = ['from', 'year'])\n",
    "max_constraints_shredder = pd.Series(max_constraints_shredder_record, index=index_list, name=\"max_constraints_shredder\")"
   ]
  },
  {
   "cell_type": "code",
   "execution_count": 66,
   "metadata": {},
   "outputs": [],
   "source": [
    "# Add the max constraints for each combination of i and t\n",
    "max_constraints_oxide_record = []\n",
    "\n",
    "for i in oxide_producers.keys():\n",
    "    for j, t in enumerate(year_index):\n",
    "        if j > 0:\n",
    "            gc = model_with_fixed_charge.addConstr(auxiliary_oxide_fixed_charge[i, t] >= y_oxide_fixed_charge[i, t] - y_oxide_fixed_charge[i, year_index[j-1]], \n",
    "                                                   name=f\"max_constraint_oxide[{i},{t}]\")\n",
    "        else:\n",
    "            gc = model_with_fixed_charge.addConstr(auxiliary_oxide_fixed_charge[i, t] >= y_oxide_fixed_charge[i, t], name=f\"max_constraint_oxide[{i},{t}]\")\n",
    "        max_constraints_oxide_record.append(gc)\n",
    "\n",
    "model_with_fixed_charge.update()\n",
    "index_list = pd.MultiIndex.from_product([list(oxide_producers.keys()), year_index], names = ['from', 'year'])\n",
    "max_constraints_oxide = pd.Series(max_constraints_oxide_record, index=index_list, name=\"max_constraints_oxide\")"
   ]
  },
  {
   "cell_type": "markdown",
   "metadata": {},
   "source": [
    "## Objective function"
   ]
  },
  {
   "cell_type": "code",
   "execution_count": 67,
   "metadata": {},
   "outputs": [],
   "source": [
    "revenue_fixed_charge = []\n",
    "for t in year_index:\n",
    "    revenue_fixed_charge.append(price[t] * (flow_metal_to_magnet_fixed_charge.loc[slice(None), slice(None), t]).sum())\n",
    "revenue_fixed_charge = pd.Series(revenue_fixed_charge, index=year_index, name='revenue_fixed_charge')\n",
    "\n",
    "conversion_cost_shredder_fixed_charge = []\n",
    "for t in year_index:\n",
    "    conversion_cost_shredder_fixed_charge.append((oc_shredder.loc[slice(None), t] * flow_shredder_to_oxide_fixed_charge.loc[slice(None), slice(None), t]).sum())\n",
    "conversion_cost_shredder_fixed_charge = pd.Series(conversion_cost_shredder_fixed_charge, index=year_index, name='conversion_cost_shredder_fixed_charge')\n",
    "\n",
    "conversion_cost_oxide_fixed_charge = []\n",
    "for t in year_index:\n",
    "    conversion_cost_oxide_fixed_charge.append((oc_oxide.loc[slice(None), t] * flow_oxide_to_fluoride_fixed_charge.loc[slice(None), slice(None), t]).sum())\n",
    "conversion_cost_oxide_fixed_charge = pd.Series(conversion_cost_oxide_fixed_charge, index=year_index, name='conversion_cost_oxide_fixed_charge')\n",
    "\n",
    "conversion_cost_fluoride_fixed_charge = []\n",
    "for t in year_index:\n",
    "    conversion_cost_fluoride_fixed_charge.append((oc_fluoride.loc[slice(None), t] * flow_fluoride_to_metal_fixed_charge.loc[slice(None), slice(None), t]).sum())\n",
    "conversion_cost_fluoride_fixed_charge = pd.Series(conversion_cost_fluoride_fixed_charge, index=year_index, name='conversion_cost_fluoride_fixed_charge')\n",
    "\n",
    "conversion_cost_metal_fixed_charge = []\n",
    "for t in year_index:\n",
    "    conversion_cost_metal_fixed_charge.append((oc_ree.loc[slice(None), t] * flow_metal_to_magnet_fixed_charge.loc[slice(None), slice(None), t]).sum())\n",
    "conversion_cost_metal_fixed_charge = pd.Series(conversion_cost_metal_fixed_charge, index=year_index, name='conversion_cost_metal_fixed_charge')\n",
    "\n",
    "transportation_cost_shredder_fixed_charge = []\n",
    "for t in year_index:\n",
    "    transportation_cost_shredder_fixed_charge.append((shredder_to_oxide_tc.loc[slice(None), slice(None), t] * flow_shredder_to_oxide_fixed_charge.loc[slice(None), slice(None), t]).sum())\n",
    "transportation_cost_shredder_fixed_charge = pd.Series(transportation_cost_shredder_fixed_charge, index=year_index, name='transportation_cost_shredder_fixed_charge')\n",
    "\n",
    "transportation_cost_oxide_fixed_charge = []\n",
    "for t in year_index:\n",
    "    transportation_cost_oxide_fixed_charge.append((oxide_to_fluoride_tc.loc[slice(None), slice(None), t] * flow_oxide_to_fluoride_fixed_charge.loc[slice(None), slice(None), t]).sum())\n",
    "transportation_cost_oxide_fixed_charge = pd.Series(transportation_cost_oxide_fixed_charge, index=year_index, name='transportation_cost_oxide_fixed_charge')\n",
    "\n",
    "transportation_cost_fluoride_fixed_charge = []\n",
    "for t in year_index:\n",
    "    transportation_cost_fluoride_fixed_charge.append((fluoride_to_metal_tc.loc[slice(None), slice(None), t] * flow_fluoride_to_metal_fixed_charge.loc[slice(None), slice(None), t]).sum())\n",
    "transportation_cost_fluoride_fixed_charge = pd.Series(transportation_cost_fluoride_fixed_charge, index=year_index, name='transportation_cost_fluoride_fixed_charge')\n",
    "\n",
    "transportation_cost_metal_fixed_charge = []\n",
    "for t in year_index:\n",
    "    transportation_cost_metal_fixed_charge.append((metal_to_magnet_tc.loc[slice(None), slice(None), t] * flow_metal_to_magnet_fixed_charge.loc[slice(None), slice(None), t]).sum())\n",
    "transportation_cost_metal_fixed_charge = pd.Series(transportation_cost_metal_fixed_charge, index=year_index, name='transportation_cost_metal_fixed_charge')\n",
    "\n",
    "transportation_cost_waste_supplier_fixed_charge = []\n",
    "for t in year_index:\n",
    "    transportation_cost_waste_supplier_fixed_charge.append((waste_to_shredder_tc.loc[slice(None), slice(None), t] * flow_waste_to_shredder_fixed_charge.loc[slice(None), slice(None), t]).sum())\n",
    "transportation_cost_waste_supplier_fixed_charge = pd.Series(transportation_cost_waste_supplier_fixed_charge, index=year_index, name='transportation_cost_waste_supplier_fixed_charge')\n",
    "\n",
    "fixed_cost_shredder =[]\n",
    "for t in year_index:\n",
    "    fixed_cost_shredder.append((fc_shredder.loc[slice(None), t] * (1 - w * is_shredder_incentive_eligible) * auxiliary_shredder_fixed_charge.loc[slice(None), t]).sum())\n",
    "fixed_cost_shredder = pd.Series(fixed_cost_shredder, index=year_index, name='fixed_cost_shredder')\n",
    "\n",
    "fixed_cost_oxide =[]\n",
    "for t in year_index:\n",
    "    fixed_cost_oxide.append((fc_oxide.loc[slice(None), t] * (1 - w * is_oxide_producer_incentive_eligible) * auxiliary_oxide_fixed_charge.loc[slice(None), t]).sum())\n",
    "fixed_cost_oxide = pd.Series(fixed_cost_oxide, index=year_index, name='fixed_cost_oxide')"
   ]
  },
  {
   "cell_type": "code",
   "execution_count": 68,
   "metadata": {},
   "outputs": [],
   "source": [
    "total_revenue_fixed_charge = 0\n",
    "for j, t in enumerate(year_index, start=1):\n",
    "    total_revenue_fixed_charge += (1 / (1+MARR)**j) * revenue_fixed_charge[t]\n",
    "    \n",
    "total_conversion_cost_shredder_fixed_charge = 0\n",
    "for j, t in enumerate(year_index, start=1):\n",
    "    total_conversion_cost_shredder_fixed_charge += (1 / (1+MARR)**j) * conversion_cost_shredder_fixed_charge[t]\n",
    "    \n",
    "total_conversion_cost_oxide_fixed_charge = 0\n",
    "for j, t in enumerate(year_index, start=1):\n",
    "    total_conversion_cost_oxide_fixed_charge += (1 / (1+MARR)**j) * conversion_cost_oxide_fixed_charge[t]\n",
    "\n",
    "total_conversion_cost_fluoride_fixed_charge = 0\n",
    "for j, t in enumerate(year_index, start=1):\n",
    "    total_conversion_cost_fluoride_fixed_charge += (1 / (1+MARR)**j) * conversion_cost_fluoride_fixed_charge[t]\n",
    "\n",
    "total_conversion_cost_metal_fixed_charge = 0\n",
    "for j, t in enumerate(year_index, start=1):\n",
    "    total_conversion_cost_metal_fixed_charge += (1 / (1+MARR)**j) * conversion_cost_metal_fixed_charge[t]\n",
    "\n",
    "total_transportation_cost_shredder_fixed_charge = 0\n",
    "for j, t in enumerate(year_index, start=1):\n",
    "    total_transportation_cost_shredder_fixed_charge += (1 / (1+MARR)**j) * transportation_cost_shredder_fixed_charge[t]\n",
    "    \n",
    "total_transportation_cost_oxide_fixed_charge = 0\n",
    "for j, t in enumerate(year_index, start=1):\n",
    "    total_transportation_cost_oxide_fixed_charge += (1 / (1+MARR)**j) * transportation_cost_oxide_fixed_charge[t]\n",
    "    \n",
    "total_transportation_cost_fluoride_fixed_charge = 0\n",
    "for j, t in enumerate(year_index, start=1):\n",
    "    total_transportation_cost_fluoride_fixed_charge += (1 / (1+MARR)**j) * transportation_cost_fluoride_fixed_charge[t]\n",
    "    \n",
    "total_transportation_cost_metal_fixed_charge = 0\n",
    "for j, t in enumerate(year_index, start=1):\n",
    "    total_transportation_cost_metal_fixed_charge += (1 / (1+MARR)**j) * transportation_cost_metal_fixed_charge[t]\n",
    "    \n",
    "total_transportation_cost_waste_supplier_fixed_charge = 0\n",
    "for j, t in enumerate(year_index, start=1):\n",
    "    total_transportation_cost_waste_supplier_fixed_charge += (1 / (1+MARR)**j) * transportation_cost_waste_supplier_fixed_charge[t]\n",
    "    \n",
    "total_fixed_cost_shredder = 0\n",
    "for j, t in enumerate(year_index, start=1):\n",
    "    total_fixed_cost_shredder += (1 / (1+MARR)**j) * fixed_cost_shredder[t]\n",
    "\n",
    "total_fixed_cost_oxide = 0\n",
    "for j, t in enumerate(year_index, start=1):\n",
    "    total_fixed_cost_oxide += (1 / (1+MARR)**j) * fixed_cost_oxide[t]"
   ]
  },
  {
   "cell_type": "code",
   "execution_count": 69,
   "metadata": {},
   "outputs": [],
   "source": [
    "obj_exprs_fixed_charge = total_revenue_fixed_charge - total_conversion_cost_shredder_fixed_charge - total_conversion_cost_oxide_fixed_charge - total_conversion_cost_fluoride_fixed_charge - \\\n",
    "                        total_conversion_cost_metal_fixed_charge - total_transportation_cost_shredder_fixed_charge - total_transportation_cost_oxide_fixed_charge - \\\n",
    "                        total_transportation_cost_fluoride_fixed_charge - total_transportation_cost_metal_fixed_charge - total_transportation_cost_waste_supplier_fixed_charge - \\\n",
    "                        total_fixed_cost_oxide - total_fixed_cost_shredder\n",
    "            \n",
    "model_with_fixed_charge.setObjective(obj_exprs_fixed_charge, sense=GRB.MAXIMIZE)\n",
    "model_with_fixed_charge.update()"
   ]
  },
  {
   "cell_type": "markdown",
   "metadata": {},
   "source": [
    "## Create heuristic solution for Fixed Charge problem"
   ]
  },
  {
   "cell_type": "code",
   "execution_count": 70,
   "metadata": {},
   "outputs": [],
   "source": [
    "for i, j, t in flow_shredder_to_oxide.index:\n",
    "    flow_shredder_to_oxide_fixed_charge[i,j,t].Start = flow_shredder_to_oxide[i,j,t].X\n",
    "    \n",
    "for i, j, t in flow_oxide_to_fluoride.index:\n",
    "    flow_oxide_to_fluoride_fixed_charge[i,j,t].Start = flow_oxide_to_fluoride[i,j,t].X\n",
    "    \n",
    "for i, j, t in flow_fluoride_to_metal.index:\n",
    "    flow_fluoride_to_metal_fixed_charge[i,j,t].Start = flow_fluoride_to_metal[i,j,t].X\n",
    "    \n",
    "for i, j, t in flow_metal_to_magnet.index:\n",
    "    flow_metal_to_magnet_fixed_charge[i,j,t].Start = flow_metal_to_magnet[i,j,t].X\n",
    "    \n",
    "for i, j, t in flow_waste_to_shredder.index:\n",
    "    flow_waste_to_shredder_fixed_charge[i,j,t].Start = flow_waste_to_shredder[i,j,t].X"
   ]
  },
  {
   "cell_type": "code",
   "execution_count": 71,
   "metadata": {},
   "outputs": [],
   "source": [
    "model_with_fixed_charge.update()"
   ]
  },
  {
   "cell_type": "code",
   "execution_count": 72,
   "metadata": {},
   "outputs": [],
   "source": [
    "for i, t in y_shredder_fixed_charge.index:\n",
    "    total_flow_from_i = flow_shredder_to_oxide.loc[i, slice(None), t].gppd.X.sum()\n",
    "    y_shredder_fixed_charge[i,t].Start = 1 if total_flow_from_i > 0 else 0\n",
    "    \n",
    "    if i == 'S01': # Always open RecycleForce\n",
    "        y_shredder_fixed_charge[i,t].UB = 1\n",
    "        y_shredder_fixed_charge[i,t].LB = 1\n",
    "        y_shredder_fixed_charge[i,t].Start = 1"
   ]
  },
  {
   "cell_type": "code",
   "execution_count": 73,
   "metadata": {},
   "outputs": [],
   "source": [
    "for i, t in y_oxide_fixed_charge.index:\n",
    "    total_flow_from_i = flow_oxide_to_fluoride.loc[i, slice(None), t].gppd.X.sum()\n",
    "    y_oxide_fixed_charge[i,t].Start = 1 if total_flow_from_i > 0 else 0\n",
    "    \n",
    "    if i == 'OP65':\n",
    "        y_oxide_fixed_charge[i,t].UB = 1\n",
    "        y_oxide_fixed_charge[i,t].LB = 1\n",
    "        y_oxide_fixed_charge[i,t].Start = 1"
   ]
  },
  {
   "cell_type": "code",
   "execution_count": 74,
   "metadata": {},
   "outputs": [],
   "source": [
    "model_with_fixed_charge.update()"
   ]
  },
  {
   "cell_type": "code",
   "execution_count": 75,
   "metadata": {},
   "outputs": [],
   "source": [
    "for i in shredders.keys():\n",
    "    for j, t in enumerate(year_index):\n",
    "        if j > 0:\n",
    "            auxiliary_shredder_fixed_charge[i, t].Start = max(0, y_shredder_fixed_charge[i, t].Start - y_shredder_fixed_charge[i, year_index[j-1]].Start)\n",
    "        else:\n",
    "            auxiliary_shredder_fixed_charge[i, t].Start = max(0, y_shredder_fixed_charge[i, t].Start)"
   ]
  },
  {
   "cell_type": "code",
   "execution_count": 76,
   "metadata": {},
   "outputs": [],
   "source": [
    "for i in oxide_producers.keys():\n",
    "    for j, t in enumerate(year_index):\n",
    "        if j > 0:\n",
    "            auxiliary_oxide_fixed_charge[i, t].Start = max(0, y_oxide_fixed_charge[i, t].Start - y_oxide_fixed_charge[i, year_index[j-1]].Start)\n",
    "        else:\n",
    "            auxiliary_oxide_fixed_charge[i, t].Start = max(0, y_oxide_fixed_charge[i, t].Start)"
   ]
  },
  {
   "cell_type": "code",
   "execution_count": 77,
   "metadata": {},
   "outputs": [],
   "source": [
    "model_with_fixed_charge.update()"
   ]
  },
  {
   "cell_type": "markdown",
   "metadata": {},
   "source": [
    "## Solve the fixed charge problem with warm-up heuristic"
   ]
  },
  {
   "cell_type": "code",
   "execution_count": 78,
   "metadata": {},
   "outputs": [
    {
     "name": "stdout",
     "output_type": "stream",
     "text": [
      "Gurobi Optimizer version 11.0.3 build v11.0.3rc0 (win64 - Windows 11.0 (22631.2))\n",
      "\n",
      "CPU model: Intel(R) Core(TM) i7-10750H CPU @ 2.60GHz, instruction set [SSE2|AVX|AVX2]\n",
      "Thread count: 6 physical cores, 12 logical processors, using up to 12 threads\n",
      "\n",
      "Optimize a model with 19490 rows, 165430 columns and 340716 nonzeros\n",
      "Model fingerprint: 0xdb6cea38\n",
      "Variable types: 164690 continuous, 740 integer (740 binary)\n",
      "Coefficient statistics:\n",
      "  Matrix range     [8e-02, 2e+04]\n",
      "  Objective range  [5e-01, 2e+05]\n",
      "  Bounds range     [1e+00, 1e+00]\n",
      "  RHS range        [2e+01, 8e+03]\n",
      "\n",
      "Loaded user MIP start with objective 6.44343e+07\n",
      "\n",
      "Presolve removed 132 rows and 292 columns\n",
      "Presolve time: 0.80s\n",
      "Presolved: 19358 rows, 165138 columns, 339404 nonzeros\n",
      "Variable types: 163770 continuous, 1368 integer (1368 binary)\n",
      "Deterministic concurrent LP optimizer: primal and dual simplex\n",
      "Showing primal log only...\n",
      "\n",
      "Concurrent spin time: 0.06s\n",
      "\n",
      "Solved with dual simplex\n",
      "\n",
      "Root relaxation: objective 6.529801e+07, 4470 iterations, 0.96 seconds (0.43 work units)\n",
      "\n",
      "    Nodes    |    Current Node    |     Objective Bounds      |     Work\n",
      " Expl Unexpl |  Obj  Depth IntInf | Incumbent    BestBd   Gap | It/Node Time\n",
      "\n",
      "     0     0 6.5298e+07    0  100 6.4434e+07 6.5298e+07  1.34%     -    2s\n",
      "H    0     0                    6.446681e+07 6.5298e+07  1.29%     -    2s\n",
      "H    0     0                    6.463341e+07 6.5298e+07  1.03%     -    2s\n",
      "     0     0 6.5056e+07    0   90 6.4633e+07 6.5056e+07  0.65%     -    4s\n",
      "     0     0 6.5040e+07    0   90 6.4633e+07 6.5040e+07  0.63%     -    5s\n",
      "     0     0 6.5040e+07    0   90 6.4633e+07 6.5040e+07  0.63%     -    6s\n",
      "     0     0 6.5040e+07    0  100 6.4633e+07 6.5040e+07  0.63%     -    6s\n",
      "     0     0 6.5039e+07    0  101 6.4633e+07 6.5039e+07  0.63%     -    7s\n",
      "     0     0 6.5039e+07    0  101 6.4633e+07 6.5039e+07  0.63%     -    7s\n",
      "     0     0 6.5037e+07    0  103 6.4633e+07 6.5037e+07  0.62%     -    7s\n",
      "     0     0 6.5037e+07    0  100 6.4633e+07 6.5037e+07  0.62%     -    8s\n",
      "     0     0 6.5036e+07    0  100 6.4633e+07 6.5036e+07  0.62%     -    9s\n",
      "     0     0 6.5036e+07    0  100 6.4633e+07 6.5036e+07  0.62%     -    9s\n",
      "     0     0 6.5036e+07    0  100 6.4633e+07 6.5036e+07  0.62%     -    9s\n",
      "     0     0 6.5036e+07    0  100 6.4633e+07 6.5036e+07  0.62%     -   10s\n",
      "     0     0 6.5036e+07    0  101 6.4633e+07 6.5036e+07  0.62%     -   10s\n",
      "     0     0 6.5036e+07    0  101 6.4633e+07 6.5036e+07  0.62%     -   10s\n",
      "     0     0 6.5029e+07    0  101 6.4633e+07 6.5029e+07  0.61%     -   10s\n",
      "     0     0 6.5000e+07    0  101 6.4633e+07 6.5000e+07  0.57%     -   11s\n",
      "     0     0 6.5000e+07    0  101 6.4633e+07 6.5000e+07  0.57%     -   11s\n",
      "     0     0 6.5000e+07    0  101 6.4633e+07 6.5000e+07  0.57%     -   11s\n",
      "     0     0 6.4997e+07    0  101 6.4633e+07 6.4997e+07  0.56%     -   11s\n",
      "     0     0 6.4997e+07    0  100 6.4633e+07 6.4997e+07  0.56%     -   11s\n",
      "     0     0 6.4997e+07    0  100 6.4633e+07 6.4997e+07  0.56%     -   12s\n",
      "     0     0 6.4997e+07    0  100 6.4633e+07 6.4997e+07  0.56%     -   12s\n",
      "     0     0 6.4997e+07    0  101 6.4633e+07 6.4997e+07  0.56%     -   12s\n",
      "     0     0 6.4996e+07    0  102 6.4633e+07 6.4996e+07  0.56%     -   12s\n",
      "     0     0 6.4989e+07    0  101 6.4633e+07 6.4989e+07  0.55%     -   13s\n",
      "     0     0 6.4988e+07    0  101 6.4633e+07 6.4988e+07  0.55%     -   13s\n",
      "     0     0 6.4986e+07    0  101 6.4633e+07 6.4986e+07  0.55%     -   13s\n",
      "H    0     0                    6.463906e+07 6.4986e+07  0.54%     -   14s\n",
      "     0     0 6.4986e+07    0  101 6.4639e+07 6.4986e+07  0.54%     -   14s\n",
      "     0     0 6.4931e+07    0  102 6.4639e+07 6.4931e+07  0.45%     -   14s\n",
      "     0     0 6.4916e+07    0  102 6.4639e+07 6.4916e+07  0.43%     -   14s\n",
      "     0     0 6.4916e+07    0  102 6.4639e+07 6.4916e+07  0.43%     -   15s\n",
      "     0     0 6.4916e+07    0   92 6.4639e+07 6.4916e+07  0.43%     -   15s\n",
      "     0     0 6.4915e+07    0   92 6.4639e+07 6.4915e+07  0.43%     -   15s\n",
      "     0     0 6.4915e+07    0   92 6.4639e+07 6.4915e+07  0.43%     -   15s\n",
      "     0     0 6.4910e+07    0   81 6.4639e+07 6.4910e+07  0.42%     -   16s\n",
      "     0     0 6.4903e+07    0   81 6.4639e+07 6.4903e+07  0.41%     -   18s\n",
      "     0     0 6.4883e+07    0   80 6.4639e+07 6.4883e+07  0.38%     -   22s\n",
      "     0     0 6.4850e+07    0   90 6.4639e+07 6.4850e+07  0.33%     -   23s\n",
      "     0     0 6.4850e+07    0   90 6.4639e+07 6.4850e+07  0.33%     -   23s\n",
      "     0     0 6.4850e+07    0   90 6.4639e+07 6.4850e+07  0.33%     -   24s\n",
      "     0     0 6.4850e+07    0   89 6.4639e+07 6.4850e+07  0.33%     -   28s\n",
      "     0     0 6.4848e+07    0   89 6.4639e+07 6.4848e+07  0.32%     -   29s\n",
      "     0     0 6.4848e+07    0   89 6.4639e+07 6.4848e+07  0.32%     -   30s\n",
      "H    0     0                    6.463910e+07 6.4848e+07  0.32%     -   31s\n",
      "     0     0 6.4848e+07    0   89 6.4639e+07 6.4848e+07  0.32%     -   31s\n",
      "     0     0 6.4848e+07    0   89 6.4639e+07 6.4848e+07  0.32%     -   32s\n",
      "     0     0 6.4848e+07    0   89 6.4639e+07 6.4848e+07  0.32%     -   33s\n",
      "     0     2 6.4848e+07    0   89 6.4639e+07 6.4848e+07  0.32%     -   34s\n",
      "     1     3 6.4741e+07    1   92 6.4639e+07 6.4848e+07  0.32%   303   35s\n",
      "    21    10 6.4761e+07    6   57 6.4639e+07 6.4769e+07  0.20%   156   41s\n",
      "H   29    15                    6.467476e+07 6.4753e+07  0.12%   133   43s\n",
      "    39    32 6.4738e+07    9   55 6.4675e+07 6.4753e+07  0.12%   117   45s\n",
      "    97    41 6.4686e+07   16   16 6.4675e+07 6.4753e+07  0.12%  88.1   50s\n",
      "   188    48 6.4675e+07   13   14 6.4675e+07 6.4731e+07  0.09%  77.9   56s\n",
      "   294    33 6.4689e+07   11   20 6.4675e+07 6.4719e+07  0.07%  69.3   61s\n",
      "\n",
      "Cutting planes:\n",
      "  Gomory: 14\n",
      "  MIR: 44\n",
      "  Flow cover: 114\n",
      "\n",
      "Explored 396 nodes (33808 simplex iterations) in 63.57 seconds (22.51 work units)\n",
      "Thread count was 12 (of 12 available processors)\n",
      "\n",
      "Solution count 4: 6.46748e+07 6.46391e+07 6.44668e+07 6.44343e+07 \n",
      "\n",
      "Optimal solution found (tolerance 1.00e-04)\n",
      "Best objective 6.467476340481e+07, best bound 6.467476340481e+07, gap 0.0000%\n"
     ]
    }
   ],
   "source": [
    "model_with_fixed_charge.update()\n",
    "model_with_fixed_charge.optimize()"
   ]
  },
  {
   "cell_type": "markdown",
   "metadata": {},
   "source": [
    "## Analyze"
   ]
  },
  {
   "cell_type": "code",
   "execution_count": 79,
   "metadata": {},
   "outputs": [],
   "source": [
    "import os\n",
    "from src.utils import add_sheet_to_excelbook\n",
    "output_file_path = os.path.join(os.path.abspath(os.path.join(os.getcwd(), os.pardir)), \"artifacts\", \"output_data.xlsx\")"
   ]
  },
  {
   "cell_type": "code",
   "execution_count": 80,
   "metadata": {},
   "outputs": [],
   "source": [
    "shredder_locations = y_shredder_fixed_charge.gppd.X\n",
    "shredder_locations = shredder_locations.unstack(1).sort_index(axis = 1)\n",
    "shredder_locations = shredder_locations[year_index].reset_index()\n",
    "add_sheet_to_excelbook(output_file_path, \"Shredder Locations\", shredder_locations)"
   ]
  },
  {
   "cell_type": "code",
   "execution_count": 81,
   "metadata": {},
   "outputs": [],
   "source": [
    "oxide_producer_locations = y_oxide_fixed_charge.gppd.X\n",
    "oxide_producer_locations = oxide_producer_locations.unstack().sort_index(axis = 1)\n",
    "oxide_producer_locations = oxide_producer_locations[year_index].reset_index()\n",
    "add_sheet_to_excelbook(output_file_path, \"Oxide Producer Locations\", oxide_producer_locations)"
   ]
  },
  {
   "cell_type": "code",
   "execution_count": 82,
   "metadata": {},
   "outputs": [],
   "source": [
    "waste_to_shredder = flow_waste_to_shredder_fixed_charge.gppd.X\n",
    "waste_to_shredder = waste_to_shredder.unstack(2).sort_index(axis = 1)\n",
    "waste_to_shredder = waste_to_shredder[year_index].reset_index()\n",
    "add_sheet_to_excelbook(output_file_path, \"Waste supplier to shredder\", waste_to_shredder)"
   ]
  },
  {
   "cell_type": "code",
   "execution_count": 83,
   "metadata": {},
   "outputs": [],
   "source": [
    "shredder_to_oxide_producer = flow_shredder_to_oxide_fixed_charge.gppd.X\n",
    "shredder_to_oxide_producer = shredder_to_oxide_producer.unstack(2).sort_index(axis = 1)\n",
    "shredder_to_oxide_producer = shredder_to_oxide_producer[year_index].reset_index()\n",
    "add_sheet_to_excelbook(output_file_path, \"Shredder to oxide producer\", shredder_to_oxide_producer)"
   ]
  },
  {
   "cell_type": "code",
   "execution_count": 84,
   "metadata": {},
   "outputs": [],
   "source": [
    "oxide_to_fluoride_producer = flow_oxide_to_fluoride_fixed_charge.gppd.X\n",
    "oxide_to_fluoride_producer = oxide_to_fluoride_producer.unstack(2).sort_index(axis = 1)\n",
    "oxide_to_fluoride_producer = oxide_to_fluoride_producer[year_index].reset_index()\n",
    "add_sheet_to_excelbook(output_file_path, \"oxide to fluoride producer\", oxide_to_fluoride_producer)"
   ]
  },
  {
   "cell_type": "code",
   "execution_count": 85,
   "metadata": {},
   "outputs": [],
   "source": [
    "fluoride_to_metal_producer = flow_fluoride_to_metal_fixed_charge.gppd.X\n",
    "fluoride_to_metal_producer = fluoride_to_metal_producer.unstack(2).sort_index(axis = 1)\n",
    "fluoride_to_metal_producer = fluoride_to_metal_producer[year_index].reset_index()\n",
    "add_sheet_to_excelbook(output_file_path, \"fluoride to metal producer\", fluoride_to_metal_producer)"
   ]
  },
  {
   "cell_type": "code",
   "execution_count": 86,
   "metadata": {},
   "outputs": [],
   "source": [
    "metal_to_magnet_producer = flow_metal_to_magnet_fixed_charge.gppd.X\n",
    "metal_to_magnet_producer = metal_to_magnet_producer.unstack(2).sort_index(axis = 1)\n",
    "metal_to_magnet_producer = metal_to_magnet_producer[year_index].reset_index()\n",
    "add_sheet_to_excelbook(output_file_path, \"metal to magnet producer\", metal_to_magnet_producer)"
   ]
  },
  {
   "cell_type": "code",
   "execution_count": 87,
   "metadata": {},
   "outputs": [],
   "source": [
    "waste_to_shredder_transport_cost = waste_to_shredder_tc * (flow_waste_to_shredder_fixed_charge.gppd.X)\n",
    "shredder_tranportation_cost = {}\n",
    "shredders_labels = waste_to_shredder_transport_cost.index.get_level_values(1).unique()\n",
    "for i in shredders_labels:\n",
    "    for t in year_index:\n",
    "        shredder_tranportation_cost[(i,t)] = waste_to_shredder_transport_cost.loc[slice(None), i, t].sum()\n",
    "shredder_tranportation_cost_ = pd.Series(shredder_tranportation_cost, name=\"Transportation cost\")\n",
    "shredder_tranportation_cost_ = shredder_tranportation_cost_.unstack(1)\n",
    "shredder_tranportation_cost_ = shredder_tranportation_cost_[year_index].reset_index()\n",
    "add_sheet_to_excelbook(output_file_path, \"Shredder TC record\", shredder_tranportation_cost_)"
   ]
  },
  {
   "cell_type": "code",
   "execution_count": 88,
   "metadata": {},
   "outputs": [],
   "source": [
    "shredder_to_oxide_operating_cost = oc_shredder * (flow_shredder_to_oxide_fixed_charge.gppd.X)\n",
    "shredder_operating_cost = {}\n",
    "shredders_labels = shredder_to_oxide_operating_cost.index.get_level_values(0).unique()\n",
    "for i in shredders_labels:\n",
    "    for t in year_index:\n",
    "        shredder_operating_cost[(i,t)] = shredder_to_oxide_operating_cost.loc[i, t, slice(None)].sum()\n",
    "shredder_operating_cost_ = pd.Series(shredder_operating_cost, name=\"Operating cost\")\n",
    "shredder_operating_cost_ = shredder_operating_cost_.unstack(1)\n",
    "shredder_operating_cost_ = shredder_operating_cost_[year_index].reset_index()\n",
    "add_sheet_to_excelbook(output_file_path, \"Shredder OC record\", shredder_operating_cost_)"
   ]
  },
  {
   "cell_type": "code",
   "execution_count": 89,
   "metadata": {},
   "outputs": [],
   "source": [
    "shredder_to_oxide_transport_cost = shredder_to_oxide_tc * (flow_shredder_to_oxide_fixed_charge.gppd.X)\n",
    "oxide_tranportation_cost = {}\n",
    "oxide_producers_labels = shredder_to_oxide_transport_cost.index.get_level_values(1).unique()\n",
    "for i in oxide_producers_labels:\n",
    "    for t in year_index:\n",
    "        oxide_tranportation_cost[(i,t)] = shredder_to_oxide_transport_cost.loc[slice(None), i, t].sum()\n",
    "oxide_tranportation_cost_ = pd.Series(oxide_tranportation_cost, name=\"Transportation cost\")\n",
    "oxide_tranportation_cost_ = oxide_tranportation_cost_.unstack(1)\n",
    "oxide_tranportation_cost_ = oxide_tranportation_cost_[year_index].reset_index()\n",
    "add_sheet_to_excelbook(output_file_path, \"Oxide TC record\", oxide_tranportation_cost_)"
   ]
  },
  {
   "cell_type": "code",
   "execution_count": 90,
   "metadata": {},
   "outputs": [],
   "source": [
    "oxide_to_fluoride_operating_cost = oc_oxide * (flow_oxide_to_fluoride_fixed_charge.gppd.X)\n",
    "oxide_producer_operating_cost = {}\n",
    "oxide_producers_labels = oxide_to_fluoride_operating_cost.index.get_level_values(0).unique()\n",
    "for i in oxide_producers_labels:\n",
    "    for t in year_index:\n",
    "        oxide_producer_operating_cost[(i,t)] = oxide_to_fluoride_operating_cost.loc[i, t, slice(None)].sum()\n",
    "oxide_producer_operating_cost_ = pd.Series(oxide_producer_operating_cost, name=\"Operating cost\")\n",
    "oxide_producer_operating_cost_ = oxide_producer_operating_cost_.unstack(1)\n",
    "oxide_producer_operating_cost_ = oxide_producer_operating_cost_[year_index].reset_index()\n",
    "add_sheet_to_excelbook(output_file_path, \"Oxide OC record\", oxide_producer_operating_cost_)"
   ]
  },
  {
   "cell_type": "code",
   "execution_count": 91,
   "metadata": {},
   "outputs": [],
   "source": [
    "oxide_to_fluoride_transport_cost = oxide_to_fluoride_tc * (flow_oxide_to_fluoride_fixed_charge.gppd.X)\n",
    "fluoride_tranportation_cost = {}\n",
    "fluoride_producers_labels = oxide_to_fluoride_transport_cost.index.get_level_values(1).unique()\n",
    "for i in fluoride_producers_labels:\n",
    "    for t in year_index:\n",
    "        fluoride_tranportation_cost[(i,t)] = oxide_to_fluoride_transport_cost.loc[slice(None), i, t].sum()\n",
    "fluoride_tranportation_cost_ = pd.Series(fluoride_tranportation_cost, name=\"Transportation cost\")\n",
    "fluoride_tranportation_cost_ = fluoride_tranportation_cost_.unstack(1)\n",
    "fluoride_tranportation_cost_ = fluoride_tranportation_cost_[year_index].reset_index()\n",
    "add_sheet_to_excelbook(output_file_path, \"Fluoride TC record\", fluoride_tranportation_cost_)"
   ]
  },
  {
   "cell_type": "code",
   "execution_count": 92,
   "metadata": {},
   "outputs": [],
   "source": [
    "fluoride_to_metal_operating_cost = oc_fluoride * (flow_fluoride_to_metal_fixed_charge.gppd.X)\n",
    "fluoride_producer_operating_cost = {}\n",
    "fluoride_producers_labels = fluoride_to_metal_operating_cost.index.get_level_values(0).unique()\n",
    "for i in fluoride_producers_labels:\n",
    "    for t in year_index:\n",
    "        fluoride_producer_operating_cost[(i,t)] = fluoride_to_metal_operating_cost.loc[i, t, slice(None)].sum()\n",
    "fluoride_producer_operating_cost_ = pd.Series(fluoride_producer_operating_cost, name=\"Operating cost\")\n",
    "fluoride_producer_operating_cost_ = fluoride_producer_operating_cost_.unstack(1)\n",
    "fluoride_producer_operating_cost_ = fluoride_producer_operating_cost_[year_index].reset_index()\n",
    "add_sheet_to_excelbook(output_file_path, \"Fluoride OC record\", fluoride_producer_operating_cost_)"
   ]
  },
  {
   "cell_type": "code",
   "execution_count": 93,
   "metadata": {},
   "outputs": [],
   "source": [
    "fluoride_to_metal_transport_cost = fluoride_to_metal_tc * (flow_fluoride_to_metal_fixed_charge.gppd.X)\n",
    "metal_tranportation_cost = {}\n",
    "metal_producers_labels = fluoride_to_metal_transport_cost.index.get_level_values(1).unique()\n",
    "for i in metal_producers_labels:\n",
    "    for t in year_index:\n",
    "        metal_tranportation_cost[(i,t)] = fluoride_to_metal_transport_cost.loc[slice(None), i, t].sum()\n",
    "metal_tranportation_cost_ = pd.Series(metal_tranportation_cost, name=\"Transportation cost\")\n",
    "metal_tranportation_cost_ = metal_tranportation_cost_.unstack(1)\n",
    "metal_tranportation_cost_ = metal_tranportation_cost_[year_index].reset_index()\n",
    "add_sheet_to_excelbook(output_file_path, \"REE TC record\", metal_tranportation_cost_)"
   ]
  },
  {
   "cell_type": "code",
   "execution_count": 94,
   "metadata": {},
   "outputs": [],
   "source": [
    "metal_to_magnet_operating_cost = oc_ree * (flow_metal_to_magnet_fixed_charge.gppd.X)\n",
    "metal_producer_operating_cost = {}\n",
    "metal_producers_labels = metal_to_magnet_operating_cost.index.get_level_values(0).unique()\n",
    "for i in metal_producers_labels:\n",
    "    for t in year_index:\n",
    "        metal_producer_operating_cost[(i,t)] = metal_to_magnet_operating_cost.loc[i, t, slice(None)].sum()\n",
    "metal_producer_operating_cost_ = pd.Series(metal_producer_operating_cost, name=\"Operating cost\")\n",
    "metal_producer_operating_cost_ = metal_producer_operating_cost_.unstack(1)\n",
    "metal_producer_operating_cost_ = metal_producer_operating_cost_[year_index].reset_index()\n",
    "add_sheet_to_excelbook(output_file_path, \"REE OC record\", metal_producer_operating_cost_)"
   ]
  },
  {
   "cell_type": "code",
   "execution_count": 95,
   "metadata": {},
   "outputs": [],
   "source": [
    "total_profit = obj_exprs_fixed_charge.getValue()\n",
    "total_revenue = total_revenue_fixed_charge.getValue()\n",
    "total_conversion_cost_shredder = total_conversion_cost_shredder_fixed_charge.getValue()\n",
    "total_conversion_cost_oxide = total_conversion_cost_oxide_fixed_charge.getValue()\n",
    "total_conversion_cost_fluoride = total_conversion_cost_fluoride_fixed_charge.getValue()\n",
    "total_conversion_cost_metal = total_conversion_cost_metal_fixed_charge.getValue()\n",
    "total_transportation_cost_shredder = total_transportation_cost_shredder_fixed_charge.getValue()\n",
    "total_transportation_cost_oxide = total_transportation_cost_oxide_fixed_charge.getValue()\n",
    "total_transportation_cost_fluoride = total_transportation_cost_fluoride_fixed_charge.getValue()\n",
    "total_transportation_cost_metal = total_transportation_cost_metal_fixed_charge.getValue()\n",
    "total_transportation_cost_waste = total_transportation_cost_waste_supplier_fixed_charge.getValue()\n",
    "total_fixed_setup_cost_oxide = total_fixed_cost_oxide.getValue()\n",
    "total_fixed_setup_cost_shredder = total_fixed_cost_shredder.getValue()\n",
    "\n",
    "output_data_path = os.path.join(os.path.abspath(os.path.join(os.getcwd(), os.pardir)), \"artifacts\", \"output.txt\")\n",
    "\n",
    "with open(output_data_path, 'w') as file:\n",
    "    # Write each variable on a new line\n",
    "    file.write(f\"Total Profit: {total_profit}\\n\")\n",
    "    file.write(f\"Total revenue: {total_revenue}\\n\")\n",
    "    file.write(f\"Total fixed setup cost for shredders: {total_fixed_setup_cost_shredder}\\n\")\n",
    "    file.write(f\"Total operating cost for shredders: {total_conversion_cost_shredder}\\n\")\n",
    "    file.write(f\"Total transportaion cost for shredders: {total_transportation_cost_waste}\\n\")\n",
    "    file.write(f\"Total fixed setup cost for oxide producers: {total_fixed_setup_cost_oxide}\\n\")\n",
    "    file.write(f\"Total operational cost for oxide producers: {total_conversion_cost_oxide}\\n\")\n",
    "    file.write(f\"Total transportaion cost for oxide producers: {total_transportation_cost_shredder}\\n\")\n",
    "    file.write(f\"Total operational cost for fluoride producers: {total_conversion_cost_fluoride}\\n\")\n",
    "    file.write(f\"Total transportation cost for fluoride producers: {total_transportation_cost_oxide}\\n\")\n",
    "    file.write(f\"Total operational cost for metal producers: {total_conversion_cost_metal}\\n\")\n",
    "    file.write(f\"Total transportation cost for metal producers: {total_transportation_cost_fluoride}\\n\")\n",
    "    "
   ]
  },
  {
   "cell_type": "code",
   "execution_count": null,
   "metadata": {},
   "outputs": [],
   "source": [
    "shredder_locations.set_index(\"from\", inplace=True)\n",
    "selected_shredders = shredder_locations.loc[~(shredder_locations==0).all(axis=1)].index\n",
    "selected_shredders_coordinates= pd.DataFrame.from_dict({s:shredders[s] for s in selected_shredders}, orient='index', columns=['Latitude', 'Longitude']).reset_index(drop=False)\n",
    "add_sheet_to_excelbook(output_file_path, \"Shredder Coordinates\", selected_shredders_coordinates)"
   ]
  },
  {
   "cell_type": "code",
   "execution_count": null,
   "metadata": {},
   "outputs": [],
   "source": [
    "oxide_producer_locations.set_index(\"from\", inplace=True)\n",
    "selected_oxide_producers = oxide_producer_locations.loc[~(oxide_producer_locations==0).all(axis=1)].index\n",
    "selected_oxide_producers_coordinates= pd.DataFrame.from_dict({s:oxide_producers[s] for s in selected_oxide_producers}, orient='index', columns=['Latitude', 'Longitude']).reset_index(drop=False)\n",
    "add_sheet_to_excelbook(output_file_path, \"Oxide_producers Coordinates\", selected_oxide_producers_coordinates)"
   ]
  },
  {
   "cell_type": "code",
   "execution_count": null,
   "metadata": {},
   "outputs": [],
   "source": [
    "waste_to_shredder.set_index([\"from\", \"to\"], inplace=True)\n",
    "selected_waste_source = waste_to_shredder.loc[~(waste_to_shredder==0).all(axis=1)].index.get_level_values(0).unique()\n",
    "selected_waste_source_coordinates = pd.DataFrame.from_dict({s:waste_source[s] for s in selected_waste_source}, orient='index', columns=['Latitude', 'Longitude']).reset_index(drop=False)\n",
    "add_sheet_to_excelbook(output_file_path, \"Waste Source Coordinates\", selected_waste_source_coordinates)"
   ]
  }
 ],
 "metadata": {
  "kernelspec": {
   "display_name": "Python 3",
   "language": "python",
   "name": "python3"
  },
  "language_info": {
   "codemirror_mode": {
    "name": "ipython",
    "version": 3
   },
   "file_extension": ".py",
   "mimetype": "text/x-python",
   "name": "python",
   "nbconvert_exporter": "python",
   "pygments_lexer": "ipython3",
   "version": "3.8.19"
  }
 },
 "nbformat": 4,
 "nbformat_minor": 2
}
